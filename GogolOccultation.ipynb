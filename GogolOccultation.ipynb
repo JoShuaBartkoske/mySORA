{
 "cells": [
  {
   "cell_type": "markdown",
   "metadata": {},
   "source": [
    "# Occultation of TYC 1868-02697-1 by (2361) Gogol"
   ]
  },
  {
   "cell_type": "markdown",
   "metadata": {},
   "source": [
    "This occultation took place on Dec 6, 2024"
   ]
  },
  {
   "cell_type": "code",
   "execution_count": 1,
   "metadata": {},
   "outputs": [
    {
     "name": "stdout",
     "output_type": "stream",
     "text": [
      "2024-12-7\n"
     ]
    }
   ],
   "source": [
    "# Define the initial values for setting up the rest of the analysis and for print statements\n",
    "date = \"2024-12-06\"\n",
    "date_plus_one = \"2024-12-07\"\n",
    "dateP1 = date.replace(date[-2:],str(int(date[-2:])+1))\n",
    "print(dateP1)\n",
    "star_id = \"UCAC4 630-011205\"\n",
    "asteroid_name = \"Gogol\""
   ]
  },
  {
   "cell_type": "code",
   "execution_count": 2,
   "metadata": {},
   "outputs": [
    {
     "name": "stdout",
     "output_type": "stream",
     "text": [
      "SORA version: 0.3.1\n"
     ]
    }
   ],
   "source": [
    "## SORA package\n",
    "from sora import Occultation, Body, Star, LightCurve, Observer\n",
    "from sora.prediction import prediction\n",
    "from sora.extra import draw_ellipse\n",
    "\n",
    "## Other main packages\n",
    "from astropy.time import Time\n",
    "import astropy.units as u\n",
    "\n",
    "## Usual packages\n",
    "import numpy as np\n",
    "import matplotlib.pylab as pl\n",
    "import os\n",
    "import sys\n",
    "\n",
    "# Add the directory to sys.path\n",
    "sys.path.append('/home/joshuabartkoske/AO/scripts')\n",
    "from Occultations2 import Open_Two_Column_File"
   ]
  },
  {
   "cell_type": "code",
   "execution_count": 3,
   "metadata": {},
   "outputs": [
    {
     "name": "stdout",
     "output_type": "stream",
     "text": [
      "Obtaining data for Gogol from SBDB\n"
     ]
    }
   ],
   "source": [
    "# First, let's consider the Solar System Body\n",
    "\n",
    "gogol = Body(name=asteroid_name)\n",
    "                #,ephem=['guidelines/input/bsp/Chariklo.bsp', 'guidelines/input/bsp/de438_small.bsp'])\n"
   ]
  },
  {
   "cell_type": "code",
   "execution_count": 4,
   "metadata": {},
   "outputs": [
    {
     "name": "stdout",
     "output_type": "stream",
     "text": [
      "Ephemeris was split in 1 parts for better search of stars\n",
      "\n",
      "Searching occultations in part 1/1\n",
      "Generating Ephemeris between 2024-12-06 00:00:00.000 and 2024-12-06 23:59:00.000 ...\n",
      "Downloading stars ...\n",
      "    1 GaiaDR3 stars downloaded\n",
      "Identifying occultations ...\n",
      "\n",
      "1 occultations found.\n"
     ]
    },
    {
     "name": "stderr",
     "output_type": "stream",
     "text": [
      "WARNING: AstropyDeprecationWarning: The get_moon function is deprecated and may be removed in a future version.\n",
      "        Use get_body(\"moon\") instead. [sora.prediction.table]\n",
      "WARNING: NonRotationTransformationWarning: transforming other coordinates from <ICRS Frame> to <GCRS Frame (obstime=['2024-12-06 09:39:24.840'], obsgeoloc=(0., 0., 0.) m, obsgeovel=(0., 0., 0.) m / s)>. Angular separation can depend on the direction of the transformation. [astropy.coordinates.baseframe]\n",
      "WARNING: NonRotationTransformationWarning: transforming other coordinates from <ICRS Frame> to <GCRS Frame (obstime=['2024-12-06 09:39:24.840'], obsgeoloc=(0., 0., 0.) m, obsgeovel=(0., 0., 0.) m / s)>. Angular separation can depend on the direction of the transformation. [astropy.coordinates.baseframe]\n"
     ]
    },
    {
     "data": {
      "text/html": [
       "<div><i>PredictionTable length=1</i>\n",
       "<table id=\"table131057617244832\" class=\"table-striped table-bordered table-condensed\">\n",
       "<thead><tr><th>Epoch</th><th>ICRS Star Coord at Epoch</th><th>Geocentric Object Position</th><th>C/A</th><th>P/A</th><th>Vel</th><th>Dist</th><th>G</th><th>long</th><th>loct</th><th>M-G-T</th><th>S-G-T</th><th>GaiaDR3 Source ID</th></tr></thead>\n",
       "<thead><tr><th></th><th></th><th></th><th>arcsec</th><th>deg</th><th>km / s</th><th>AU</th><th>mag</th><th>deg</th><th>hh:mm</th><th>deg</th><th>deg</th><th></th></tr></thead>\n",
       "<thead><tr><th>object</th><th>object</th><th>object</th><th>float64</th><th>float64</th><th>float64</th><th>float64</th><th>float64</th><th>float64</th><th>str5</th><th>float64</th><th>float64</th><th>str19</th></tr></thead>\n",
       "<tr><td>2024-12-06 09:39:24.840</td><td>06 02 46.17445 +25 05 11.20579</td><td>06 02 46.17765 +25 05 11.90409</td><td>0.700</td><td>3.55</td><td>-10.35</td><td>1.836</td><td>11.006</td><td>230</td><td>01:00</td><td>135</td><td>164</td><td>3426528795697982336</td></tr>\n",
       "</table></div>"
      ],
      "text/plain": [
       "<PredictionTable length=1>\n",
       "         Epoch             ICRS Star Coord at Epoch    ...  GaiaDR3 Source ID \n",
       "                                                       ...                    \n",
       "         object                     object             ...        str19       \n",
       "----------------------- ------------------------------ ... -------------------\n",
       "2024-12-06 09:39:24.840 06 02 46.17445 +25 05 11.20579 ... 3426528795697982336"
      ]
     },
     "execution_count": 4,
     "metadata": {},
     "output_type": "execute_result"
    }
   ],
   "source": [
    "pred = prediction(body=gogol, time_beg=date,time_end=date_plus_one,mag_lim=14)\n",
    "pred"
   ]
  },
  {
   "cell_type": "code",
   "execution_count": 5,
   "metadata": {},
   "outputs": [
    {
     "name": "stdout",
     "output_type": "stream",
     "text": [
      "figures/observations/Gogol_2024-12-06_map.png generated\n"
     ]
    }
   ],
   "source": [
    "## ploting the occultation map\n",
    "\n",
    "pred['2024-12-06 09:39:24.840'].plot_occ_map(nameimg=f'figures/observations/{asteroid_name}_{date}_map')"
   ]
  },
  {
   "cell_type": "code",
   "execution_count": 6,
   "metadata": {},
   "outputs": [
    {
     "name": "stdout",
     "output_type": "stream",
     "text": [
      "1 GaiaDR3 star found band={'G': 11.006119}\n",
      "star coordinate at J2016.0: RA=6h02m46.17328s +/- 0.0163 mas, DEC=25d05m11.2210s +/- 0.0128 mas\n",
      "\n",
      "Downloading star parameters from I/297/out\n",
      "GaiaDR3 star Source ID: 3426528795697982336\n",
      "ICRS star coordinate at J2016.0:\n",
      "RA=6h02m46.17328s +/- 0.0163 mas, DEC=25d05m11.2210s +/- 0.0128 mas\n",
      "pmRA=1.803 +/- 0.019 mas/yr, pmDEC=-1.725 +/- 0.013 mas/yr\n",
      "GaiaDR3 Proper motion corrected as suggested by Cantat-Gaudin & Brandt (2021) \n",
      "Plx=0.4798 +/- 0.0188 mas, Rad. Vel.=38.60 +/- 0.26 km/s \n",
      "\n",
      "Magnitudes: G: 11.006, B: 12.782, V: 11.352, R: 10.470, J:  8.925, H:  8.327,\n",
      "            K:  8.148\n",
      "\n",
      "Apparent diameter from Kervella et. al (2004):\n",
      "    V: 0.1347 mas, B: 0.1362 mas\n",
      "Apparent diameter from van Belle (1999):\n",
      "    sg: B: 0.1291 mas, V: 0.1297 mas\n",
      "    ms: B: 0.1938 mas, V: 0.1190 mas\n",
      "    vs: B: 0.1825 mas, V: 0.1648 mas\n"
     ]
    }
   ],
   "source": [
    "star_occ = Star(code=pred['2024-12-06 09:39:24.840'][\"GaiaDR3 Source ID\"])\n",
    "\n",
    "print(star_occ)"
   ]
  },
  {
   "cell_type": "code",
   "execution_count": 7,
   "metadata": {},
   "outputs": [
    {
     "name": "stderr",
     "output_type": "stream",
     "text": [
      "WARNING: AstropyDeprecationWarning: The get_moon function is deprecated and may be removed in a future version.\n",
      "        Use get_body(\"moon\") instead. [sora.prediction.table]\n",
      "WARNING: NonRotationTransformationWarning: transforming other coordinates from <ICRS Frame> to <GCRS Frame (obstime=['2024-12-06 09:39:24.820'], obsgeoloc=(0., 0., 0.) m, obsgeovel=(0., 0., 0.) m / s)>. Angular separation can depend on the direction of the transformation. [astropy.coordinates.baseframe]\n",
      "WARNING: NonRotationTransformationWarning: transforming other coordinates from <ICRS Frame> to <GCRS Frame (obstime=['2024-12-06 09:39:24.820'], obsgeoloc=(0., 0., 0.) m, obsgeovel=(0., 0., 0.) m / s)>. Angular separation can depend on the direction of the transformation. [astropy.coordinates.baseframe]\n"
     ]
    }
   ],
   "source": [
    "occ = Occultation(star=star_occ, body=gogol, time='2024-12-06 09:39:24.840')\n"
   ]
  },
  {
   "cell_type": "code",
   "execution_count": 8,
   "metadata": {},
   "outputs": [
    {
     "name": "stdout",
     "output_type": "stream",
     "text": [
      "Site: Telescope 2\n",
      "Geodetic coordinates: Lon: -110d57m06.8976s, Lat: 31d40m28.2756s, height: 1.260 km\n"
     ]
    }
   ],
   "source": [
    "# Define our observers as each telescope at VERITAS\n",
    "T1 = Observer(name='Telescope 1', lat='31 40 29.5572', lon='-110 57 3.456', height =1268)\n",
    "T2 = Observer(name='Telescope 2', lat='31 40 28.2756', lon='-110 57 6.8976', height =1260)\n",
    "T3 = Observer(name='Telescope 3', lat='31 40 31.8936', lon='-110 57 7.4844', height =1267)\n",
    "T4 = Observer(name='Telescope 4', lat='31 40 30.2556', lon='-110 57 9.9756', height =1265)\n",
    "\n",
    "print(T2)"
   ]
  },
  {
   "cell_type": "code",
   "execution_count": 9,
   "metadata": {},
   "outputs": [],
   "source": [
    "# set up the objects for the occultation parameter calculation\n",
    "from sora import EphemHorizons\n",
    "gogol_time = Time(\"2024-12-06 09:39:24.840\")\n",
    "gogol_ephem = EphemHorizons(name='gogol')\n",
    "gogol_star = star_occ"
   ]
  },
  {
   "cell_type": "code",
   "execution_count": 10,
   "metadata": {},
   "outputs": [
    {
     "name": "stdout",
     "output_type": "stream",
     "text": [
      "Occultation of UCAC4 630-011205 by Gogol over VERITAS\n",
      "--------------------------------------------------------\n",
      "Time of closest approach: 2024-12-06 09:36:49.360\n",
      "Distance of closest approach: 0.0023153790483755013 arcsec \n",
      "Position angle of closest approach: 2.5131815545220437 deg\n",
      "Velocity of occultation shadow: -10.720355409191294 km / s \n",
      "Distance to the occulting body: 274724774.13527244 km or 1.8364216873527497 AU\n"
     ]
    }
   ],
   "source": [
    "from sora.prediction import occ_params\n",
    "time_of_closest_approach, distance_of_closest_approach, position_angle_of_closest_approach, velocity_shadow, distance_to_object = occ_params(star=gogol_star, ephem=gogol_ephem, time=gogol_time, max_tdiff=600, reference_center=T1)\n",
    "\n",
    "print(f\"Occultation of {star_id} by {asteroid_name} over VERITAS\")\n",
    "print(\"--------------------------------------------------------\")\n",
    "print(f\"Time of closest approach: {time_of_closest_approach}\")\n",
    "print(f\"Distance of closest approach: {distance_of_closest_approach} \")\n",
    "print(f\"Position angle of closest approach: {position_angle_of_closest_approach}\")\n",
    "print(f\"Velocity of occultation shadow: {velocity_shadow} \")\n",
    "print(f\"Distance to the occulting body: {distance_to_object.to(u.km)} or {distance_to_object}\")"
   ]
  },
  {
   "cell_type": "code",
   "execution_count": null,
   "metadata": {},
   "outputs": [],
   "source": []
  }
 ],
 "metadata": {
  "kernelspec": {
   "display_name": "mySORA_env",
   "language": "python",
   "name": "python3"
  },
  "language_info": {
   "codemirror_mode": {
    "name": "ipython",
    "version": 3
   },
   "file_extension": ".py",
   "mimetype": "text/x-python",
   "name": "python",
   "nbconvert_exporter": "python",
   "pygments_lexer": "ipython3",
   "version": "3.10.12"
  }
 },
 "nbformat": 4,
 "nbformat_minor": 2
}
