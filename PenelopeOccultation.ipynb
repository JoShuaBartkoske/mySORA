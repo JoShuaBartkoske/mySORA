{
 "cells": [
  {
   "cell_type": "markdown",
   "id": "f6d84855",
   "metadata": {},
   "source": [
    "# Occultation of TYC 278-748-1 by (201) Penelope"
   ]
  },
  {
   "cell_type": "markdown",
   "id": "d5abb8eb",
   "metadata": {},
   "source": [
    "This occultation took place on May 22, 2018"
   ]
  },
  {
   "cell_type": "code",
   "execution_count": 11,
   "id": "b26ae0a6",
   "metadata": {},
   "outputs": [
    {
     "name": "stdout",
     "output_type": "stream",
     "text": [
      "2018-05-23\n"
     ]
    }
   ],
   "source": [
    "# Define the initial values for setting up the rest of the analysis and for print statements\n",
    "date = \"2018-05-22\"\n",
    "date_plus_one = \"2018-05-23\"\n",
    "dateP1 = date.replace(date[-2:],str(int(date[-2:])+1))\n",
    "print(dateP1)\n",
    "star_id = \"TYC 278-748-1\"\n",
    "asteroid_name = \"Penelope\""
   ]
  },
  {
   "cell_type": "code",
   "execution_count": 13,
   "id": "b71f81d4",
   "metadata": {},
   "outputs": [],
   "source": [
    "## SORA package\n",
    "from sora import Occultation, Body, Star, LightCurve, Observer\n",
    "from sora.prediction import prediction\n",
    "from sora.extra import draw_ellipse\n",
    "\n",
    "## Other main packages\n",
    "from astropy.time import Time\n",
    "import astropy.units as u\n",
    "\n",
    "## Usual packages\n",
    "import numpy as np\n",
    "import matplotlib.pylab as pl\n",
    "import os\n",
    "import sys\n",
    "\n",
    "# Add the directory to sys.path\n",
    "sys.path.append('/home/joshuabartkoske/AO/scripts')"
   ]
  },
  {
   "cell_type": "code",
   "execution_count": 15,
   "id": "3ee9e9aa",
   "metadata": {},
   "outputs": [
    {
     "name": "stdout",
     "output_type": "stream",
     "text": [
      "Obtaining data for Penelope from SBDB\n"
     ]
    }
   ],
   "source": [
    "# First, let's consider the Solar System Body\n",
    "\n",
    "penelope = Body(name=asteroid_name)\n",
    "                #,ephem=['guidelines/input/bsp/Chariklo.bsp', 'guidelines/input/bsp/de438_small.bsp'])\n"
   ]
  },
  {
   "cell_type": "code",
   "execution_count": 16,
   "id": "f3e1369c",
   "metadata": {},
   "outputs": [
    {
     "name": "stdout",
     "output_type": "stream",
     "text": [
      "Ephemeris was split in 1 parts for better search of stars\n",
      "\n",
      "Searching occultations in part 1/1\n",
      "Generating Ephemeris between 2018-05-22 00:00:00.000 and 2018-05-22 23:59:00.000 ...\n",
      "Downloading stars ...\n",
      "    1 GaiaDR3 stars downloaded\n",
      "Identifying occultations ...\n",
      "\n",
      "1 occultations found.\n"
     ]
    },
    {
     "name": "stderr",
     "output_type": "stream",
     "text": [
      "WARNING: AstropyDeprecationWarning: The get_moon function is deprecated and may be removed in a future version.\n",
      "        Use get_body(\"moon\") instead. [sora.prediction.table]\n",
      "WARNING: NonRotationTransformationWarning: transforming other coordinates from <ICRS Frame> to <GCRS Frame (obstime=['2018-05-22 05:22:37.780'], obsgeoloc=(0., 0., 0.) m, obsgeovel=(0., 0., 0.) m / s)>. Angular separation can depend on the direction of the transformation. [astropy.coordinates.baseframe]\n",
      "WARNING: NonRotationTransformationWarning: transforming other coordinates from <ICRS Frame> to <GCRS Frame (obstime=['2018-05-22 05:22:37.780'], obsgeoloc=(0., 0., 0.) m, obsgeovel=(0., 0., 0.) m / s)>. Angular separation can depend on the direction of the transformation. [astropy.coordinates.baseframe]\n"
     ]
    },
    {
     "data": {
      "text/html": [
       "<div><i>PredictionTable length=1</i>\n",
       "<table id=\"table135293626873600\" class=\"table-striped table-bordered table-condensed\">\n",
       "<thead><tr><th>Epoch</th><th>ICRS Star Coord at Epoch</th><th>Geocentric Object Position</th><th>C/A</th><th>P/A</th><th>Vel</th><th>Dist</th><th>G</th><th>long</th><th>loct</th><th>M-G-T</th><th>S-G-T</th><th>GaiaDR3 Source ID</th></tr></thead>\n",
       "<thead><tr><th></th><th></th><th></th><th>arcsec</th><th>deg</th><th>km / s</th><th>AU</th><th>mag</th><th>deg</th><th>hh:mm</th><th>deg</th><th>deg</th><th></th></tr></thead>\n",
       "<thead><tr><th>object</th><th>object</th><th>object</th><th>float64</th><th>float64</th><th>float64</th><th>float64</th><th>float64</th><th>float64</th><th>str5</th><th>float64</th><th>float64</th><th>str19</th></tr></thead>\n",
       "<tr><td>2018-05-22 05:22:37.780</td><td>11 46 48.43088 +05 52 30.54196</td><td>11 46 48.50668 +05 52 32.48645</td><td>2.250</td><td>30.19</td><td>2.20</td><td>2.490</td><td>9.668</td><td>216</td><td>19:47</td><td>23</td><td>114</td><td>3897637333122421376</td></tr>\n",
       "</table></div>"
      ],
      "text/plain": [
       "<PredictionTable length=1>\n",
       "         Epoch             ICRS Star Coord at Epoch    ...  GaiaDR3 Source ID \n",
       "                                                       ...                    \n",
       "         object                     object             ...        str19       \n",
       "----------------------- ------------------------------ ... -------------------\n",
       "2018-05-22 05:22:37.780 11 46 48.43088 +05 52 30.54196 ... 3897637333122421376"
      ]
     },
     "execution_count": 16,
     "metadata": {},
     "output_type": "execute_result"
    }
   ],
   "source": [
    "pred = prediction(body=penelope, time_beg=date,time_end=date_plus_one,mag_lim=14)\n",
    "pred"
   ]
  },
  {
   "cell_type": "code",
   "execution_count": 17,
   "id": "f956969e",
   "metadata": {},
   "outputs": [
    {
     "name": "stdout",
     "output_type": "stream",
     "text": [
      "figures/observations/Penelope_2018-05-22_map.png generated\n"
     ]
    }
   ],
   "source": [
    "## ploting the occultation map\n",
    "penelope_time = '2018-05-22 05:22:37.780'\n",
    "\n",
    "pred[penelope_time].plot_occ_map(nameimg=f'figures/observations/{asteroid_name}_{date}_map')"
   ]
  },
  {
   "cell_type": "code",
   "execution_count": null,
   "id": "15dea85a",
   "metadata": {},
   "outputs": [],
   "source": [
    "# create a map of the occultation\n",
    "sites = {}\n",
    "sites['VERITAS'] = [ -110.950960, 31.674877, 20, 20, 'blue', 'o'] # T1 coordinates\n",
    "pred[penelope_time].plot_occ_map(nameimg='figures/observations/yrsa_20191101_map_zoomed', resolution=3, zoom=5, centerproj=[-111, 32], sites=sites)"
   ]
  },
  {
   "cell_type": "code",
   "execution_count": 18,
   "id": "2c666fad",
   "metadata": {},
   "outputs": [
    {
     "name": "stdout",
     "output_type": "stream",
     "text": [
      "1 GaiaDR3 star found band={'G': 9.668172}\n",
      "star coordinate at J2016.0: RA=11h46m48.43094s +/- 0.0142 mas, DEC=5d52m30.6630s +/- 0.0152 mas\n",
      "\n",
      "Downloading star parameters from I/297/out\n",
      "GaiaDR3 star Source ID: 3897637333122421376\n",
      "ICRS star coordinate at J2016.0:\n",
      "RA=11h46m48.43094s +/- 0.0142 mas, DEC=5d52m30.6630s +/- 0.0152 mas\n",
      "pmRA=1.260 +/- 0.021 mas/yr, pmDEC=-51.538 +/- 0.021 mas/yr\n",
      "GaiaDR3 Proper motion corrected as suggested by Cantat-Gaudin & Brandt (2021) \n",
      "Plx=4.7322 +/- 0.0181 mas, Rad. Vel.=14.42 +/- 0.26 km/s \n",
      "\n",
      "Magnitudes: G:  9.668, B: 10.328, V:  9.867, R:  9.560, J:  8.692, H:  8.427,\n",
      "            K:  8.294\n",
      "\n",
      "Apparent diameter from Kervella et. al (2004):\n",
      "    V: 0.0948 mas, B: 0.0925 mas\n",
      "Apparent diameter from van Belle (1999):\n",
      "    sg: B: 0.1071 mas, V: 0.1113 mas\n",
      "    ms: B: 0.1057 mas, V: 0.0875 mas\n",
      "    vs: B: 0.1598 mas, V: 0.1441 mas\n"
     ]
    }
   ],
   "source": [
    "star_occ = Star(code=pred[penelope_time][\"GaiaDR3 Source ID\"])\n",
    "\n",
    "print(star_occ)"
   ]
  },
  {
   "cell_type": "code",
   "execution_count": 19,
   "id": "e9183aa6",
   "metadata": {},
   "outputs": [
    {
     "name": "stderr",
     "output_type": "stream",
     "text": [
      "WARNING: AstropyDeprecationWarning: The get_moon function is deprecated and may be removed in a future version.\n",
      "        Use get_body(\"moon\") instead. [sora.prediction.table]\n",
      "WARNING: NonRotationTransformationWarning: transforming other coordinates from <ICRS Frame> to <GCRS Frame (obstime=['2018-05-22 05:22:37.820'], obsgeoloc=(0., 0., 0.) m, obsgeovel=(0., 0., 0.) m / s)>. Angular separation can depend on the direction of the transformation. [astropy.coordinates.baseframe]\n",
      "WARNING: NonRotationTransformationWarning: transforming other coordinates from <ICRS Frame> to <GCRS Frame (obstime=['2018-05-22 05:22:37.820'], obsgeoloc=(0., 0., 0.) m, obsgeovel=(0., 0., 0.) m / s)>. Angular separation can depend on the direction of the transformation. [astropy.coordinates.baseframe]\n"
     ]
    }
   ],
   "source": [
    "occ = Occultation(star=star_occ, body=penelope, time=penelope_time)\n"
   ]
  },
  {
   "cell_type": "code",
   "execution_count": 20,
   "id": "6f8c82d6",
   "metadata": {},
   "outputs": [
    {
     "name": "stdout",
     "output_type": "stream",
     "text": [
      "Site: Telescope 2\n",
      "Geodetic coordinates: Lon: -110d57m06.8976s, Lat: 31d40m28.2756s, height: 1.260 km\n"
     ]
    }
   ],
   "source": [
    "# Define our observers as each telescope at VERITAS\n",
    "T1 = Observer(name='Telescope 1', lat='31 40 29.5572', lon='-110 57 3.456', height =1268)\n",
    "T2 = Observer(name='Telescope 2', lat='31 40 28.2756', lon='-110 57 6.8976', height =1260)\n",
    "T3 = Observer(name='Telescope 3', lat='31 40 31.8936', lon='-110 57 7.4844', height =1267)\n",
    "T4 = Observer(name='Telescope 4', lat='31 40 30.2556', lon='-110 57 9.9756', height =1265)\n",
    "\n",
    "print(T2)"
   ]
  },
  {
   "cell_type": "code",
   "execution_count": 21,
   "id": "7c4a4934",
   "metadata": {},
   "outputs": [],
   "source": [
    "# set up the objects for the occultation parameter calculation\n",
    "from sora import EphemHorizons\n",
    "penelope_time = Time(penelope_time)\n",
    "penelope_ephem = EphemHorizons(name='penelope')\n",
    "penelope_star = star_occ"
   ]
  },
  {
   "cell_type": "code",
   "execution_count": 22,
   "id": "d2ad1297",
   "metadata": {},
   "outputs": [
    {
     "name": "stdout",
     "output_type": "stream",
     "text": [
      "Occultation of TYC 278-748-1 by Penelope over VERITAS\n",
      "--------------------------------------------------------\n",
      "Time of closest approach: 2018-05-22 05:32:04.940\n",
      "Distance of closest approach: 0.011901497498435875 arcsec \n",
      "Position angle of closest approach: 35.54982341984089 deg\n",
      "Velocity of occultation shadow: 1.9417454245389167 km / s \n",
      "Distance to the occulting body: 372529949.908228 km or 2.49020890581585 AU\n"
     ]
    }
   ],
   "source": [
    "from sora.prediction import occ_params\n",
    "time_of_closest_approach, distance_of_closest_approach, position_angle_of_closest_approach, velocity_shadow, distance_to_object = occ_params(star=penelope_star, ephem=penelope_ephem, time=penelope_time, max_tdiff=600, reference_center=T1)\n",
    "\n",
    "print(f\"Occultation of {star_id} by {asteroid_name} over VERITAS\")\n",
    "print(\"--------------------------------------------------------\")\n",
    "print(f\"Time of closest approach: {time_of_closest_approach}\")\n",
    "print(f\"Distance of closest approach: {distance_of_closest_approach} \")\n",
    "print(f\"Position angle of closest approach: {position_angle_of_closest_approach}\")\n",
    "print(f\"Velocity of occultation shadow: {velocity_shadow} \")\n",
    "print(f\"Distance to the occulting body: {distance_to_object.to(u.km)} or {distance_to_object}\")"
   ]
  },
  {
   "cell_type": "code",
   "execution_count": null,
   "id": "6e27c594",
   "metadata": {},
   "outputs": [],
   "source": []
  }
 ],
 "metadata": {
  "kernelspec": {
   "display_name": "mySORA_env",
   "language": "python",
   "name": "python3"
  },
  "language_info": {
   "codemirror_mode": {
    "name": "ipython",
    "version": 3
   },
   "file_extension": ".py",
   "mimetype": "text/x-python",
   "name": "python",
   "nbconvert_exporter": "python",
   "pygments_lexer": "ipython3",
   "version": "3.10.12"
  }
 },
 "nbformat": 4,
 "nbformat_minor": 5
}
