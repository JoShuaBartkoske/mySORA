{
 "cells": [
  {
   "cell_type": "markdown",
   "metadata": {},
   "source": [
    "# Occultation of TYC 2441-1090-1 by (1737) Severny"
   ]
  },
  {
   "cell_type": "markdown",
   "metadata": {},
   "source": [
    "This code will detail the full parameters of the occultation that occurred on Oct 21, 2019 UTC"
   ]
  },
  {
   "cell_type": "code",
   "execution_count": 1,
   "metadata": {},
   "outputs": [
    {
     "name": "stdout",
     "output_type": "stream",
     "text": [
      "SORA version: 0.3.1\n"
     ]
    }
   ],
   "source": [
    "## SORA package\n",
    "from sora import Occultation, Body, Star, LightCurve, Observer, EphemHorizons\n",
    "from sora.prediction import prediction, occ_params\n",
    "from sora.extra import draw_ellipse\n",
    "\n",
    "## Other main packages\n",
    "from astropy.time import Time\n",
    "import astropy.units as u\n",
    "\n",
    "## Usual packages\n",
    "import numpy as np\n",
    "import matplotlib.pylab as pl\n",
    "import os\n",
    "import sys\n",
    "\n",
    "# Add the directory to sys.path\n",
    "sys.path.append('/home/joshuabartkoske/AO/scripts')\n",
    "from Occultations2 import Open_Two_Column_File"
   ]
  },
  {
   "cell_type": "code",
   "execution_count": 2,
   "metadata": {},
   "outputs": [
    {
     "name": "stdout",
     "output_type": "stream",
     "text": [
      "Obtaining data for severny from SBDB\n"
     ]
    }
   ],
   "source": [
    "# first define the solar system body\n",
    "severny = Body(name=\"severny\")"
   ]
  },
  {
   "cell_type": "code",
   "execution_count": 3,
   "metadata": {},
   "outputs": [
    {
     "name": "stdout",
     "output_type": "stream",
     "text": [
      "Ephemeris was split in 1 parts for better search of stars\n",
      "\n",
      "Searching occultations in part 1/1\n",
      "Generating Ephemeris between 2019-10-20 00:00:00.000 and 2019-10-21 23:59:00.000 ...\n",
      "Downloading stars ...\n",
      "    2 GaiaDR3 stars downloaded\n",
      "Identifying occultations ...\n",
      "\n",
      "1 occultations found.\n"
     ]
    },
    {
     "name": "stderr",
     "output_type": "stream",
     "text": [
      "WARNING: AstropyDeprecationWarning: The get_moon function is deprecated and may be removed in a future version.\n",
      "        Use get_body(\"moon\") instead. [sora.prediction.table]\n",
      "WARNING: NonRotationTransformationWarning: transforming other coordinates from <ICRS Frame> to <GCRS Frame (obstime=['2019-10-21 09:35:39.820'], obsgeoloc=(0., 0., 0.) m, obsgeovel=(0., 0., 0.) m / s)>. Angular separation can depend on the direction of the transformation. [astropy.coordinates.baseframe]\n",
      "WARNING: NonRotationTransformationWarning: transforming other coordinates from <ICRS Frame> to <GCRS Frame (obstime=['2019-10-21 09:35:39.820'], obsgeoloc=(0., 0., 0.) m, obsgeovel=(0., 0., 0.) m / s)>. Angular separation can depend on the direction of the transformation. [astropy.coordinates.baseframe]\n"
     ]
    }
   ],
   "source": [
    "severny_pred     = prediction(body=severny, time_beg='2019-10-20',time_end='2019-10-22',mag_lim=13)"
   ]
  },
  {
   "cell_type": "code",
   "execution_count": 4,
   "metadata": {},
   "outputs": [
    {
     "data": {
      "text/html": [
       "<div><i>PredictionTable length=1</i>\n",
       "<table id=\"table133640938473360\" class=\"table-striped table-bordered table-condensed\">\n",
       "<thead><tr><th>Epoch</th><th>ICRS Star Coord at Epoch</th><th>Geocentric Object Position</th><th>C/A</th><th>P/A</th><th>Vel</th><th>Dist</th><th>G</th><th>long</th><th>loct</th><th>M-G-T</th><th>S-G-T</th><th>GaiaDR3 Source ID</th></tr></thead>\n",
       "<thead><tr><th></th><th></th><th></th><th>arcsec</th><th>deg</th><th>km / s</th><th>AU</th><th>mag</th><th>deg</th><th>hh:mm</th><th>deg</th><th>deg</th><th></th></tr></thead>\n",
       "<thead><tr><th>object</th><th>object</th><th>object</th><th>float64</th><th>float64</th><th>float64</th><th>float64</th><th>float64</th><th>float64</th><th>str5</th><th>float64</th><th>float64</th><th>str18</th></tr></thead>\n",
       "<tr><td>2019-10-21 09:35:39.820</td><td>06 55 14.94469 +32 41 40.46826</td><td>06 55 14.92852 +32 41 41.26388</td><td>0.821</td><td>345.61</td><td>8.18</td><td>2.628</td><td>10.262</td><td>290</td><td>04:57</td><td>16</td><td>105</td><td>937491893571120768</td></tr>\n",
       "</table></div>"
      ],
      "text/plain": [
       "<PredictionTable length=1>\n",
       "         Epoch             ICRS Star Coord at Epoch    ... GaiaDR3 Source ID \n",
       "                                                       ...                   \n",
       "         object                     object             ...       str18       \n",
       "----------------------- ------------------------------ ... ------------------\n",
       "2019-10-21 09:35:39.820 06 55 14.94469 +32 41 40.46826 ... 937491893571120768"
      ]
     },
     "execution_count": 4,
     "metadata": {},
     "output_type": "execute_result"
    }
   ],
   "source": [
    "severny_pred"
   ]
  },
  {
   "cell_type": "code",
   "execution_count": 5,
   "metadata": {},
   "outputs": [
    {
     "data": {
      "text/html": [
       "<i>PredictRow index=0</i>\n",
       "<table id=\"table133640938473360\">\n",
       "<thead><tr><th>Epoch</th><th>ICRS Star Coord at Epoch</th><th>Geocentric Object Position</th><th>C/A</th><th>P/A</th><th>Vel</th><th>Dist</th><th>G</th><th>long</th><th>loct</th><th>M-G-T</th><th>S-G-T</th><th>GaiaDR3 Source ID</th></tr></thead>\n",
       "<thead><tr><th></th><th></th><th></th><th>arcsec</th><th>deg</th><th>km / s</th><th>AU</th><th>mag</th><th>deg</th><th>hh:mm</th><th>deg</th><th>deg</th><th></th></tr></thead>\n",
       "<thead><tr><th>object</th><th>object</th><th>object</th><th>float64</th><th>float64</th><th>float64</th><th>float64</th><th>float64</th><th>float64</th><th>str5</th><th>float64</th><th>float64</th><th>str18</th></tr></thead>\n",
       "<tr><td>2019-10-21 09:35:39.820</td><td>06 55 14.94469 +32 41 40.46826</td><td>06 55 14.92852 +32 41 41.26388</td><td>0.821</td><td>345.61</td><td>8.18</td><td>2.628</td><td>10.262</td><td>290</td><td>04:57</td><td>16</td><td>105</td><td>937491893571120768</td></tr>\n",
       "</table>"
      ],
      "text/plain": [
       "<PredictRow index=0>\n",
       "         Epoch             ICRS Star Coord at Epoch      Geocentric Object Position     C/A     P/A     Vel     Dist     G      long   loct  M-G-T   S-G-T  GaiaDR3 Source ID \n",
       "                                                                                       arcsec   deg    km / s    AU     mag     deg   hh:mm   deg     deg                     \n",
       "         object                     object                         object             float64 float64 float64 float64 float64 float64  str5 float64 float64       str18       \n",
       "----------------------- ------------------------------ ------------------------------ ------- ------- ------- ------- ------- ------- ----- ------- ------- ------------------\n",
       "2019-10-21 09:35:39.820 06 55 14.94469 +32 41 40.46826 06 55 14.92852 +32 41 41.26388   0.821  345.61    8.18   2.628  10.262     290 04:57      16     105 937491893571120768"
      ]
     },
     "execution_count": 5,
     "metadata": {},
     "output_type": "execute_result"
    }
   ],
   "source": [
    "VERITAS_severny_occ = severny_pred[\"2019-10-21 09:35:39.820\"]\n",
    "VERITAS_severny_occ"
   ]
  },
  {
   "cell_type": "code",
   "execution_count": 6,
   "metadata": {},
   "outputs": [],
   "source": [
    "# Define VERITAS as a location: We will use T1 as our coordinates:\n",
    "VERITAS = Observer(name=\"VERITAS\", lon='-110 57 3.456', lat='31 40 29.5572', height =1268)"
   ]
  },
  {
   "cell_type": "code",
   "execution_count": null,
   "metadata": {},
   "outputs": [
    {
     "name": "stdout",
     "output_type": "stream",
     "text": [
      "figures/predictions/severny_20250224_map.png generated\n"
     ]
    }
   ],
   "source": [
    "# create a map of the occultation\n",
    "VERITAS_severny_occ.plot_occ_map(nameimg='figures/predictions/severny_20191021_map')"
   ]
  },
  {
   "cell_type": "markdown",
   "metadata": {},
   "source": [
    "Calculate the exact occultation values at the time and location of the occultation. To do that, we need to set up a Time object, an Ephemeris object, and a Star object"
   ]
  },
  {
   "cell_type": "code",
   "execution_count": 10,
   "metadata": {},
   "outputs": [
    {
     "name": "stdout",
     "output_type": "stream",
     "text": [
      "1 GaiaDR3 star found band={'G': 10.262267}\n",
      "star coordinate at J2016.0: RA=6h55m14.94435s +/- 0.016 mas, DEC=32d41m40.5095s +/- 0.0146 mas\n",
      "\n",
      "Downloading star parameters from I/297/out\n"
     ]
    }
   ],
   "source": [
    "# set up the objects for the occultation parameter calculation\n",
    "severny_time = Time(\"2019-10-21 09:35:39.820\")\n",
    "severny_ephem = EphemHorizons(name='severny')\n",
    "severny_star = Star(catalogue='gaiadr3', code='937491893571120768')"
   ]
  },
  {
   "cell_type": "code",
   "execution_count": null,
   "metadata": {},
   "outputs": [
    {
     "name": "stdout",
     "output_type": "stream",
     "text": [
      "Occultation of severny by UCAC4 699-044550 over VERITAS\n",
      "--------------------------------------------------------\n",
      "Time of closest approach: 2019-10-21 09:28:37.940\n",
      "Distance of closest approach: 0.002751819545483195 arcsec \n",
      "Position angle of closest approach: 164.15379527457407 deg\n",
      "Velocity of occultation shadow: 7.9439757952004175 km / s \n",
      "Distance to the occulting body: 393084683.14024436 km or 2.62760881088025 AU\n"
     ]
    }
   ],
   "source": [
    "time_of_closest_approach, distance_of_closest_approach, position_angle_of_closest_approach, velocity_shadow, distance_to_object = occ_params(star=severny_star, ephem=severny_ephem, time=severny_time, max_tdiff=600, reference_center=VERITAS)\n",
    "\n",
    "print(\"Occultation of severny by TYC 2441-1090-1 over VERITAS\")\n",
    "print(\"--------------------------------------------------------\")\n",
    "print(f\"Time of closest approach: {time_of_closest_approach}\")\n",
    "print(f\"Distance of closest approach: {distance_of_closest_approach} \")\n",
    "print(f\"Position angle of closest approach: {position_angle_of_closest_approach}\")\n",
    "print(f\"Velocity of occultation shadow: {velocity_shadow} \")\n",
    "print(f\"Distance to the occulting body: {distance_to_object.to(u.km)} or {distance_to_object}\")"
   ]
  },
  {
   "cell_type": "code",
   "execution_count": null,
   "metadata": {},
   "outputs": [],
   "source": []
  }
 ],
 "metadata": {
  "kernelspec": {
   "display_name": "mySORA_env",
   "language": "python",
   "name": "python3"
  },
  "language_info": {
   "codemirror_mode": {
    "name": "ipython",
    "version": 3
   },
   "file_extension": ".py",
   "mimetype": "text/x-python",
   "name": "python",
   "nbconvert_exporter": "python",
   "pygments_lexer": "ipython3",
   "version": "3.10.12"
  }
 },
 "nbformat": 4,
 "nbformat_minor": 2
}
