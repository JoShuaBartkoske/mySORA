{
 "cells": [
  {
   "cell_type": "markdown",
   "metadata": {},
   "source": [
    "**Occultation of UCAC4 699-044550 by (4954) Eric**"
   ]
  },
  {
   "cell_type": "markdown",
   "metadata": {},
   "source": [
    "This code will detail the full understanding of the occultation that occurred on Feb 24, 2025 UTC and shows strange dips in the light curve similar to occultations but there are +20 of them in a 5 minute span."
   ]
  },
  {
   "cell_type": "code",
   "execution_count": 1,
   "metadata": {},
   "outputs": [
    {
     "name": "stdout",
     "output_type": "stream",
     "text": [
      "SORA version: 0.3.1\n"
     ]
    }
   ],
   "source": [
    "## SORA package\n",
    "from sora import Occultation, Body, Star, LightCurve, Observer, EphemHorizons\n",
    "from sora.prediction import prediction, occ_params\n",
    "from sora.extra import draw_ellipse\n",
    "\n",
    "## Other main packages\n",
    "from astropy.time import Time\n",
    "import astropy.units as u\n",
    "\n",
    "## Usual packages\n",
    "import numpy as np\n",
    "import matplotlib.pylab as pl\n",
    "import os\n",
    "import sys\n",
    "\n",
    "# Add the directory to sys.path\n",
    "sys.path.append('/home/joshuabartkoske/AO/scripts')\n",
    "from Occultations2 import Open_Two_Column_File"
   ]
  },
  {
   "cell_type": "code",
   "execution_count": 2,
   "metadata": {},
   "outputs": [
    {
     "name": "stdout",
     "output_type": "stream",
     "text": [
      "Obtaining data for Eric from SBDB\n"
     ]
    }
   ],
   "source": [
    "# first define the solar system body\n",
    "eric = Body(name=\"Eric\")"
   ]
  },
  {
   "cell_type": "code",
   "execution_count": 5,
   "metadata": {},
   "outputs": [
    {
     "name": "stdout",
     "output_type": "stream",
     "text": [
      "Ephemeris was split in 1 parts for better search of stars\n",
      "\n",
      "Searching occultations in part 1/1\n",
      "Generating Ephemeris between 2025-02-23 00:00:00.000 and 2025-02-24 23:59:00.000 ...\n",
      "Downloading stars ...\n",
      "    626 GaiaDR3 stars downloaded\n",
      "Identifying occultations ...\n",
      "\n",
      "7 occultations found.\n"
     ]
    },
    {
     "name": "stderr",
     "output_type": "stream",
     "text": [
      "WARNING: AstropyDeprecationWarning: The get_moon function is deprecated and may be removed in a future version.\n",
      "        Use get_body(\"moon\") instead. [sora.prediction.table]\n",
      "WARNING: NonRotationTransformationWarning: transforming other coordinates from <ICRS Frame> to <GCRS Frame (obstime=['2025-02-24 17:07:24.380' '2025-02-24 11:06:07.400'\n",
      " '2025-02-24 05:19:11.420' '2025-02-24 04:57:35.920'\n",
      " '2025-02-23 18:17:26.700' '2025-02-23 04:52:51.760'\n",
      " '2025-02-23 01:21:54.840'], obsgeoloc=(0., 0., 0.) m, obsgeovel=(0., 0., 0.) m / s)>. Angular separation can depend on the direction of the transformation. [astropy.coordinates.baseframe]\n",
      "WARNING: NonRotationTransformationWarning: transforming other coordinates from <ICRS Frame> to <GCRS Frame (obstime=['2025-02-24 17:07:24.380' '2025-02-24 11:06:07.400'\n",
      " '2025-02-24 05:19:11.420' '2025-02-24 04:57:35.920'\n",
      " '2025-02-23 18:17:26.700' '2025-02-23 04:52:51.760'\n",
      " '2025-02-23 01:21:54.840'], obsgeoloc=(0., 0., 0.) m, obsgeovel=(0., 0., 0.) m / s)>. Angular separation can depend on the direction of the transformation. [astropy.coordinates.baseframe]\n"
     ]
    }
   ],
   "source": [
    "eric_pred     = prediction(body=eric, time_beg='2025-02-23',time_end='2025-02-25',mag_lim=14)"
   ]
  },
  {
   "cell_type": "code",
   "execution_count": 6,
   "metadata": {},
   "outputs": [
    {
     "data": {
      "text/html": [
       "<div><i>PredictionTable length=7</i>\n",
       "<table id=\"table140192382938240\" class=\"table-striped table-bordered table-condensed\">\n",
       "<thead><tr><th>Epoch</th><th>ICRS Star Coord at Epoch</th><th>Geocentric Object Position</th><th>C/A</th><th>P/A</th><th>Vel</th><th>Dist</th><th>G</th><th>long</th><th>loct</th><th>M-G-T</th><th>S-G-T</th><th>GaiaDR3 Source ID</th></tr></thead>\n",
       "<thead><tr><th></th><th></th><th></th><th>arcsec</th><th>deg</th><th>km / s</th><th>AU</th><th>mag</th><th>deg</th><th>hh:mm</th><th>deg</th><th>deg</th><th></th></tr></thead>\n",
       "<thead><tr><th>object</th><th>object</th><th>object</th><th>float64</th><th>float64</th><th>float64</th><th>float64</th><th>float64</th><th>float64</th><th>str5</th><th>float64</th><th>float64</th><th>str18</th></tr></thead>\n",
       "<tr><td>2025-02-23 01:21:54.840</td><td>06 22 34.11285 +50 14 09.92237</td><td>06 27 39.94482 +49 20 47.29478</td><td>11.883</td><td>227.07</td><td>16.27</td><td>0.731</td><td>13.196</td><td>282</td><td>20:09</td><td>158</td><td>116</td><td>971163749976968576</td></tr>\n",
       "<tr><td>2025-02-23 04:52:51.760</td><td>06 23 01.12808 +50 09 20.94526</td><td>06 26 54.13647 +49 28 48.18911</td><td>5.010</td><td>227.08</td><td>16.28</td><td>0.732</td><td>13.394</td><td>229</td><td>20:09</td><td>158</td><td>116</td><td>970784899501938304</td></tr>\n",
       "<tr><td>2025-02-23 18:17:26.700</td><td>06 24 44.22715 +49 51 09.10374</td><td>06 26 09.93478 +49 36 30.97593</td><td>10.675</td><td>47.08</td><td>16.32</td><td>0.738</td><td>12.583</td><td>28</td><td>20:09</td><td>158</td><td>116</td><td>970730572459411712</td></tr>\n",
       "<tr><td>2025-02-24 04:57:35.920</td><td>06 26 07.13902 +49 36 59.46788</td><td>06 26 07.17689 +49 36 59.80985</td><td>0.502</td><td>47.10</td><td>16.35</td><td>0.742</td><td>12.903</td><td>228</td><td>20:08</td><td>156</td><td>116</td><td>970712091216469504</td></tr>\n",
       "<tr><td>2025-02-24 05:19:11.420</td><td>06 26 09.84198 +49 36 30.13748</td><td>06 24 45.03543 +49 51 16.37314</td><td>1.231</td><td>47.09</td><td>16.35</td><td>0.742</td><td>13.495</td><td>222</td><td>20:08</td><td>156</td><td>116</td><td>970712091216468736</td></tr>\n",
       "<tr><td>2025-02-24 11:06:07.400</td><td>06 26 53.31673 +49 28 40.76120</td><td>06 23 00.74636 +50 09 17.53330</td><td>10.909</td><td>47.08</td><td>16.37</td><td>0.744</td><td>13.117</td><td>136</td><td>20:08</td><td>155</td><td>116</td><td>967707710052979968</td></tr>\n",
       "<tr><td>2025-02-24 17:07:24.380</td><td>06 27 39.34743 +49 20 41.86670</td><td>06 22 33.20598 +50 14 01.82865</td><td>7.972</td><td>47.08</td><td>16.39</td><td>0.747</td><td>13.985</td><td>45</td><td>20:08</td><td>153</td><td>116</td><td>967697367771728000</td></tr>\n",
       "</table></div>"
      ],
      "text/plain": [
       "<PredictionTable length=7>\n",
       "         Epoch             ICRS Star Coord at Epoch    ... GaiaDR3 Source ID \n",
       "                                                       ...                   \n",
       "         object                     object             ...       str18       \n",
       "----------------------- ------------------------------ ... ------------------\n",
       "2025-02-23 01:21:54.840 06 22 34.11285 +50 14 09.92237 ... 971163749976968576\n",
       "2025-02-23 04:52:51.760 06 23 01.12808 +50 09 20.94526 ... 970784899501938304\n",
       "2025-02-23 18:17:26.700 06 24 44.22715 +49 51 09.10374 ... 970730572459411712\n",
       "2025-02-24 04:57:35.920 06 26 07.13902 +49 36 59.46788 ... 970712091216469504\n",
       "2025-02-24 05:19:11.420 06 26 09.84198 +49 36 30.13748 ... 970712091216468736\n",
       "2025-02-24 11:06:07.400 06 26 53.31673 +49 28 40.76120 ... 967707710052979968\n",
       "2025-02-24 17:07:24.380 06 27 39.34743 +49 20 41.86670 ... 967697367771728000"
      ]
     },
     "execution_count": 6,
     "metadata": {},
     "output_type": "execute_result"
    }
   ],
   "source": [
    "eric_pred"
   ]
  },
  {
   "cell_type": "code",
   "execution_count": 10,
   "metadata": {},
   "outputs": [
    {
     "data": {
      "text/html": [
       "<i>PredictRow index=3</i>\n",
       "<table id=\"table140192382938240\">\n",
       "<thead><tr><th>Epoch</th><th>ICRS Star Coord at Epoch</th><th>Geocentric Object Position</th><th>C/A</th><th>P/A</th><th>Vel</th><th>Dist</th><th>G</th><th>long</th><th>loct</th><th>M-G-T</th><th>S-G-T</th><th>GaiaDR3 Source ID</th></tr></thead>\n",
       "<thead><tr><th></th><th></th><th></th><th>arcsec</th><th>deg</th><th>km / s</th><th>AU</th><th>mag</th><th>deg</th><th>hh:mm</th><th>deg</th><th>deg</th><th></th></tr></thead>\n",
       "<thead><tr><th>object</th><th>object</th><th>object</th><th>float64</th><th>float64</th><th>float64</th><th>float64</th><th>float64</th><th>float64</th><th>str5</th><th>float64</th><th>float64</th><th>str18</th></tr></thead>\n",
       "<tr><td>2025-02-24 04:57:35.920</td><td>06 26 07.13902 +49 36 59.46788</td><td>06 26 07.17689 +49 36 59.80985</td><td>0.502</td><td>47.10</td><td>16.35</td><td>0.742</td><td>12.903</td><td>228</td><td>20:08</td><td>156</td><td>116</td><td>970712091216469504</td></tr>\n",
       "</table>"
      ],
      "text/plain": [
       "<PredictRow index=3>\n",
       "         Epoch             ICRS Star Coord at Epoch      Geocentric Object Position     C/A     P/A     Vel     Dist     G      long   loct  M-G-T   S-G-T  GaiaDR3 Source ID \n",
       "                                                                                       arcsec   deg    km / s    AU     mag     deg   hh:mm   deg     deg                     \n",
       "         object                     object                         object             float64 float64 float64 float64 float64 float64  str5 float64 float64       str18       \n",
       "----------------------- ------------------------------ ------------------------------ ------- ------- ------- ------- ------- ------- ----- ------- ------- ------------------\n",
       "2025-02-24 04:57:35.920 06 26 07.13902 +49 36 59.46788 06 26 07.17689 +49 36 59.80985   0.502   47.10   16.35   0.742  12.903     228 20:08     156     116 970712091216469504"
      ]
     },
     "execution_count": 10,
     "metadata": {},
     "output_type": "execute_result"
    }
   ],
   "source": [
    "VERITAS_Eric_occ = eric_pred[\"2025-02-24 04:57:35.920\"]\n",
    "VERITAS_Eric_occ"
   ]
  },
  {
   "cell_type": "code",
   "execution_count": 8,
   "metadata": {},
   "outputs": [],
   "source": [
    "# Define VERITAS as a location: We will use T1 as our coordinates:\n",
    "VERITAS = Observer(name=\"VERITAS\", lon='-110 57 3.456', lat='31 40 29.5572', height =1268)"
   ]
  },
  {
   "cell_type": "code",
   "execution_count": 17,
   "metadata": {},
   "outputs": [
    {
     "name": "stdout",
     "output_type": "stream",
     "text": [
      "figures/predictions/Eric_20250224_map.png generated\n"
     ]
    }
   ],
   "source": [
    "# create a map of the occultation\n",
    "VERITAS_Eric_occ.plot_occ_map(nameimg='figures/predictions/Eric_20250224_map')"
   ]
  },
  {
   "cell_type": "markdown",
   "metadata": {},
   "source": [
    "Calculate the exact occultation values at the time and location of the occultation. To do that, we need to set up a Time object, an Ephemeris object, and a Star object"
   ]
  },
  {
   "cell_type": "code",
   "execution_count": 11,
   "metadata": {},
   "outputs": [
    {
     "name": "stdout",
     "output_type": "stream",
     "text": [
      "1 GaiaDR3 star found band={'G': 12.902519}\n",
      "star coordinate at J2016.0: RA=6h26m07.13955s +/- 0.0167 mas, DEC=49d36m59.5693s +/- 0.0165 mas\n",
      "\n",
      "Downloading star parameters from I/297/out\n"
     ]
    }
   ],
   "source": [
    "# set up the objects for the occultation parameter calculation\n",
    "eric_time = Time(\"2025-02-24 04:57:35.920\")\n",
    "eric_ephem = EphemHorizons(name='Eric')\n",
    "eric_star = Star(catalogue='gaiadr3', code='970712091216469504')"
   ]
  },
  {
   "cell_type": "code",
   "execution_count": 14,
   "metadata": {},
   "outputs": [
    {
     "name": "stdout",
     "output_type": "stream",
     "text": [
      "Occultation of Eric by UCAC4 699-044550 over VERITAS\n",
      "--------------------------------------------------------\n",
      "Time of closest approach: 2025-02-24 05:00:14.320\n",
      "Distance of closest approach: 0.07307628246857868 arcsec \n",
      "Position angle of closest approach: 228.1270004251341 deg\n",
      "Velocity of occultation shadow: 16.187101232019295 km / s \n",
      "Distance to the occulting body: 110980256.81765926 km or 0.74185719554937 AU\n"
     ]
    }
   ],
   "source": [
    "time_of_closest_approach, distance_of_closest_approach, position_angle_of_closest_approach, velocity_shadow, distance_to_object = occ_params(star=eric_star, ephem=eric_ephem, time=eric_time, max_tdiff=600, reference_center=VERITAS)\n",
    "\n",
    "print(\"Occultation of Eric by UCAC4 699-044550 over VERITAS\")\n",
    "print(\"--------------------------------------------------------\")\n",
    "print(f\"Time of closest approach: {time_of_closest_approach}\")\n",
    "print(f\"Distance of closest approach: {distance_of_closest_approach} \")\n",
    "print(f\"Position angle of closest approach: {position_angle_of_closest_approach}\")\n",
    "print(f\"Velocity of occultation shadow: {velocity_shadow} \")\n",
    "print(f\"Distance to the occulting body: {distance_to_object.to(u.km)} or {distance_to_object}\")"
   ]
  },
  {
   "cell_type": "code",
   "execution_count": null,
   "metadata": {},
   "outputs": [
    {
     "name": "stdout",
     "output_type": "stream",
     "text": [
      "Time begun: Tue Mar 25 16:45:47 2025\n",
      "Time finished: Tue Mar 25 16:45:47 2025\n"
     ]
    },
    {
     "ename": "ValueError",
     "evalue": "Input values did not match any of the formats where the format keyword is optional:\n- 'datetime': Input values for datetime class must be datetime objects\n- 'ymdhms': input must be dict or table-like\n- 'iso': Time Tue Mar 25 16:45:47 2025 does not match iso format\n- 'isot': Time Tue Mar 25 16:45:47 2025 does not match isot format\n- 'yday': Time Tue Mar 25 16:45:47 2025 does not match yday format\n- 'datetime64': Input values for datetime64 class must be datetime64 objects\n- 'fits': Time Tue Mar 25 16:45:47 2025 does not match fits format\n- 'byear_str': Time Tue Mar 25 16:45:47 2025 does not match byear_str format\n- 'jyear_str': Time Tue Mar 25 16:45:47 2025 does not match jyear_str format\n- 'astropy_time': Input values for astropy_time class must all be the same astropy Time type.",
     "output_type": "error",
     "traceback": [
      "\u001b[0;31m---------------------------------------------------------------------------\u001b[0m",
      "\u001b[0;31mValueError\u001b[0m                                Traceback (most recent call last)",
      "Cell \u001b[0;32mIn[19], line 7\u001b[0m\n\u001b[1;32m      5\u001b[0m time_finished \u001b[38;5;241m=\u001b[39m time\u001b[38;5;241m.\u001b[39mctime(time\u001b[38;5;241m.\u001b[39mtime())\n\u001b[1;32m      6\u001b[0m \u001b[38;5;28mprint\u001b[39m(\u001b[38;5;124mf\u001b[39m\u001b[38;5;124m\"\u001b[39m\u001b[38;5;124mTime finished: \u001b[39m\u001b[38;5;132;01m{\u001b[39;00mtime_finished\u001b[38;5;132;01m}\u001b[39;00m\u001b[38;5;124m\"\u001b[39m)\n\u001b[0;32m----> 7\u001b[0m \u001b[38;5;28mprint\u001b[39m(\u001b[38;5;124mf\u001b[39m\u001b[38;5;124m\"\u001b[39m\u001b[38;5;124mTotal Time taken: \u001b[39m\u001b[38;5;132;01m{\u001b[39;00m\u001b[43mTime\u001b[49m\u001b[43m(\u001b[49m\u001b[43mtime_finished\u001b[49m\u001b[43m)\u001b[49m\u001b[38;5;250m \u001b[39m\u001b[38;5;241m-\u001b[39m\u001b[38;5;250m \u001b[39mTime(time_begun)\u001b[38;5;132;01m}\u001b[39;00m\u001b[38;5;124m\"\u001b[39m)\n",
      "File \u001b[0;32m~/mySORA_env/lib/python3.10/site-packages/astropy/time/core.py:2021\u001b[0m, in \u001b[0;36mTime.__init__\u001b[0;34m(self, val, val2, format, scale, precision, in_subfmt, out_subfmt, location, copy)\u001b[0m\n\u001b[1;32m   2019\u001b[0m         \u001b[38;5;28mself\u001b[39m\u001b[38;5;241m.\u001b[39m_set_scale(scale)\n\u001b[1;32m   2020\u001b[0m \u001b[38;5;28;01melse\u001b[39;00m:\n\u001b[0;32m-> 2021\u001b[0m     \u001b[38;5;28;43mself\u001b[39;49m\u001b[38;5;241;43m.\u001b[39;49m\u001b[43m_init_from_vals\u001b[49m\u001b[43m(\u001b[49m\n\u001b[1;32m   2022\u001b[0m \u001b[43m        \u001b[49m\u001b[43mval\u001b[49m\u001b[43m,\u001b[49m\u001b[43m \u001b[49m\u001b[43mval2\u001b[49m\u001b[43m,\u001b[49m\u001b[43m \u001b[49m\u001b[38;5;28;43mformat\u001b[39;49m\u001b[43m,\u001b[49m\u001b[43m \u001b[49m\u001b[43mscale\u001b[49m\u001b[43m,\u001b[49m\u001b[43m \u001b[49m\u001b[43mcopy\u001b[49m\u001b[43m,\u001b[49m\u001b[43m \u001b[49m\u001b[43mprecision\u001b[49m\u001b[43m,\u001b[49m\u001b[43m \u001b[49m\u001b[43min_subfmt\u001b[49m\u001b[43m,\u001b[49m\u001b[43m \u001b[49m\u001b[43mout_subfmt\u001b[49m\n\u001b[1;32m   2023\u001b[0m \u001b[43m    \u001b[49m\u001b[43m)\u001b[49m\n\u001b[1;32m   2024\u001b[0m     \u001b[38;5;28mself\u001b[39m\u001b[38;5;241m.\u001b[39mSCALES \u001b[38;5;241m=\u001b[39m TIME_TYPES[\u001b[38;5;28mself\u001b[39m\u001b[38;5;241m.\u001b[39mscale]\n\u001b[1;32m   2026\u001b[0m \u001b[38;5;28;01mif\u001b[39;00m \u001b[38;5;28mself\u001b[39m\u001b[38;5;241m.\u001b[39mlocation \u001b[38;5;129;01mis\u001b[39;00m \u001b[38;5;129;01mnot\u001b[39;00m \u001b[38;5;28;01mNone\u001b[39;00m \u001b[38;5;129;01mand\u001b[39;00m (\n\u001b[1;32m   2027\u001b[0m     \u001b[38;5;28mself\u001b[39m\u001b[38;5;241m.\u001b[39mlocation\u001b[38;5;241m.\u001b[39msize \u001b[38;5;241m>\u001b[39m \u001b[38;5;241m1\u001b[39m \u001b[38;5;129;01mand\u001b[39;00m \u001b[38;5;28mself\u001b[39m\u001b[38;5;241m.\u001b[39mlocation\u001b[38;5;241m.\u001b[39mshape \u001b[38;5;241m!=\u001b[39m \u001b[38;5;28mself\u001b[39m\u001b[38;5;241m.\u001b[39mshape\n\u001b[1;32m   2028\u001b[0m ):\n",
      "File \u001b[0;32m~/mySORA_env/lib/python3.10/site-packages/astropy/time/core.py:559\u001b[0m, in \u001b[0;36mTimeBase._init_from_vals\u001b[0;34m(self, val, val2, format, scale, copy, precision, in_subfmt, out_subfmt)\u001b[0m\n\u001b[1;32m    556\u001b[0m mask, val_data2 \u001b[38;5;241m=\u001b[39m get_mask_and_data(mask, val2)\n\u001b[1;32m    558\u001b[0m \u001b[38;5;66;03m# Parse / convert input values into internal jd1, jd2 based on format\u001b[39;00m\n\u001b[0;32m--> 559\u001b[0m \u001b[38;5;28mself\u001b[39m\u001b[38;5;241m.\u001b[39m_time \u001b[38;5;241m=\u001b[39m \u001b[38;5;28;43mself\u001b[39;49m\u001b[38;5;241;43m.\u001b[39;49m\u001b[43m_get_time_fmt\u001b[49m\u001b[43m(\u001b[49m\n\u001b[1;32m    560\u001b[0m \u001b[43m    \u001b[49m\u001b[43mval_data\u001b[49m\u001b[43m,\u001b[49m\u001b[43m \u001b[49m\u001b[43mval_data2\u001b[49m\u001b[43m,\u001b[49m\u001b[43m \u001b[49m\u001b[38;5;28;43mformat\u001b[39;49m\u001b[43m,\u001b[49m\u001b[43m \u001b[49m\u001b[43mscale\u001b[49m\u001b[43m,\u001b[49m\u001b[43m \u001b[49m\u001b[43mprecision\u001b[49m\u001b[43m,\u001b[49m\u001b[43m \u001b[49m\u001b[43min_subfmt\u001b[49m\u001b[43m,\u001b[49m\u001b[43m \u001b[49m\u001b[43mout_subfmt\u001b[49m\u001b[43m,\u001b[49m\u001b[43m \u001b[49m\u001b[43mmask\u001b[49m\n\u001b[1;32m    561\u001b[0m \u001b[43m\u001b[49m\u001b[43m)\u001b[49m\n\u001b[1;32m    562\u001b[0m \u001b[38;5;28mself\u001b[39m\u001b[38;5;241m.\u001b[39m_format \u001b[38;5;241m=\u001b[39m \u001b[38;5;28mself\u001b[39m\u001b[38;5;241m.\u001b[39m_time\u001b[38;5;241m.\u001b[39mname\n\u001b[1;32m    564\u001b[0m \u001b[38;5;66;03m# Hack from #9969 to allow passing the location value that has been\u001b[39;00m\n\u001b[1;32m    565\u001b[0m \u001b[38;5;66;03m# collected by the TimeAstropyTime format class up to the Time level.\u001b[39;00m\n\u001b[1;32m    566\u001b[0m \u001b[38;5;66;03m# TODO: find a nicer way.\u001b[39;00m\n",
      "File \u001b[0;32m~/mySORA_env/lib/python3.10/site-packages/astropy/time/core.py:655\u001b[0m, in \u001b[0;36mTimeBase._get_time_fmt\u001b[0;34m(self, val, val2, format, scale, precision, in_subfmt, out_subfmt, mask)\u001b[0m\n\u001b[1;32m    649\u001b[0m             problems[name] \u001b[38;5;241m=\u001b[39m err\n\u001b[1;32m    651\u001b[0m message \u001b[38;5;241m=\u001b[39m (\n\u001b[1;32m    652\u001b[0m     \u001b[38;5;124m\"\u001b[39m\u001b[38;5;124mInput values did not match any of the formats where the format \u001b[39m\u001b[38;5;124m\"\u001b[39m\n\u001b[1;32m    653\u001b[0m     \u001b[38;5;124m\"\u001b[39m\u001b[38;5;124mkeyword is optional:\u001b[39m\u001b[38;5;130;01m\\n\u001b[39;00m\u001b[38;5;124m\"\u001b[39m\n\u001b[1;32m    654\u001b[0m ) \u001b[38;5;241m+\u001b[39m \u001b[38;5;124m\"\u001b[39m\u001b[38;5;130;01m\\n\u001b[39;00m\u001b[38;5;124m\"\u001b[39m\u001b[38;5;241m.\u001b[39mjoin(\u001b[38;5;124mf\u001b[39m\u001b[38;5;124m\"\u001b[39m\u001b[38;5;124m- \u001b[39m\u001b[38;5;124m'\u001b[39m\u001b[38;5;132;01m{\u001b[39;00mname\u001b[38;5;132;01m}\u001b[39;00m\u001b[38;5;124m'\u001b[39m\u001b[38;5;124m: \u001b[39m\u001b[38;5;132;01m{\u001b[39;00merr\u001b[38;5;132;01m}\u001b[39;00m\u001b[38;5;124m\"\u001b[39m \u001b[38;5;28;01mfor\u001b[39;00m name, err \u001b[38;5;129;01min\u001b[39;00m problems\u001b[38;5;241m.\u001b[39mitems())\n\u001b[0;32m--> 655\u001b[0m \u001b[38;5;28;01mraise\u001b[39;00m \u001b[38;5;167;01mValueError\u001b[39;00m(message)\n",
      "\u001b[0;31mValueError\u001b[0m: Input values did not match any of the formats where the format keyword is optional:\n- 'datetime': Input values for datetime class must be datetime objects\n- 'ymdhms': input must be dict or table-like\n- 'iso': Time Tue Mar 25 16:45:47 2025 does not match iso format\n- 'isot': Time Tue Mar 25 16:45:47 2025 does not match isot format\n- 'yday': Time Tue Mar 25 16:45:47 2025 does not match yday format\n- 'datetime64': Input values for datetime64 class must be datetime64 objects\n- 'fits': Time Tue Mar 25 16:45:47 2025 does not match fits format\n- 'byear_str': Time Tue Mar 25 16:45:47 2025 does not match byear_str format\n- 'jyear_str': Time Tue Mar 25 16:45:47 2025 does not match jyear_str format\n- 'astropy_time': Input values for astropy_time class must all be the same astropy Time type."
     ]
    }
   ],
   "source": []
  },
  {
   "cell_type": "code",
   "execution_count": null,
   "metadata": {},
   "outputs": [],
   "source": []
  }
 ],
 "metadata": {
  "kernelspec": {
   "display_name": "mySORA_env",
   "language": "python",
   "name": "python3"
  },
  "language_info": {
   "codemirror_mode": {
    "name": "ipython",
    "version": 3
   },
   "file_extension": ".py",
   "mimetype": "text/x-python",
   "name": "python",
   "nbconvert_exporter": "python",
   "pygments_lexer": "ipython3",
   "version": "3.10.12"
  }
 },
 "nbformat": 4,
 "nbformat_minor": 2
}
