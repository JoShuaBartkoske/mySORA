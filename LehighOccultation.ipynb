{
 "cells": [
  {
   "cell_type": "markdown",
   "metadata": {},
   "source": [
    "# Occultation of UCAC4 360-083902 by (691) Lehigh"
   ]
  },
  {
   "cell_type": "markdown",
   "metadata": {},
   "source": [
    "This occultation took place on June 3, 2022"
   ]
  },
  {
   "cell_type": "code",
   "execution_count": 27,
   "metadata": {},
   "outputs": [
    {
     "name": "stdout",
     "output_type": "stream",
     "text": [
      "2022-06-4\n"
     ]
    }
   ],
   "source": [
    "# Define the initial values for setting up the rest of the analysis and for print statements\n",
    "date = \"2022-06-03\"\n",
    "date_plus_one = \"2022-06-04\"\n",
    "dateP1 = date.replace(date[-2:],str(int(date[-2:])+1))\n",
    "print(dateP1)\n",
    "star_id = \"UCAC4 360-083902\"\n",
    "asteroid_name = \"Lehigh\""
   ]
  },
  {
   "cell_type": "code",
   "execution_count": 11,
   "metadata": {},
   "outputs": [],
   "source": [
    "## SORA package\n",
    "from sora import Occultation, Body, Star, LightCurve, Observer\n",
    "from sora.prediction import prediction\n",
    "from sora.extra import draw_ellipse\n",
    "\n",
    "## Other main packages\n",
    "from astropy.time import Time\n",
    "import astropy.units as u\n",
    "\n",
    "## Usual packages\n",
    "import numpy as np\n",
    "import matplotlib.pylab as pl\n",
    "import os\n",
    "import sys\n",
    "\n",
    "# Add the directory to sys.path\n",
    "sys.path.append('/home/joshuabartkoske/AO/scripts')\n",
    "from Occultations2 import Open_Two_Column_File"
   ]
  },
  {
   "cell_type": "code",
   "execution_count": 18,
   "metadata": {},
   "outputs": [
    {
     "name": "stdout",
     "output_type": "stream",
     "text": [
      "Obtaining data for Lehigh from SBDB\n"
     ]
    }
   ],
   "source": [
    "# First, let's consider the Solar System Body\n",
    "\n",
    "lehigh = Body(name=asteroid_name)\n",
    "                #,ephem=['guidelines/input/bsp/Chariklo.bsp', 'guidelines/input/bsp/de438_small.bsp'])\n"
   ]
  },
  {
   "cell_type": "code",
   "execution_count": 19,
   "metadata": {},
   "outputs": [
    {
     "name": "stdout",
     "output_type": "stream",
     "text": [
      "Ephemeris was split in 1 parts for better search of stars\n",
      "\n",
      "Searching occultations in part 1/1\n",
      "Generating Ephemeris between 2022-06-03 00:00:00.000 and 2022-06-03 23:59:00.000 ...\n",
      "Downloading stars ...\n",
      "    4 GaiaDR3 stars downloaded\n",
      "Identifying occultations ...\n",
      "\n",
      "2 occultations found.\n"
     ]
    },
    {
     "name": "stderr",
     "output_type": "stream",
     "text": [
      "WARNING: AstropyDeprecationWarning: The get_moon function is deprecated and may be removed in a future version.\n",
      "        Use get_body(\"moon\") instead. [sora.prediction.table]\n",
      "WARNING: NonRotationTransformationWarning: transforming other coordinates from <ICRS Frame> to <GCRS Frame (obstime=['2022-06-03 01:42:02.340' '2022-06-03 09:18:40.540'], obsgeoloc=(0., 0., 0.) m, obsgeovel=(0., 0., 0.) m / s)>. Angular separation can depend on the direction of the transformation. [astropy.coordinates.baseframe]\n",
      "WARNING: NonRotationTransformationWarning: transforming other coordinates from <ICRS Frame> to <GCRS Frame (obstime=['2022-06-03 01:42:02.340' '2022-06-03 09:18:40.540'], obsgeoloc=(0., 0., 0.) m, obsgeovel=(0., 0., 0.) m / s)>. Angular separation can depend on the direction of the transformation. [astropy.coordinates.baseframe]\n"
     ]
    },
    {
     "data": {
      "text/html": [
       "<div><i>PredictionTable length=2</i>\n",
       "<table id=\"table127022740814576\" class=\"table-striped table-bordered table-condensed\">\n",
       "<thead><tr><th>Epoch</th><th>ICRS Star Coord at Epoch</th><th>Geocentric Object Position</th><th>C/A</th><th>P/A</th><th>Vel</th><th>Dist</th><th>G</th><th>long</th><th>loct</th><th>M-G-T</th><th>S-G-T</th><th>GaiaDR3 Source ID</th></tr></thead>\n",
       "<thead><tr><th></th><th></th><th></th><th>arcsec</th><th>deg</th><th>km / s</th><th>AU</th><th>mag</th><th>deg</th><th>hh:mm</th><th>deg</th><th>deg</th><th></th></tr></thead>\n",
       "<thead><tr><th>object</th><th>object</th><th>object</th><th>float64</th><th>float64</th><th>float64</th><th>float64</th><th>float64</th><th>float64</th><th>str5</th><th>float64</th><th>float64</th><th>str19</th></tr></thead>\n",
       "<tr><td>2022-06-03 01:42:02.340</td><td>16 58 36.99484 -18 10 01.79263</td><td>16 58 37.00126 -18 10 02.52425</td><td>0.737</td><td>172.87</td><td>-14.35</td><td>2.254</td><td>13.827</td><td>338</td><td>00:12</td><td>143</td><td>174</td><td>4129613567672158592</td></tr>\n",
       "<tr><td>2022-06-03 09:18:40.540</td><td>16 58 20.27066 -18 10 35.08829</td><td>16 58 20.24743 -18 10 32.45048</td><td>2.658</td><td>352.85</td><td>-14.36</td><td>2.253</td><td>12.139</td><td>223</td><td>00:11</td><td>139</td><td>175</td><td>4129613739470860928</td></tr>\n",
       "</table></div>"
      ],
      "text/plain": [
       "<PredictionTable length=2>\n",
       "         Epoch             ICRS Star Coord at Epoch    ...  GaiaDR3 Source ID \n",
       "                                                       ...                    \n",
       "         object                     object             ...        str19       \n",
       "----------------------- ------------------------------ ... -------------------\n",
       "2022-06-03 01:42:02.340 16 58 36.99484 -18 10 01.79263 ... 4129613567672158592\n",
       "2022-06-03 09:18:40.540 16 58 20.27066 -18 10 35.08829 ... 4129613739470860928"
      ]
     },
     "execution_count": 19,
     "metadata": {},
     "output_type": "execute_result"
    }
   ],
   "source": [
    "pred = prediction(body=lehigh, time_beg=date,time_end=date_plus_one,mag_lim=14)\n",
    "pred"
   ]
  },
  {
   "cell_type": "code",
   "execution_count": 20,
   "metadata": {},
   "outputs": [
    {
     "name": "stdout",
     "output_type": "stream",
     "text": [
      "figures/observations/Lehigh_2022-06-03_map.png generated\n"
     ]
    }
   ],
   "source": [
    "## ploting the occultation map\n",
    "\n",
    "pred['2022-06-03 09:18:40.540'].plot_occ_map(nameimg=f'figures/observations/{asteroid_name}_{date}_map')"
   ]
  },
  {
   "cell_type": "code",
   "execution_count": 21,
   "metadata": {},
   "outputs": [
    {
     "name": "stdout",
     "output_type": "stream",
     "text": [
      "1 GaiaDR3 star found band={'G': 12.138798}\n",
      "star coordinate at J2016.0: RA=16h58m20.27341s +/- 0.0138 mas, DEC=-18d10m35.0601s +/- 0.0094 mas\n",
      "\n",
      "Downloading star parameters from I/297/out\n",
      "Magnitudes in ['V'] were not located in NOMAD\n",
      "GaiaDR3 star Source ID: 4129613739470860928\n",
      "ICRS star coordinate at J2016.0:\n",
      "RA=16h58m20.27341s +/- 0.0138 mas, DEC=-18d10m35.0601s +/- 0.0094 mas\n",
      "pmRA=-6.104 +/- 0.017 mas/yr, pmDEC=-4.401 +/- 0.013 mas/yr\n",
      "GaiaDR3 Proper motion corrected as suggested by Cantat-Gaudin & Brandt (2021) \n",
      "Plx=0.7369 +/- 0.0159 mas, Rad. Vel.=-31.49 +/- 0.31 km/s \n",
      "\n",
      "Magnitudes: G: 12.139, B: 13.280, R: 12.140, J: 10.098, H:  9.503, K:  9.329\n",
      "\n",
      "Apparent diameter from Kervella et. al (2004):\n",
      "    B: 0.0727 mas\n",
      "Apparent diameter from van Belle (1999):\n",
      "    sg: B: 0.0726 mas\n",
      "    ms: B: 0.0977 mas\n",
      "    vs: B: 0.1042 mas\n"
     ]
    }
   ],
   "source": [
    "star_occ = Star(code=pred['2022-06-03 09:18:40.540'][\"GaiaDR3 Source ID\"])\n",
    "\n",
    "print(star_occ)"
   ]
  },
  {
   "cell_type": "code",
   "execution_count": 23,
   "metadata": {},
   "outputs": [
    {
     "name": "stderr",
     "output_type": "stream",
     "text": [
      "WARNING: AstropyDeprecationWarning: The get_moon function is deprecated and may be removed in a future version.\n",
      "        Use get_body(\"moon\") instead. [sora.prediction.table]\n",
      "WARNING: NonRotationTransformationWarning: transforming other coordinates from <ICRS Frame> to <GCRS Frame (obstime=['2022-06-03 09:18:40.540'], obsgeoloc=(0., 0., 0.) m, obsgeovel=(0., 0., 0.) m / s)>. Angular separation can depend on the direction of the transformation. [astropy.coordinates.baseframe]\n",
      "WARNING: NonRotationTransformationWarning: transforming other coordinates from <ICRS Frame> to <GCRS Frame (obstime=['2022-06-03 09:18:40.540'], obsgeoloc=(0., 0., 0.) m, obsgeovel=(0., 0., 0.) m / s)>. Angular separation can depend on the direction of the transformation. [astropy.coordinates.baseframe]\n"
     ]
    }
   ],
   "source": [
    "occ = Occultation(star=star_occ, body=lehigh, time='2022-06-03 09:18:40.540')\n"
   ]
  },
  {
   "cell_type": "code",
   "execution_count": 24,
   "metadata": {},
   "outputs": [
    {
     "name": "stdout",
     "output_type": "stream",
     "text": [
      "Site: Telescope 2\n",
      "Geodetic coordinates: Lon: -110d57m06.8976s, Lat: 31d40m28.2756s, height: 1.260 km\n"
     ]
    }
   ],
   "source": [
    "# Define our observers as each telescope at VERITAS\n",
    "T1 = Observer(name='Telescope 1', lat='31 40 29.5572', lon='-110 57 3.456', height =1268)\n",
    "T2 = Observer(name='Telescope 2', lat='31 40 28.2756', lon='-110 57 6.8976', height =1260)\n",
    "T3 = Observer(name='Telescope 3', lat='31 40 31.8936', lon='-110 57 7.4844', height =1267)\n",
    "T4 = Observer(name='Telescope 4', lat='31 40 30.2556', lon='-110 57 9.9756', height =1265)\n",
    "\n",
    "print(T2)"
   ]
  },
  {
   "cell_type": "code",
   "execution_count": 25,
   "metadata": {},
   "outputs": [],
   "source": [
    "# set up the objects for the occultation parameter calculation\n",
    "from sora import EphemHorizons\n",
    "lehigh_time = Time(\"2022-06-03 09:18:40.540\")\n",
    "lehigh_ephem = EphemHorizons(name='lehigh')\n",
    "lehigh_star = star_occ"
   ]
  },
  {
   "cell_type": "code",
   "execution_count": 28,
   "metadata": {},
   "outputs": [
    {
     "name": "stdout",
     "output_type": "stream",
     "text": [
      "Occultation of UCAC4 360-083902 by Lehigh over VERITAS\n",
      "--------------------------------------------------------\n",
      "Time of closest approach: 2022-06-03 09:15:21.640\n",
      "Distance of closest approach: 0.02133962452091488 arcsec \n",
      "Position angle of closest approach: 173.12515885407635 deg\n",
      "Velocity of occultation shadow: -14.706341962985057 km / s \n",
      "Distance to the occulting body: 337034001.5400557 km or 2.25293314646126 AU\n"
     ]
    }
   ],
   "source": [
    "from sora.prediction import occ_params\n",
    "time_of_closest_approach, distance_of_closest_approach, position_angle_of_closest_approach, velocity_shadow, distance_to_object = occ_params(star=lehigh_star, ephem=lehigh_ephem, time=lehigh_time, max_tdiff=600, reference_center=T1)\n",
    "\n",
    "print(f\"Occultation of {star_id} by {asteroid_name} over VERITAS\")\n",
    "print(\"--------------------------------------------------------\")\n",
    "print(f\"Time of closest approach: {time_of_closest_approach}\")\n",
    "print(f\"Distance of closest approach: {distance_of_closest_approach} \")\n",
    "print(f\"Position angle of closest approach: {position_angle_of_closest_approach}\")\n",
    "print(f\"Velocity of occultation shadow: {velocity_shadow} \")\n",
    "print(f\"Distance to the occulting body: {distance_to_object.to(u.km)} or {distance_to_object}\")"
   ]
  },
  {
   "cell_type": "code",
   "execution_count": null,
   "metadata": {},
   "outputs": [],
   "source": []
  }
 ],
 "metadata": {
  "kernelspec": {
   "display_name": "mySORA_env",
   "language": "python",
   "name": "python3"
  },
  "language_info": {
   "codemirror_mode": {
    "name": "ipython",
    "version": 3
   },
   "file_extension": ".py",
   "mimetype": "text/x-python",
   "name": "python",
   "nbconvert_exporter": "python",
   "pygments_lexer": "ipython3",
   "version": "3.10.12"
  }
 },
 "nbformat": 4,
 "nbformat_minor": 2
}
