{
 "cells": [
  {
   "cell_type": "markdown",
   "metadata": {},
   "source": [
    "# Occultation of UCAC4 531-009938 by (308) Polyxo"
   ]
  },
  {
   "cell_type": "markdown",
   "metadata": {},
   "source": [
    "This occultation took place on Dec 5, 2021"
   ]
  },
  {
   "cell_type": "code",
   "execution_count": 1,
   "metadata": {},
   "outputs": [
    {
     "name": "stdout",
     "output_type": "stream",
     "text": [
      "SORA version: 0.3.1\n"
     ]
    }
   ],
   "source": [
    "## SORA package\n",
    "from sora import Occultation, Body, Star, LightCurve, Observer\n",
    "from sora.prediction import prediction\n",
    "from sora.extra import draw_ellipse\n",
    "\n",
    "## Other main packages\n",
    "from astropy.time import Time\n",
    "import astropy.units as u\n",
    "\n",
    "## Usual packages\n",
    "import numpy as np\n",
    "import matplotlib.pylab as pl\n",
    "import os\n",
    "import sys\n",
    "\n",
    "# Add the directory to sys.path\n",
    "sys.path.append('/home/joshuabartkoske/AO/scripts')\n",
    "from Occultations2 import Open_Two_Column_File"
   ]
  },
  {
   "cell_type": "code",
   "execution_count": 7,
   "metadata": {},
   "outputs": [],
   "source": [
    "# Define the initial values for setting up the rest of the analysis and for print statements\n",
    "date = \"2021-12-05\"\n",
    "date_plus_one = \"2021-12-06\"\n",
    "star_id = \"UCAC4 531-009938\"\n",
    "asteroid_name = \"Polyxo\""
   ]
  },
  {
   "cell_type": "code",
   "execution_count": 8,
   "metadata": {},
   "outputs": [
    {
     "name": "stdout",
     "output_type": "stream",
     "text": [
      "Obtaining data for Polyxo from SBDB\n",
      "###############################################################################\n",
      "                             308 Polyxo (A891 FA)                              \n",
      "###############################################################################\n",
      "Object Orbital Class: Main-belt Asteroid\n",
      "Spectral Type:\n",
      "    SMASS: T  [Reference: EAR-A-5-DDR-TAXONOMY-V4.0]\n",
      "    Tholen: T [Reference: EAR-A-5-DDR-TAXONOMY-V4.0]\n",
      "       Moderately reddish shortward of 0.75 μm; flat afterward.\n",
      "Discovered 1891-Mar-31 by Borrelly, A. at Marseille\n",
      "\n",
      "Physical parameters:\n",
      "Diameter:\n",
      "    128.58 +/- 1.557 km\n",
      "    Reference: urn:nasa:pds:neowise_diameters_albedos::2.0[mainbelt] (http://adsabs.harvard.edu/abs/2014ApJ...791..121M), \n",
      "Rotation:\n",
      "    12.031 +/- 0 h\n",
      "    Reference: LCDB (Rev. 2023-February); Warner et al., 2009, REFERENCE LIST:[Debehogne, H.; Zappala, V. (1980) Astron. Astrophys. Suppl. Ser. 39, 163-165.], [Harris, A.W.; Young, J.W. (1983) Icarus 54, 59-109.], [Higgins, D. (2011) Minor Planet Bull. 38, 41-46.], [Pilcher, F.; Strabla, L.P.; Quadri, U.; Girelli, R. (2014) Minor Planet Bull. 41, 204.], [Carbognani, A.; Cellino, A.; Caminiti, S. (2019) Planet. Space Sci. 169, 15-34.], [Podlewska-Gaca, E.; Marciniak, A.; Ali-Lagoa, V.; Bartczak, P.; et al. (2020) Astron. Astrophys. 638, id A11.], [Colazo, M.; Monteleone, B.; Santos, F.; Morales, M.; et al. (2022) Minor Planet Bull. 49, 189-192.]\n",
      "Absolute Magnitude:\n",
      "    8.18 +/- 0 mag\n",
      "    Reference: E2024-WE6, IRAS observations used: 6\n",
      "Phase Slope:\n",
      "    0.21 +/- 0 \n",
      "    Reference: PDS3 (MPC 17258), Fit\n",
      "Albedo:\n",
      "    0.047 +/- 0.009 \n",
      "    Reference: urn:nasa:pds:neowise_diameters_albedos::2.0[mainbelt] (http://adsabs.harvard.edu/abs/2012ApJ...759L...8M), \n",
      "B-V color:\n",
      "    0.783 +/- 0.013 \n",
      "    Reference: EAR-A-5-DDR-UBV-MEAN-VALUES-V1.2, #obs=7; phase (min.=2.76, mean=11.65, max.=19.25) deg.\n",
      "U-B color:\n",
      "    0.379 +/- 0.027 \n",
      "    Reference: EAR-A-5-DDR-UBV-MEAN-VALUES-V1.2, #obs=7; phase (min.=3.16, mean=13.25, max.=19.25) deg.\n",
      "\n",
      "Ellipsoid: 64.289 x 64.289 x 64.289\n",
      "\n",
      "----------- Ephemeris -----------\n",
      "\n",
      "EphemHorizons: Ephemeris are downloaded from Horizons website (SPKID=20000308)\n",
      "Ephem Error: RA*cosDEC: 0.000 arcsec; DEC: 0.000 arcsec\n",
      "Offset applied: RA*cosDEC: 0.0000 arcsec; DEC: 0.0000 arcsec\n",
      "\n",
      "\n"
     ]
    }
   ],
   "source": [
    "# First, let's consider the Solar System Body\n",
    "\n",
    "polyxo = Body(name=asteroid_name)\n",
    "                #,ephem=['guidelines/input/bsp/Chariklo.bsp', 'guidelines/input/bsp/de438_small.bsp'])\n",
    "\n",
    "print(polyxo)"
   ]
  },
  {
   "cell_type": "code",
   "execution_count": 9,
   "metadata": {},
   "outputs": [
    {
     "name": "stdout",
     "output_type": "stream",
     "text": [
      "Ephemeris was split in 1 parts for better search of stars\n",
      "\n",
      "Searching occultations in part 1/1\n",
      "Generating Ephemeris between 2021-12-05 00:00:00.000 and 2021-12-05 23:59:00.000 ...\n",
      "Downloading stars ...\n",
      "    4 GaiaDR3 stars downloaded\n",
      "Identifying occultations ...\n",
      "\n",
      "1 occultations found.\n"
     ]
    },
    {
     "name": "stderr",
     "output_type": "stream",
     "text": [
      "WARNING: AstropyDeprecationWarning: The get_moon function is deprecated and may be removed in a future version.\n",
      "        Use get_body(\"moon\") instead. [sora.prediction.table]\n",
      "WARNING: NonRotationTransformationWarning: transforming other coordinates from <ICRS Frame> to <GCRS Frame (obstime=['2021-12-05 08:12:55.880'], obsgeoloc=(0., 0., 0.) m, obsgeovel=(0., 0., 0.) m / s)>. Angular separation can depend on the direction of the transformation. [astropy.coordinates.baseframe]\n",
      "WARNING: NonRotationTransformationWarning: transforming other coordinates from <ICRS Frame> to <GCRS Frame (obstime=['2021-12-05 08:12:55.880'], obsgeoloc=(0., 0., 0.) m, obsgeovel=(0., 0., 0.) m / s)>. Angular separation can depend on the direction of the transformation. [astropy.coordinates.baseframe]\n"
     ]
    },
    {
     "data": {
      "text/html": [
       "<div><i>PredictionTable length=1</i>\n",
       "<table id=\"table129924673702976\" class=\"table-striped table-bordered table-condensed\">\n",
       "<thead><tr><th>Epoch</th><th>ICRS Star Coord at Epoch</th><th>Geocentric Object Position</th><th>C/A</th><th>P/A</th><th>Vel</th><th>Dist</th><th>G</th><th>long</th><th>loct</th><th>M-G-T</th><th>S-G-T</th><th>GaiaDR3 Source ID</th></tr></thead>\n",
       "<thead><tr><th></th><th></th><th></th><th>arcsec</th><th>deg</th><th>km / s</th><th>AU</th><th>mag</th><th>deg</th><th>hh:mm</th><th>deg</th><th>deg</th><th></th></tr></thead>\n",
       "<thead><tr><th>object</th><th>object</th><th>object</th><th>float64</th><th>float64</th><th>float64</th><th>float64</th><th>float64</th><th>float64</th><th>str5</th><th>float64</th><th>float64</th><th>str19</th></tr></thead>\n",
       "<tr><td>2021-12-05 08:12:55.880</td><td>04 48 46.84112 +16 02 46.90153</td><td>04 48 46.82895 +16 02 48.05239</td><td>1.164</td><td>351.33</td><td>-12.80</td><td>1.847</td><td>11.410</td><td>235</td><td>23:51</td><td>163</td><td>174</td><td>3405131371706544256</td></tr>\n",
       "</table></div>"
      ],
      "text/plain": [
       "<PredictionTable length=1>\n",
       "         Epoch             ICRS Star Coord at Epoch    ...  GaiaDR3 Source ID \n",
       "                                                       ...                    \n",
       "         object                     object             ...        str19       \n",
       "----------------------- ------------------------------ ... -------------------\n",
       "2021-12-05 08:12:55.880 04 48 46.84112 +16 02 46.90153 ... 3405131371706544256"
      ]
     },
     "execution_count": 9,
     "metadata": {},
     "output_type": "execute_result"
    }
   ],
   "source": [
    "pred = prediction(body=polyxo, time_beg=date,time_end=date_plus_one,mag_lim=14)\n",
    "pred"
   ]
  },
  {
   "cell_type": "code",
   "execution_count": 10,
   "metadata": {},
   "outputs": [
    {
     "name": "stdout",
     "output_type": "stream",
     "text": [
      "figures/observations/Polyxo_2021-12-05_map.png generated\n"
     ]
    }
   ],
   "source": [
    "## ploting the occultation map\n",
    "\n",
    "pred['2021-12-05 08:12:55.880'].plot_occ_map(nameimg=f'figures/observations/{asteroid_name}_{date}_map')"
   ]
  },
  {
   "cell_type": "code",
   "execution_count": 11,
   "metadata": {},
   "outputs": [
    {
     "name": "stdout",
     "output_type": "stream",
     "text": [
      "1 GaiaDR3 star found band={'G': 11.41042}\n",
      "star coordinate at J2016.0: RA=4h48m46.83985s +/- 0.0182 mas, DEC=16d02m46.9350s +/- 0.0095 mas\n",
      "\n",
      "Downloading star parameters from I/297/out\n",
      "Magnitudes in ['V'] were not located in NOMAD\n",
      "GaiaDR3 star Source ID: 3405131371706544256\n",
      "ICRS star coordinate at J2016.0:\n",
      "RA=4h48m46.83985s +/- 0.0182 mas, DEC=16d02m46.9350s +/- 0.0095 mas\n",
      "pmRA=3.101 +/- 0.021 mas/yr, pmDEC=-5.632 +/- 0.016 mas/yr\n",
      "GaiaDR3 Proper motion corrected as suggested by Cantat-Gaudin & Brandt (2021) \n",
      "Plx=1.1413 +/- 0.0201 mas, Rad. Vel.=45.90 +/- 0.24 km/s \n",
      "\n",
      "Magnitudes: G: 11.410, B: 15.800, R: 11.100, J:  9.232, H:  8.579, K:  8.388\n",
      "\n",
      "Apparent diameter from Kervella et. al (2004):\n",
      "    B: 0.1717 mas\n",
      "Apparent diameter from van Belle (1999):\n",
      "    sg: B: 0.1314 mas\n",
      "    ms: B: 0.3087 mas\n",
      "    vs: B: 0.1754 mas\n"
     ]
    }
   ],
   "source": [
    "star_occ = Star(code=pred['2021-12-05 08:12:55.880'][\"GaiaDR3 Source ID\"])\n",
    "\n",
    "print(star_occ)"
   ]
  },
  {
   "cell_type": "code",
   "execution_count": 12,
   "metadata": {},
   "outputs": [
    {
     "name": "stderr",
     "output_type": "stream",
     "text": [
      "WARNING: AstropyDeprecationWarning: The get_moon function is deprecated and may be removed in a future version.\n",
      "        Use get_body(\"moon\") instead. [sora.prediction.table]\n",
      "WARNING: NonRotationTransformationWarning: transforming other coordinates from <ICRS Frame> to <GCRS Frame (obstime=['2021-12-05 08:12:55.860'], obsgeoloc=(0., 0., 0.) m, obsgeovel=(0., 0., 0.) m / s)>. Angular separation can depend on the direction of the transformation. [astropy.coordinates.baseframe]\n",
      "WARNING: NonRotationTransformationWarning: transforming other coordinates from <ICRS Frame> to <GCRS Frame (obstime=['2021-12-05 08:12:55.860'], obsgeoloc=(0., 0., 0.) m, obsgeovel=(0., 0., 0.) m / s)>. Angular separation can depend on the direction of the transformation. [astropy.coordinates.baseframe]\n"
     ]
    },
    {
     "name": "stdout",
     "output_type": "stream",
     "text": [
      "Stellar occultation of star GaiaDR3 3405131371706544256 by 308 Polyxo (A891 FA).\n",
      "\n",
      "Geocentric Closest Approach: 1.164 arcsec\n",
      "Instant of CA: 2021-12-05 08:12:55.860\n",
      "Position Angle: 351.33 deg\n",
      "Geocentric shadow velocity: -12.79 km / s\n",
      "Sun-Geocenter-Target angle:  173.66 deg\n",
      "Moon-Geocenter-Target angle: 162.86 deg\n",
      "\n",
      "\n",
      "No observations reported\n",
      "\n",
      "###############################################################################\n",
      "                                     STAR                                      \n",
      "###############################################################################\n",
      "GaiaDR3 star Source ID: 3405131371706544256\n",
      "ICRS star coordinate at J2016.0:\n",
      "RA=4h48m46.83985s +/- 0.0182 mas, DEC=16d02m46.9350s +/- 0.0095 mas\n",
      "pmRA=3.101 +/- 0.021 mas/yr, pmDEC=-5.632 +/- 0.016 mas/yr\n",
      "GaiaDR3 Proper motion corrected as suggested by Cantat-Gaudin & Brandt (2021) \n",
      "Plx=1.1413 +/- 0.0201 mas, Rad. Vel.=45.90 +/- 0.24 km/s \n",
      "\n",
      "Magnitudes: G: 11.410, B: 15.800, R: 11.100, J:  9.232, H:  8.579, K:  8.388\n",
      "\n",
      "Apparent diameter from Kervella et. al (2004):\n",
      "    B: 0.1717 mas\n",
      "Apparent diameter from van Belle (1999):\n",
      "    sg: B: 0.1314 mas\n",
      "    ms: B: 0.3087 mas\n",
      "    vs: B: 0.1754 mas\n",
      "\n",
      "Geocentric star coordinate at occultation Epoch (2021-12-05 08:12:55.860):\n",
      "RA=4h48m46.84113s +/- 0.0957 mas, DEC=16d02m46.9015s +/- 0.1189 mas\n",
      "\n",
      "###############################################################################\n",
      "                             308 Polyxo (A891 FA)                              \n",
      "###############################################################################\n",
      "Object Orbital Class: Main-belt Asteroid\n",
      "Spectral Type:\n",
      "    SMASS: T  [Reference: EAR-A-5-DDR-TAXONOMY-V4.0]\n",
      "    Tholen: T [Reference: EAR-A-5-DDR-TAXONOMY-V4.0]\n",
      "       Moderately reddish shortward of 0.75 μm; flat afterward.\n",
      "Discovered 1891-Mar-31 by Borrelly, A. at Marseille\n",
      "\n",
      "Physical parameters:\n",
      "Diameter:\n",
      "    128.58 +/- 1.557 km\n",
      "    Reference: urn:nasa:pds:neowise_diameters_albedos::2.0[mainbelt] (http://adsabs.harvard.edu/abs/2014ApJ...791..121M), \n",
      "Rotation:\n",
      "    12.031 +/- 0 h\n",
      "    Reference: LCDB (Rev. 2023-February); Warner et al., 2009, REFERENCE LIST:[Debehogne, H.; Zappala, V. (1980) Astron. Astrophys. Suppl. Ser. 39, 163-165.], [Harris, A.W.; Young, J.W. (1983) Icarus 54, 59-109.], [Higgins, D. (2011) Minor Planet Bull. 38, 41-46.], [Pilcher, F.; Strabla, L.P.; Quadri, U.; Girelli, R. (2014) Minor Planet Bull. 41, 204.], [Carbognani, A.; Cellino, A.; Caminiti, S. (2019) Planet. Space Sci. 169, 15-34.], [Podlewska-Gaca, E.; Marciniak, A.; Ali-Lagoa, V.; Bartczak, P.; et al. (2020) Astron. Astrophys. 638, id A11.], [Colazo, M.; Monteleone, B.; Santos, F.; Morales, M.; et al. (2022) Minor Planet Bull. 49, 189-192.]\n",
      "Absolute Magnitude:\n",
      "    8.18 +/- 0 mag\n",
      "    Reference: E2024-WE6, IRAS observations used: 6\n",
      "Phase Slope:\n",
      "    0.21 +/- 0 \n",
      "    Reference: PDS3 (MPC 17258), Fit\n",
      "Albedo:\n",
      "    0.047 +/- 0.009 \n",
      "    Reference: urn:nasa:pds:neowise_diameters_albedos::2.0[mainbelt] (http://adsabs.harvard.edu/abs/2012ApJ...759L...8M), \n",
      "B-V color:\n",
      "    0.783 +/- 0.013 \n",
      "    Reference: EAR-A-5-DDR-UBV-MEAN-VALUES-V1.2, #obs=7; phase (min.=2.76, mean=11.65, max.=19.25) deg.\n",
      "U-B color:\n",
      "    0.379 +/- 0.027 \n",
      "    Reference: EAR-A-5-DDR-UBV-MEAN-VALUES-V1.2, #obs=7; phase (min.=3.16, mean=13.25, max.=19.25) deg.\n",
      "\n",
      "Ellipsoid: 64.289 x 64.289 x 64.289\n",
      "\n",
      "----------- Ephemeris -----------\n",
      "\n",
      "EphemHorizons: Ephemeris are downloaded from Horizons website (SPKID=20000308)\n",
      "Ephem Error: RA*cosDEC: 0.000 arcsec; DEC: 0.000 arcsec\n",
      "Offset applied: RA*cosDEC: 0.0000 arcsec; DEC: 0.0000 arcsec\n",
      "\n",
      "\n",
      "\n"
     ]
    }
   ],
   "source": [
    "occ = Occultation(star=star_occ, body=polyxo, time='2021-12-05 08:12:55.880')\n",
    "\n",
    "print(occ)"
   ]
  },
  {
   "cell_type": "code",
   "execution_count": 13,
   "metadata": {},
   "outputs": [
    {
     "name": "stdout",
     "output_type": "stream",
     "text": [
      "Site: Telescope 2\n",
      "Geodetic coordinates: Lon: -110d57m06.8976s, Lat: 31d40m28.2756s, height: 1.260 km\n"
     ]
    }
   ],
   "source": [
    "# Define our observers as each telescope at VERITAS\n",
    "T1 = Observer(name='Telescope 1', lat='31 40 29.5572', lon='-110 57 3.456', height =1268)\n",
    "T2 = Observer(name='Telescope 2', lat='31 40 28.2756', lon='-110 57 6.8976', height =1260)\n",
    "T3 = Observer(name='Telescope 3', lat='31 40 31.8936', lon='-110 57 7.4844', height =1267)\n",
    "T4 = Observer(name='Telescope 4', lat='31 40 30.2556', lon='-110 57 9.9756', height =1265)\n",
    "\n",
    "print(T2)"
   ]
  },
  {
   "cell_type": "code",
   "execution_count": 14,
   "metadata": {},
   "outputs": [],
   "source": [
    "# set up the objects for the occultation parameter calculation\n",
    "from sora import EphemHorizons\n",
    "polyxo_time = Time(\"2021-12-05 08:12:55.880\")\n",
    "polyxo_ephem = EphemHorizons(name='polyxo')\n",
    "polyxo_star = star_occ"
   ]
  },
  {
   "cell_type": "code",
   "execution_count": 15,
   "metadata": {},
   "outputs": [
    {
     "name": "stdout",
     "output_type": "stream",
     "text": [
      "Occultation of UCAC4 531-009938 by Polyxo over VERITAS\n",
      "--------------------------------------------------------\n",
      "Time of closest approach: 2021-12-05 08:10:56.760\n",
      "Distance of closest approach: 0.024058667588989766 arcsec \n",
      "Position angle of closest approach: 351.4619246645195 deg\n",
      "Velocity of occultation shadow: -13.18388502091863 km / s \n",
      "Distance to the occulting body: 276320045.7680598 km or 1.8470854195658 AU\n"
     ]
    }
   ],
   "source": [
    "from sora.prediction import occ_params\n",
    "time_of_closest_approach, distance_of_closest_approach, position_angle_of_closest_approach, velocity_shadow, distance_to_object = occ_params(star=polyxo_star, ephem=polyxo_ephem, time=polyxo_time, max_tdiff=600, reference_center=T1)\n",
    "\n",
    "print(f\"Occultation of {star_id} by {asteroid_name} over VERITAS\")\n",
    "print(\"--------------------------------------------------------\")\n",
    "print(f\"Time of closest approach: {time_of_closest_approach}\")\n",
    "print(f\"Distance of closest approach: {distance_of_closest_approach} \")\n",
    "print(f\"Position angle of closest approach: {position_angle_of_closest_approach}\")\n",
    "print(f\"Velocity of occultation shadow: {velocity_shadow} \")\n",
    "print(f\"Distance to the occulting body: {distance_to_object.to(u.km)} or {distance_to_object}\")"
   ]
  },
  {
   "cell_type": "code",
   "execution_count": null,
   "metadata": {},
   "outputs": [],
   "source": []
  }
 ],
 "metadata": {
  "kernelspec": {
   "display_name": "mySORA_env",
   "language": "python",
   "name": "python3"
  },
  "language_info": {
   "codemirror_mode": {
    "name": "ipython",
    "version": 3
   },
   "file_extension": ".py",
   "mimetype": "text/x-python",
   "name": "python",
   "nbconvert_exporter": "python",
   "pygments_lexer": "ipython3",
   "version": "3.10.12"
  }
 },
 "nbformat": 4,
 "nbformat_minor": 2
}
