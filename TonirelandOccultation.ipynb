{
 "cells": [
  {
   "cell_type": "markdown",
   "metadata": {},
   "source": [
    "# Occultation of TYC 1348-01032-1 by (17822) Tonireland"
   ]
  },
  {
   "cell_type": "markdown",
   "metadata": {},
   "source": [
    "This occultation took place on Jan 21, 2025"
   ]
  },
  {
   "cell_type": "code",
   "execution_count": 1,
   "metadata": {},
   "outputs": [
    {
     "name": "stdout",
     "output_type": "stream",
     "text": [
      "SORA version: 0.3.1\n"
     ]
    }
   ],
   "source": [
    "## SORA package\n",
    "from sora import Occultation, Body, Star, LightCurve, Observer\n",
    "from sora.prediction import prediction\n",
    "from sora.extra import draw_ellipse\n",
    "\n",
    "## Other main packages\n",
    "from astropy.time import Time\n",
    "import astropy.units as u\n",
    "\n",
    "## Usual packages\n",
    "import numpy as np\n",
    "import matplotlib.pylab as pl\n",
    "import os\n",
    "import sys\n",
    "\n",
    "# Add the directory to sys.path\n",
    "sys.path.append('/home/joshuabartkoske/AO/scripts')\n",
    "from Occultations2 import Open_Two_Column_File"
   ]
  },
  {
   "cell_type": "code",
   "execution_count": 2,
   "metadata": {},
   "outputs": [
    {
     "name": "stdout",
     "output_type": "stream",
     "text": [
      "Obtaining data for tonireland from SBDB\n",
      "###############################################################################\n",
      "                         17822 Tonireland (1998 FM135)                         \n",
      "###############################################################################\n",
      "Object Orbital Class: Main-belt Asteroid\n",
      "Discovered 1998-Mar-22 by LINEAR at Socorro\n",
      "\n",
      "Physical parameters:\n",
      "Diameter:\n",
      "    10.544 +/- 0.131 km\n",
      "    Reference: urn:nasa:pds:neowise_diameters_albedos::2.0[mainbelt] (http://adsabs.harvard.edu/abs/2011ApJ...741...68M), \n",
      "Rotation:\n",
      "    4.613 +/- 0 h\n",
      "    Reference: LCDB (Rev. 2023-February); Warner et al., 2009, [Result based on less than full coverage, so that the period may be wrong by 30 percent or so.]  REFERENCE LIST:[Warner, B.D (2012) Minor Planet Bull. 39, 16-21.]\n",
      "Absolute Magnitude:\n",
      "    13.75 +/- 0 mag\n",
      "    Reference: E2025-CG0, \n",
      "Albedo:\n",
      "    0.044 +/- 0.008 \n",
      "    Reference: urn:nasa:pds:neowise_diameters_albedos::2.0[mainbelt] (http://adsabs.harvard.edu/abs/2011ApJ...741...68M), \n",
      "\n",
      "Ellipsoid: 5.272 x 5.272 x 5.272\n",
      "\n",
      "----------- Ephemeris -----------\n",
      "\n",
      "EphemHorizons: Ephemeris are downloaded from Horizons website (SPKID=20017822)\n",
      "Ephem Error: RA*cosDEC: 0.000 arcsec; DEC: 0.000 arcsec\n",
      "Offset applied: RA*cosDEC: 0.0000 arcsec; DEC: 0.0000 arcsec\n",
      "\n",
      "\n"
     ]
    }
   ],
   "source": [
    "# First, let's consider the Solar System Body\n",
    "\n",
    "tonireland = Body(name='tonireland')\n",
    "                #,ephem=['guidelines/input/bsp/Chariklo.bsp', 'guidelines/input/bsp/de438_small.bsp'])\n",
    "\n",
    "print(tonireland)"
   ]
  },
  {
   "cell_type": "code",
   "execution_count": 3,
   "metadata": {},
   "outputs": [
    {
     "name": "stdout",
     "output_type": "stream",
     "text": [
      "Ephemeris was split in 1 parts for better search of stars\n",
      "\n",
      "Searching occultations in part 1/1\n",
      "Generating Ephemeris between 2025-01-21 00:00:00.000 and 2025-01-25 23:59:00.000 ...\n",
      "Downloading stars ...\n",
      "    93 GaiaDR3 stars downloaded\n",
      "Identifying occultations ...\n",
      "\n",
      "4 occultations found.\n"
     ]
    },
    {
     "name": "stderr",
     "output_type": "stream",
     "text": [
      "WARNING: AstropyDeprecationWarning: The get_moon function is deprecated and may be removed in a future version.\n",
      "        Use get_body(\"moon\") instead. [sora.prediction.table]\n",
      "WARNING: NonRotationTransformationWarning: transforming other coordinates from <ICRS Frame> to <GCRS Frame (obstime=['2025-01-21 05:48:19.440' '2025-01-22 11:03:49.980'\n",
      " '2025-01-21 08:11:52.660' '2025-01-23 12:53:08.880'], obsgeoloc=(0., 0., 0.) m, obsgeovel=(0., 0., 0.) m / s)>. Angular separation can depend on the direction of the transformation. [astropy.coordinates.baseframe]\n",
      "WARNING: NonRotationTransformationWarning: transforming other coordinates from <ICRS Frame> to <GCRS Frame (obstime=['2025-01-21 05:48:19.440' '2025-01-22 11:03:49.980'\n",
      " '2025-01-21 08:11:52.660' '2025-01-23 12:53:08.880'], obsgeoloc=(0., 0., 0.) m, obsgeovel=(0., 0., 0.) m / s)>. Angular separation can depend on the direction of the transformation. [astropy.coordinates.baseframe]\n"
     ]
    },
    {
     "data": {
      "text/html": [
       "<div><i>PredictionTable length=4</i>\n",
       "<table id=\"table135893624244352\" class=\"table-striped table-bordered table-condensed\">\n",
       "<thead><tr><th>Epoch</th><th>ICRS Star Coord at Epoch</th><th>Geocentric Object Position</th><th>C/A</th><th>P/A</th><th>Vel</th><th>Dist</th><th>G</th><th>long</th><th>loct</th><th>M-G-T</th><th>S-G-T</th><th>GaiaDR3 Source ID</th></tr></thead>\n",
       "<thead><tr><th></th><th></th><th></th><th>arcsec</th><th>deg</th><th>km / s</th><th>AU</th><th>mag</th><th>deg</th><th>hh:mm</th><th>deg</th><th>deg</th><th></th></tr></thead>\n",
       "<thead><tr><th>object</th><th>object</th><th>object</th><th>float64</th><th>float64</th><th>float64</th><th>float64</th><th>float64</th><th>float64</th><th>str5</th><th>float64</th><th>float64</th><th>str19</th></tr></thead>\n",
       "<tr><td>2025-01-21 05:48:19.440</td><td>07 02 48.85684 +17 09 43.64597</td><td>07 02 48.86439 +17 09 44.47468</td><td>0.836</td><td>7.43</td><td>-13.56</td><td>2.442</td><td>11.128</td><td>258</td><td>22:59</td><td>99</td><td>163</td><td>3361055141708406400</td></tr>\n",
       "<tr><td>2025-01-21 08:11:52.660</td><td>07 02 44.28075 +17 09 50.43132</td><td>07 01 53.56812 +17 11 29.17091</td><td>2.597</td><td>7.45</td><td>-13.54</td><td>2.442</td><td>13.647</td><td>222</td><td>22:58</td><td>100</td><td>163</td><td>3361242780241417216</td></tr>\n",
       "<tr><td>2025-01-22 11:03:49.980</td><td>07 01 53.55235 +17 11 27.48147</td><td>07 02 44.30423 +17 09 53.00658</td><td>1.705</td><td>7.62</td><td>-13.35</td><td>2.448</td><td>10.335</td><td>177</td><td>22:53</td><td>114</td><td>162</td><td>3361240929112416512</td></tr>\n",
       "<tr><td>2025-01-23 12:53:08.880</td><td>07 01 05.65097 +17 13 01.87470</td><td>07 01 05.65375 +17 13 02.16407</td><td>0.292</td><td>7.82</td><td>-13.15</td><td>2.454</td><td>12.983</td><td>149</td><td>22:48</td><td>126</td><td>160</td><td>3361252955021026176</td></tr>\n",
       "</table></div>"
      ],
      "text/plain": [
       "<PredictionTable length=4>\n",
       "         Epoch             ICRS Star Coord at Epoch    ...  GaiaDR3 Source ID \n",
       "                                                       ...                    \n",
       "         object                     object             ...        str19       \n",
       "----------------------- ------------------------------ ... -------------------\n",
       "2025-01-21 05:48:19.440 07 02 48.85684 +17 09 43.64597 ... 3361055141708406400\n",
       "2025-01-21 08:11:52.660 07 02 44.28075 +17 09 50.43132 ... 3361242780241417216\n",
       "2025-01-22 11:03:49.980 07 01 53.55235 +17 11 27.48147 ... 3361240929112416512\n",
       "2025-01-23 12:53:08.880 07 01 05.65097 +17 13 01.87470 ... 3361252955021026176"
      ]
     },
     "execution_count": 3,
     "metadata": {},
     "output_type": "execute_result"
    }
   ],
   "source": [
    "pred = prediction(body=tonireland, time_beg='2025-01-21',time_end='2025-01-26',mag_lim=14)\n",
    "pred"
   ]
  },
  {
   "cell_type": "code",
   "execution_count": null,
   "metadata": {},
   "outputs": [
    {
     "name": "stdout",
     "output_type": "stream",
     "text": [
      "figures/observations/tonireland_20250121_map.png generated\n"
     ]
    }
   ],
   "source": [
    "## ploting the occultation map\n",
    "\n",
    "pred['2025-01-21 05:48:19.440'].plot_occ_map(nameimg='figures/observations/tonireland_20250121_map')"
   ]
  },
  {
   "cell_type": "code",
   "execution_count": 7,
   "metadata": {},
   "outputs": [
    {
     "name": "stdout",
     "output_type": "stream",
     "text": [
      "1 GaiaDR3 star found band={'G': 11.127687}\n",
      "star coordinate at J2016.0: RA=7h02m48.85493s +/- 0.0171 mas, DEC=17d09m43.6676s +/- 0.0151 mas\n",
      "\n",
      "Downloading star parameters from I/297/out\n",
      "GaiaDR3 star Source ID: 3361055141708406400\n",
      "ICRS star coordinate at J2016.0:\n",
      "RA=7h02m48.85493s +/- 0.0171 mas, DEC=17d09m43.6676s +/- 0.0151 mas\n",
      "pmRA=3.057 +/- 0.022 mas/yr, pmDEC=-2.415 +/- 0.020 mas/yr\n",
      "GaiaDR3 Proper motion corrected as suggested by Cantat-Gaudin & Brandt (2021) \n",
      "Plx=0.6606 +/- 0.0197 mas, Rad. Vel.=-10.44 +/- 1.83 km/s \n",
      "\n",
      "Magnitudes: G: 11.128, B: 12.517, V: 11.490, R: 10.850, J:  9.462, H:  8.856,\n",
      "            K:  8.736\n",
      "\n",
      "Apparent diameter from Kervella et. al (2004):\n",
      "    V: 0.0950 mas, B: 0.0935 mas\n",
      "Apparent diameter from van Belle (1999):\n",
      "    sg: B: 0.0947 mas, V: 0.0966 mas\n",
      "    ms: B: 0.1239 mas, V: 0.0849 mas\n",
      "    vs: B: 0.1363 mas, V: 0.1234 mas\n"
     ]
    }
   ],
   "source": [
    "star_occ = Star(code=pred['2025-01-21 05:48:19.440'][\"GaiaDR3 Source ID\"])\n",
    "\n",
    "print(star_occ)"
   ]
  },
  {
   "cell_type": "code",
   "execution_count": 8,
   "metadata": {},
   "outputs": [
    {
     "name": "stderr",
     "output_type": "stream",
     "text": [
      "WARNING: AstropyDeprecationWarning: The get_moon function is deprecated and may be removed in a future version.\n",
      "        Use get_body(\"moon\") instead. [sora.prediction.table]\n",
      "WARNING: NonRotationTransformationWarning: transforming other coordinates from <ICRS Frame> to <GCRS Frame (obstime=['2025-01-21 05:48:19.420'], obsgeoloc=(0., 0., 0.) m, obsgeovel=(0., 0., 0.) m / s)>. Angular separation can depend on the direction of the transformation. [astropy.coordinates.baseframe]\n",
      "WARNING: NonRotationTransformationWarning: transforming other coordinates from <ICRS Frame> to <GCRS Frame (obstime=['2025-01-21 05:48:19.420'], obsgeoloc=(0., 0., 0.) m, obsgeovel=(0., 0., 0.) m / s)>. Angular separation can depend on the direction of the transformation. [astropy.coordinates.baseframe]\n"
     ]
    },
    {
     "name": "stdout",
     "output_type": "stream",
     "text": [
      "Stellar occultation of star GaiaDR3 3361055141708406400 by 17822 Tonireland (1998 FM135).\n",
      "\n",
      "Geocentric Closest Approach: 0.836 arcsec\n",
      "Instant of CA: 2025-01-21 05:48:19.420\n",
      "Position Angle: 7.43 deg\n",
      "Geocentric shadow velocity: -13.56 km / s\n",
      "Sun-Geocenter-Target angle:  163.10 deg\n",
      "Moon-Geocenter-Target angle: 99.14 deg\n",
      "\n",
      "\n",
      "No observations reported\n",
      "\n",
      "###############################################################################\n",
      "                                     STAR                                      \n",
      "###############################################################################\n",
      "GaiaDR3 star Source ID: 3361055141708406400\n",
      "ICRS star coordinate at J2016.0:\n",
      "RA=7h02m48.85493s +/- 0.0171 mas, DEC=17d09m43.6676s +/- 0.0151 mas\n",
      "pmRA=3.057 +/- 0.022 mas/yr, pmDEC=-2.415 +/- 0.020 mas/yr\n",
      "GaiaDR3 Proper motion corrected as suggested by Cantat-Gaudin & Brandt (2021) \n",
      "Plx=0.6606 +/- 0.0197 mas, Rad. Vel.=-10.44 +/- 1.83 km/s \n",
      "\n",
      "Magnitudes: G: 11.128, B: 12.517, V: 11.490, R: 10.850, J:  9.462, H:  8.856,\n",
      "            K:  8.736\n",
      "\n",
      "Apparent diameter from Kervella et. al (2004):\n",
      "    V: 0.0950 mas, B: 0.0935 mas\n",
      "Apparent diameter from van Belle (1999):\n",
      "    sg: B: 0.0947 mas, V: 0.0966 mas\n",
      "    ms: B: 0.1239 mas, V: 0.0849 mas\n",
      "    vs: B: 0.1363 mas, V: 0.1234 mas\n",
      "\n",
      "Geocentric star coordinate at occultation Epoch (2025-01-21 05:48:19.420):\n",
      "RA=7h02m48.85685s +/- 0.1780 mas, DEC=17d09m43.6457s +/- 0.1753 mas\n",
      "\n",
      "###############################################################################\n",
      "                         17822 Tonireland (1998 FM135)                         \n",
      "###############################################################################\n",
      "Object Orbital Class: Main-belt Asteroid\n",
      "Discovered 1998-Mar-22 by LINEAR at Socorro\n",
      "\n",
      "Physical parameters:\n",
      "Diameter:\n",
      "    10.544 +/- 0.131 km\n",
      "    Reference: urn:nasa:pds:neowise_diameters_albedos::2.0[mainbelt] (http://adsabs.harvard.edu/abs/2011ApJ...741...68M), \n",
      "Rotation:\n",
      "    4.613 +/- 0 h\n",
      "    Reference: LCDB (Rev. 2023-February); Warner et al., 2009, [Result based on less than full coverage, so that the period may be wrong by 30 percent or so.]  REFERENCE LIST:[Warner, B.D (2012) Minor Planet Bull. 39, 16-21.]\n",
      "Absolute Magnitude:\n",
      "    13.75 +/- 0 mag\n",
      "    Reference: E2025-CG0, \n",
      "Albedo:\n",
      "    0.044 +/- 0.008 \n",
      "    Reference: urn:nasa:pds:neowise_diameters_albedos::2.0[mainbelt] (http://adsabs.harvard.edu/abs/2011ApJ...741...68M), \n",
      "\n",
      "Ellipsoid: 5.272 x 5.272 x 5.272\n",
      "\n",
      "----------- Ephemeris -----------\n",
      "\n",
      "EphemHorizons: Ephemeris are downloaded from Horizons website (SPKID=20017822)\n",
      "Ephem Error: RA*cosDEC: 0.000 arcsec; DEC: 0.000 arcsec\n",
      "Offset applied: RA*cosDEC: 0.0000 arcsec; DEC: 0.0000 arcsec\n",
      "\n",
      "\n",
      "\n"
     ]
    }
   ],
   "source": [
    "occ = Occultation(star=star_occ, body=tonireland, time='2025-01-21 05:48:19.440')\n",
    "\n",
    "print(occ)"
   ]
  },
  {
   "cell_type": "code",
   "execution_count": 9,
   "metadata": {},
   "outputs": [
    {
     "name": "stdout",
     "output_type": "stream",
     "text": [
      "Site: Telescope 2\n",
      "Geodetic coordinates: Lon: -110d57m06.8976s, Lat: 31d40m28.2756s, height: 1.260 km\n"
     ]
    }
   ],
   "source": [
    "# Define our observers as each telescope at VERITAS\n",
    "T1 = Observer(name='Telescope 1', lat='31 40 29.5572', lon='-110 57 3.456', height =1268)\n",
    "T2 = Observer(name='Telescope 2', lat='31 40 28.2756', lon='-110 57 6.8976', height =1260)\n",
    "T3 = Observer(name='Telescope 3', lat='31 40 31.8936', lon='-110 57 7.4844', height =1267)\n",
    "T4 = Observer(name='Telescope 4', lat='31 40 30.2556', lon='-110 57 9.9756', height =1265)\n",
    "\n",
    "print(T2)"
   ]
  },
  {
   "cell_type": "code",
   "execution_count": 10,
   "metadata": {},
   "outputs": [],
   "source": [
    "# set up the objects for the occultation parameter calculation\n",
    "from sora import EphemHorizons\n",
    "tonireland_time = Time(\"2025-01-21 05:48:19.440\")\n",
    "tonireland_ephem = EphemHorizons(name='tonireland')\n",
    "tonireland_star = star_occ"
   ]
  },
  {
   "cell_type": "code",
   "execution_count": 12,
   "metadata": {},
   "outputs": [
    {
     "name": "stdout",
     "output_type": "stream",
     "text": [
      "Occultation of TYC 1348-01032-1 by Tonireland over VERITAS\n",
      "--------------------------------------------------------\n",
      "Time of closest approach: 2025-01-21 05:49:35.540\n",
      "Distance of closest approach: 0.0014146877965492113 arcsec \n",
      "Position angle of closest approach: 8.88186040930331 deg\n",
      "Velocity of occultation shadow: -13.953648050134237 km / s \n",
      "Distance to the occulting body: 365301193.87177855 km or 2.44188765630458 AU\n"
     ]
    }
   ],
   "source": [
    "from sora.prediction import occ_params\n",
    "time_of_closest_approach, distance_of_closest_approach, position_angle_of_closest_approach, velocity_shadow, distance_to_object = occ_params(star=tonireland_star, ephem=tonireland_ephem, time=tonireland_time, max_tdiff=600, reference_center=T1)\n",
    "\n",
    "print(\"Occultation of TYC 1348-01032-1 by Tonireland over VERITAS\")\n",
    "print(\"--------------------------------------------------------\")\n",
    "print(f\"Time of closest approach: {time_of_closest_approach}\")\n",
    "print(f\"Distance of closest approach: {distance_of_closest_approach} \")\n",
    "print(f\"Position angle of closest approach: {position_angle_of_closest_approach}\")\n",
    "print(f\"Velocity of occultation shadow: {velocity_shadow} \")\n",
    "print(f\"Distance to the occulting body: {distance_to_object.to(u.km)} or {distance_to_object}\")"
   ]
  },
  {
   "cell_type": "code",
   "execution_count": null,
   "metadata": {},
   "outputs": [],
   "source": []
  }
 ],
 "metadata": {
  "kernelspec": {
   "display_name": "mySORA_env",
   "language": "python",
   "name": "python3"
  },
  "language_info": {
   "codemirror_mode": {
    "name": "ipython",
    "version": 3
   },
   "file_extension": ".py",
   "mimetype": "text/x-python",
   "name": "python",
   "nbconvert_exporter": "python",
   "pygments_lexer": "ipython3",
   "version": "3.10.12"
  }
 },
 "nbformat": 4,
 "nbformat_minor": 2
}
