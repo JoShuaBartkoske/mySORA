{
 "cells": [
  {
   "cell_type": "markdown",
   "metadata": {},
   "source": [
    "# Dark Run 8 Occultation Predictions"
   ]
  },
  {
   "cell_type": "code",
   "execution_count": 2,
   "metadata": {},
   "outputs": [
    {
     "name": "stdout",
     "output_type": "stream",
     "text": [
      "SORA version: 0.3.1\n"
     ]
    }
   ],
   "source": [
    "## SORA package\n",
    "from sora import Occultation, Body, Star, LightCurve, Observer\n",
    "from sora.prediction import prediction\n",
    "from sora.extra import draw_ellipse\n",
    "\n",
    "## Other main packages\n",
    "from astropy.time import Time\n",
    "import astropy.units as u\n",
    "from astropy.table import Table\n",
    "\n",
    "## Usual packages\n",
    "import numpy as np\n",
    "import matplotlib.pylab as pl\n",
    "import os"
   ]
  },
  {
   "cell_type": "code",
   "execution_count": 3,
   "metadata": {},
   "outputs": [
    {
     "name": "stdout",
     "output_type": "stream",
     "text": [
      "[2800 2801 2802 2803 2804 2805 2806 2807 2808 2809]\n"
     ]
    }
   ],
   "source": [
    "# Now to have a list of bodies to search for an occultation:\n",
    "first_numbered_body = 2800\n",
    "MPC_bodies = np.arange(first_numbered_body,first_numbered_body+10) # use numbers instead of names.\n",
    "print(MPC_bodies)"
   ]
  },
  {
   "cell_type": "code",
   "execution_count": 4,
   "metadata": {},
   "outputs": [],
   "source": [
    "# define our \"observers\", one for each telescope in VERITAS\n",
    "T1 = Observer(name='Telescope 1', lat='31 40 29.5572', lon='-110 57 3.456', height =1268)\n",
    "T2 = Observer(name='Telescope 2', lat='31 40 28.2756', lon='-110 57 6.8976', height =1260)\n",
    "T3 = Observer(name='Telescope 3', lat='31 40 31.8936', lon='-110 57 7.4844', height =1267)\n",
    "T4 = Observer(name='Telescope 4', lat='31 40 30.2556', lon='-110 57 9.9756', height =1265)"
   ]
  },
  {
   "cell_type": "code",
   "execution_count": null,
   "metadata": {},
   "outputs": [
    {
     "name": "stdout",
     "output_type": "stream",
     "text": [
      "Obtaining data for 2800 from SBDB\n",
      "Ephemeris was split in 1 parts for better search of stars\n",
      "\n",
      "Searching occultations in part 1/1\n",
      "Generating Ephemeris between 2025-03-19 00:00:00.000 and 2025-03-30 23:59:00.000 ...\n",
      "Downloading stars ...\n",
      "    3089 GaiaDR3 stars downloaded\n",
      "Identifying occultations ...\n",
      "\n",
      "No stellar occultation was found.\n",
      "[]\n",
      "Obtaining data for 2801 from SBDB\n",
      "Ephemeris was split in 1 parts for better search of stars\n",
      "\n",
      "Searching occultations in part 1/1\n",
      "Generating Ephemeris between 2025-03-19 00:00:00.000 and 2025-03-30 23:59:00.000 ...\n",
      "Downloading stars ...\n",
      "    36914 GaiaDR3 stars downloaded\n",
      "Identifying occultations ...\n",
      "\n",
      "No stellar occultation was found.\n",
      "<No columns>\n",
      "stop here...\n",
      "Ephemeris was split in 1 parts for better search of stars\n",
      "\n",
      "Searching occultations in part 1/1\n",
      "Generating Ephemeris between 2025-03-19 00:00:00.000 and 2025-03-30 23:59:00.000 ...\n",
      "Downloading stars ...\n",
      "    36914 GaiaDR3 stars downloaded\n",
      "Identifying occultations ...\n",
      "\n",
      "No stellar occultation was found.\n",
      "Obtaining data for 2802 from SBDB\n",
      "Ephemeris was split in 1 parts for better search of stars\n",
      "\n",
      "Searching occultations in part 1/1\n",
      "Generating Ephemeris between 2025-03-19 00:00:00.000 and 2025-03-30 23:59:00.000 ...\n",
      "Downloading stars ...\n",
      "    16715 GaiaDR3 stars downloaded\n",
      "Identifying occultations ...\n",
      "\n",
      "No stellar occultation was found.\n",
      "<No columns>\n",
      "stop here...\n",
      "Ephemeris was split in 1 parts for better search of stars\n",
      "\n",
      "Searching occultations in part 1/1\n",
      "Generating Ephemeris between 2025-03-19 00:00:00.000 and 2025-03-30 23:59:00.000 ...\n",
      "Downloading stars ...\n",
      "    16715 GaiaDR3 stars downloaded\n",
      "Identifying occultations ...\n",
      "\n",
      "No stellar occultation was found.\n",
      "Obtaining data for 2803 from SBDB\n",
      "Ephemeris was split in 1 parts for better search of stars\n",
      "\n",
      "Searching occultations in part 1/1\n",
      "Generating Ephemeris between 2025-03-19 00:00:00.000 and 2025-03-30 23:59:00.000 ...\n",
      "Downloading stars ...\n",
      "    34670 GaiaDR3 stars downloaded\n",
      "Identifying occultations ...\n",
      "\n",
      "No stellar occultation was found.\n",
      "<No columns>\n",
      "stop here...\n",
      "Ephemeris was split in 1 parts for better search of stars\n",
      "\n",
      "Searching occultations in part 1/1\n",
      "Generating Ephemeris between 2025-03-19 00:00:00.000 and 2025-03-30 23:59:00.000 ...\n",
      "Downloading stars ...\n",
      "    34670 GaiaDR3 stars downloaded\n",
      "Identifying occultations ...\n",
      "\n",
      "No stellar occultation was found.\n",
      "Obtaining data for 2804 from SBDB\n",
      "Ephemeris was split in 1 parts for better search of stars\n",
      "\n",
      "Searching occultations in part 1/1\n",
      "Generating Ephemeris between 2025-03-19 00:00:00.000 and 2025-03-30 23:59:00.000 ...\n",
      "Downloading stars ...\n",
      "    921 GaiaDR3 stars downloaded\n",
      "Identifying occultations ...\n",
      "\n",
      "No stellar occultation was found.\n",
      "<No columns>\n",
      "stop here...\n",
      "Ephemeris was split in 1 parts for better search of stars\n",
      "\n",
      "Searching occultations in part 1/1\n",
      "Generating Ephemeris between 2025-03-19 00:00:00.000 and 2025-03-30 23:59:00.000 ...\n",
      "Downloading stars ...\n",
      "    921 GaiaDR3 stars downloaded\n",
      "Identifying occultations ...\n",
      "\n",
      "No stellar occultation was found.\n",
      "Obtaining data for 2805 from SBDB\n",
      "Ephemeris was split in 1 parts for better search of stars\n",
      "\n",
      "Searching occultations in part 1/1\n",
      "Generating Ephemeris between 2025-03-19 00:00:00.000 and 2025-03-30 23:59:00.000 ...\n",
      "Downloading stars ...\n",
      "    48991 GaiaDR3 stars downloaded\n",
      "Identifying occultations ...\n",
      "\n",
      "No stellar occultation was found.\n",
      "<No columns>\n",
      "stop here...\n",
      "Ephemeris was split in 1 parts for better search of stars\n",
      "\n",
      "Searching occultations in part 1/1\n",
      "Generating Ephemeris between 2025-03-19 00:00:00.000 and 2025-03-30 23:59:00.000 ...\n",
      "Downloading stars ...\n",
      "    48991 GaiaDR3 stars downloaded\n",
      "Identifying occultations ...\n",
      "\n",
      "No stellar occultation was found.\n",
      "Obtaining data for 2806 from SBDB\n",
      "Ephemeris was split in 1 parts for better search of stars\n",
      "\n",
      "Searching occultations in part 1/1\n",
      "Generating Ephemeris between 2025-03-19 00:00:00.000 and 2025-03-30 23:59:00.000 ...\n",
      "Downloading stars ...\n",
      "    35070 GaiaDR3 stars downloaded\n",
      "Identifying occultations ...\n",
      "\n",
      "No stellar occultation was found.\n",
      "<No columns>\n",
      "stop here...\n",
      "Ephemeris was split in 1 parts for better search of stars\n",
      "\n",
      "Searching occultations in part 1/1\n",
      "Generating Ephemeris between 2025-03-19 00:00:00.000 and 2025-03-30 23:59:00.000 ...\n",
      "Downloading stars ...\n",
      "    35070 GaiaDR3 stars downloaded\n",
      "Identifying occultations ...\n",
      "\n",
      "No stellar occultation was found.\n",
      "Obtaining data for 2807 from SBDB\n",
      "Ephemeris was split in 1 parts for better search of stars\n",
      "\n",
      "Searching occultations in part 1/1\n",
      "Generating Ephemeris between 2025-03-19 00:00:00.000 and 2025-03-30 23:59:00.000 ...\n",
      "Downloading stars ...\n",
      "    24705 GaiaDR3 stars downloaded\n",
      "Identifying occultations ...\n",
      "\n",
      "No stellar occultation was found.\n",
      "<No columns>\n",
      "stop here...\n",
      "Ephemeris was split in 1 parts for better search of stars\n",
      "\n",
      "Searching occultations in part 1/1\n",
      "Generating Ephemeris between 2025-03-19 00:00:00.000 and 2025-03-30 23:59:00.000 ...\n",
      "Downloading stars ...\n",
      "    24705 GaiaDR3 stars downloaded\n",
      "Identifying occultations ...\n",
      "\n",
      "No stellar occultation was found.\n",
      "Obtaining data for 2808 from SBDB\n",
      "Ephemeris was split in 1 parts for better search of stars\n",
      "\n",
      "Searching occultations in part 1/1\n",
      "Generating Ephemeris between 2025-03-19 00:00:00.000 and 2025-03-30 23:59:00.000 ...\n",
      "Downloading stars ...\n",
      "    40877 GaiaDR3 stars downloaded\n",
      "Identifying occultations ...\n",
      "\n",
      "No stellar occultation was found.\n",
      "<No columns>\n",
      "stop here...\n",
      "Ephemeris was split in 1 parts for better search of stars\n",
      "\n",
      "Searching occultations in part 1/1\n",
      "Generating Ephemeris between 2025-03-19 00:00:00.000 and 2025-03-30 23:59:00.000 ...\n",
      "Downloading stars ...\n",
      "    40877 GaiaDR3 stars downloaded\n",
      "Identifying occultations ...\n",
      "\n",
      "No stellar occultation was found.\n",
      "Obtaining data for 2809 from SBDB\n",
      "Ephemeris was split in 1 parts for better search of stars\n",
      "\n",
      "Searching occultations in part 1/1\n",
      "Generating Ephemeris between 2025-03-19 00:00:00.000 and 2025-03-30 23:59:00.000 ...\n",
      "Downloading stars ...\n",
      "    34129 GaiaDR3 stars downloaded\n",
      "Identifying occultations ...\n",
      "\n",
      "No stellar occultation was found.\n",
      "<No columns>\n",
      "stop here...\n",
      "Ephemeris was split in 1 parts for better search of stars\n",
      "\n",
      "Searching occultations in part 1/1\n",
      "Generating Ephemeris between 2025-03-19 00:00:00.000 and 2025-03-30 23:59:00.000 ...\n",
      "Downloading stars ...\n",
      "    34129 GaiaDR3 stars downloaded\n",
      "Identifying occultations ...\n",
      "\n",
      "No stellar occultation was found.\n"
     ]
    }
   ],
   "source": [
    "\n",
    "for n in MPC_bodies:\n",
    "    asteroid = Body(name=f'{n}')\n",
    "    pred = prediction(body=asteroid, time_beg='2025-03-19',time_end='2025-03-31',mag_lim={'B': 13.5}, reference_center=T1)\n",
    "    \n",
    "    else:\n",
    "        pred_new_row = prediction(body=asteroid, time_beg='2025-03-19',time_end='2025-03-31',mag_lim={'B': 13.5}, reference_center=T1)\n",
    "        print(pred_new_row)\n",
    "        pred.add_row(prediction(body=asteroid, time_beg='2025-03-19',time_end='2025-03-31',mag_lim={'B': 13.5}, reference_center=T1))"
   ]
  },
  {
   "cell_type": "code",
   "execution_count": null,
   "metadata": {},
   "outputs": [
    {
     "data": {
      "text/html": [
       "<div><i>PredictionTable length=0</i>\n",
       "<No columns></div>"
      ],
      "text/plain": [
       "<PredictionTable length=0>\n",
       "<No columns>"
      ]
     },
     "execution_count": 12,
     "metadata": {},
     "output_type": "execute_result"
    }
   ],
   "source": [
    "print(pred)"
   ]
  },
  {
   "cell_type": "code",
   "execution_count": 11,
   "metadata": {},
   "outputs": [
    {
     "name": "stdout",
     "output_type": "stream",
     "text": [
      "773916\n"
     ]
    }
   ],
   "source": [
    "MPC_bodies = np.arange(1,773917) # use numbers instead of names.\n",
    "print(MPC_bodies[-1])"
   ]
  },
  {
   "cell_type": "code",
   "execution_count": null,
   "metadata": {},
   "outputs": [],
   "source": []
  }
 ],
 "metadata": {
  "kernelspec": {
   "display_name": "mySORA_env",
   "language": "python",
   "name": "python3"
  },
  "language_info": {
   "codemirror_mode": {
    "name": "ipython",
    "version": 3
   },
   "file_extension": ".py",
   "mimetype": "text/x-python",
   "name": "python",
   "nbconvert_exporter": "python",
   "pygments_lexer": "ipython3",
   "version": "3.10.12"
  }
 },
 "nbformat": 4,
 "nbformat_minor": 2
}
