{
 "cells": [
  {
   "cell_type": "markdown",
   "id": "907c1f65",
   "metadata": {},
   "source": [
    "# Occultation of TYC 5517-00227-1 by Imprinetta"
   ]
  },
  {
   "cell_type": "markdown",
   "id": "51aa5e08",
   "metadata": {},
   "source": [
    "This occultation took place on Feb 22, 2018"
   ]
  },
  {
   "cell_type": "code",
   "execution_count": 1,
   "id": "d9b16a49",
   "metadata": {},
   "outputs": [
    {
     "name": "stdout",
     "output_type": "stream",
     "text": [
      "2018-02-22\n"
     ]
    }
   ],
   "source": [
    "# Define the initial values for setting up the rest of the analysis and for print statements\n",
    "date = \"2018-02-21\"\n",
    "date_plus_one = \"2018-02-24\"\n",
    "dateP1 = date.replace(date[-2:],str(int(date[-2:])+1))\n",
    "print(dateP1)\n",
    "star_id = \"TYC 5517-00227-1\"\n",
    "asteroid_name = \"Imprinetta\""
   ]
  },
  {
   "cell_type": "code",
   "execution_count": 2,
   "id": "1347658b",
   "metadata": {},
   "outputs": [
    {
     "name": "stdout",
     "output_type": "stream",
     "text": [
      "SORA version: 0.3.1\n"
     ]
    }
   ],
   "source": [
    "## SORA package\n",
    "from sora import Occultation, Body, Star, LightCurve, Observer\n",
    "from sora.prediction import prediction\n",
    "from sora.extra import draw_ellipse\n",
    "\n",
    "## Other main packages\n",
    "from astropy.time import Time\n",
    "import astropy.units as u\n",
    "\n",
    "## Usual packages\n",
    "import numpy as np\n",
    "import matplotlib.pylab as pl\n",
    "import os\n",
    "import sys\n",
    "\n",
    "# Add the directory to sys.path\n",
    "sys.path.append('/home/joshuabartkoske/AO/scripts')"
   ]
  },
  {
   "cell_type": "code",
   "execution_count": 3,
   "id": "ed499f5b",
   "metadata": {},
   "outputs": [
    {
     "name": "stdout",
     "output_type": "stream",
     "text": [
      "Obtaining data for Imprinetta from SBDB\n"
     ]
    }
   ],
   "source": [
    "# First, let's consider the Solar System Body\n",
    "\n",
    "imprinetta = Body(name=asteroid_name)\n",
    "                #,ephem=['guidelines/input/bsp/Chariklo.bsp', 'guidelines/input/bsp/de438_small.bsp'])\n"
   ]
  },
  {
   "cell_type": "code",
   "execution_count": 4,
   "id": "f858ebb7",
   "metadata": {},
   "outputs": [
    {
     "name": "stdout",
     "output_type": "stream",
     "text": [
      "Ephemeris was split in 1 parts for better search of stars\n",
      "\n",
      "Searching occultations in part 1/1\n",
      "Generating Ephemeris between 2018-02-21 00:00:00.000 and 2018-02-23 23:59:00.000 ...\n",
      "Downloading stars ...\n",
      "    7 GaiaDR3 stars downloaded\n",
      "Identifying occultations ...\n",
      "\n",
      "1 occultations found.\n"
     ]
    },
    {
     "name": "stderr",
     "output_type": "stream",
     "text": [
      "WARNING: AstropyDeprecationWarning: The get_moon function is deprecated and may be removed in a future version.\n",
      "        Use get_body(\"moon\") instead. [sora.prediction.table]\n",
      "WARNING: NonRotationTransformationWarning: transforming other coordinates from <ICRS Frame> to <GCRS Frame (obstime=['2018-02-22 11:24:54.660'], obsgeoloc=(0., 0., 0.) m, obsgeovel=(0., 0., 0.) m / s)>. Angular separation can depend on the direction of the transformation. [astropy.coordinates.baseframe]\n",
      "WARNING: NonRotationTransformationWarning: transforming other coordinates from <ICRS Frame> to <GCRS Frame (obstime=['2018-02-22 11:24:54.660'], obsgeoloc=(0., 0., 0.) m, obsgeovel=(0., 0., 0.) m / s)>. Angular separation can depend on the direction of the transformation. [astropy.coordinates.baseframe]\n"
     ]
    },
    {
     "data": {
      "text/html": [
       "<div><i>PredictionTable length=1</i>\n",
       "<table id=\"table140462295058800\" class=\"table-striped table-bordered table-condensed\">\n",
       "<thead><tr><th>Epoch</th><th>ICRS Star Coord at Epoch</th><th>Geocentric Object Position</th><th>C/A</th><th>P/A</th><th>Vel</th><th>Dist</th><th>G</th><th>long</th><th>loct</th><th>M-G-T</th><th>S-G-T</th><th>GaiaDR3 Source ID</th></tr></thead>\n",
       "<thead><tr><th></th><th></th><th></th><th>arcsec</th><th>deg</th><th>km / s</th><th>AU</th><th>mag</th><th>deg</th><th>hh:mm</th><th>deg</th><th>deg</th><th></th></tr></thead>\n",
       "<thead><tr><th>object</th><th>object</th><th>object</th><th>float64</th><th>float64</th><th>float64</th><th>float64</th><th>float64</th><th>float64</th><th>str5</th><th>float64</th><th>float64</th><th>str19</th></tr></thead>\n",
       "<tr><td>2018-02-22 11:24:54.660</td><td>11 46 47.60280 -08 27 14.40485</td><td>11 46 47.68741 -08 27 12.01983</td><td>2.695</td><td>27.76</td><td>-11.84</td><td>2.535</td><td>10.036</td><td>213</td><td>01:37</td><td>126</td><td>152</td><td>3589141170964784512</td></tr>\n",
       "</table></div>"
      ],
      "text/plain": [
       "<PredictionTable length=1>\n",
       "         Epoch             ICRS Star Coord at Epoch    ...  GaiaDR3 Source ID \n",
       "                                                       ...                    \n",
       "         object                     object             ...        str19       \n",
       "----------------------- ------------------------------ ... -------------------\n",
       "2018-02-22 11:24:54.660 11 46 47.60280 -08 27 14.40485 ... 3589141170964784512"
      ]
     },
     "execution_count": 4,
     "metadata": {},
     "output_type": "execute_result"
    }
   ],
   "source": [
    "pred = prediction(body=imprinetta, time_beg=date,time_end=date_plus_one,mag_lim=14)\n",
    "pred"
   ]
  },
  {
   "cell_type": "code",
   "execution_count": 5,
   "id": "971842c3",
   "metadata": {},
   "outputs": [
    {
     "name": "stdout",
     "output_type": "stream",
     "text": [
      "figures/observations/Imprinetta_2018-02-21_map.png generated\n"
     ]
    }
   ],
   "source": [
    "## ploting the occultation map\n",
    "imprinetta_time = '2018-02-22 11:24:54.660'\n",
    "\n",
    "pred[imprinetta_time].plot_occ_map(nameimg=f'figures/observations/{asteroid_name}_{date}_map')"
   ]
  },
  {
   "cell_type": "code",
   "execution_count": 6,
   "id": "766f8215",
   "metadata": {},
   "outputs": [
    {
     "name": "stdout",
     "output_type": "stream",
     "text": [
      "1 GaiaDR3 star found band={'G': 10.035861}\n",
      "star coordinate at J2016.0: RA=11h46m47.60640s +/- 0.0164 mas, DEC=-8d27m14.4163s +/- 0.0117 mas\n",
      "\n",
      "Downloading star parameters from I/297/out\n",
      "GaiaDR3 star Source ID: 3589141170964784512\n",
      "ICRS star coordinate at J2016.0:\n",
      "RA=11h46m47.60640s +/- 0.0164 mas, DEC=-8d27m14.4163s +/- 0.0117 mas\n",
      "pmRA=-25.127 +/- 0.020 mas/yr, pmDEC=5.501 +/- 0.013 mas/yr\n",
      "GaiaDR3 Proper motion corrected as suggested by Cantat-Gaudin & Brandt (2021) \n",
      "Plx=1.2690 +/- 0.0196 mas, Rad. Vel.=-4.79 +/- 0.16 km/s \n",
      "\n",
      "Magnitudes: G: 10.036, B: 11.329, V: 10.228, R:  9.560, J:  8.443, H:  7.919,\n",
      "            K:  7.776\n",
      "\n",
      "Apparent diameter from Kervella et. al (2004):\n",
      "    V: 0.1403 mas, B: 0.1415 mas\n",
      "Apparent diameter from van Belle (1999):\n",
      "    sg: B: 0.1458 mas, V: 0.1480 mas\n",
      "    ms: B: 0.1839 mas, V: 0.1264 mas\n",
      "    vs: B: 0.2108 mas, V: 0.1896 mas\n"
     ]
    }
   ],
   "source": [
    "star_occ = Star(code=pred[imprinetta_time][\"GaiaDR3 Source ID\"])\n",
    "\n",
    "print(star_occ)"
   ]
  },
  {
   "cell_type": "code",
   "execution_count": 7,
   "id": "b908d754",
   "metadata": {},
   "outputs": [
    {
     "name": "stderr",
     "output_type": "stream",
     "text": [
      "WARNING: AstropyDeprecationWarning: The get_moon function is deprecated and may be removed in a future version.\n",
      "        Use get_body(\"moon\") instead. [sora.prediction.table]\n",
      "WARNING: NonRotationTransformationWarning: transforming other coordinates from <ICRS Frame> to <GCRS Frame (obstime=['2018-02-22 11:24:54.660'], obsgeoloc=(0., 0., 0.) m, obsgeovel=(0., 0., 0.) m / s)>. Angular separation can depend on the direction of the transformation. [astropy.coordinates.baseframe]\n",
      "WARNING: NonRotationTransformationWarning: transforming other coordinates from <ICRS Frame> to <GCRS Frame (obstime=['2018-02-22 11:24:54.660'], obsgeoloc=(0., 0., 0.) m, obsgeovel=(0., 0., 0.) m / s)>. Angular separation can depend on the direction of the transformation. [astropy.coordinates.baseframe]\n"
     ]
    }
   ],
   "source": [
    "occ = Occultation(star=star_occ, body=imprinetta, time=imprinetta_time)\n"
   ]
  },
  {
   "cell_type": "code",
   "execution_count": 8,
   "id": "4ca1be3c",
   "metadata": {},
   "outputs": [
    {
     "name": "stdout",
     "output_type": "stream",
     "text": [
      "Site: Telescope 2\n",
      "Geodetic coordinates: Lon: -110d57m06.8976s, Lat: 31d40m28.2756s, height: 1.260 km\n"
     ]
    }
   ],
   "source": [
    "# Define our observers as each telescope at VERITAS\n",
    "T1 = Observer(name='Telescope 1', lat='31 40 29.5572', lon='-110 57 3.456', height =1268)\n",
    "T2 = Observer(name='Telescope 2', lat='31 40 28.2756', lon='-110 57 6.8976', height =1260)\n",
    "T3 = Observer(name='Telescope 3', lat='31 40 31.8936', lon='-110 57 7.4844', height =1267)\n",
    "T4 = Observer(name='Telescope 4', lat='31 40 30.2556', lon='-110 57 9.9756', height =1265)\n",
    "\n",
    "print(T2)"
   ]
  },
  {
   "cell_type": "code",
   "execution_count": 9,
   "id": "c96f4dd9",
   "metadata": {},
   "outputs": [],
   "source": [
    "# set up the objects for the occultation parameter calculation\n",
    "from sora import EphemHorizons\n",
    "imprinetta_time = Time(imprinetta_time)\n",
    "imprinetta_ephem = EphemHorizons(name='imprinetta')\n",
    "imprinetta_star = star_occ"
   ]
  },
  {
   "cell_type": "code",
   "execution_count": 10,
   "id": "ccb247ab",
   "metadata": {},
   "outputs": [
    {
     "name": "stdout",
     "output_type": "stream",
     "text": [
      "Occultation of TYC 5517-00227-1 by Imprinetta over VERITAS\n",
      "--------------------------------------------------------\n",
      "Time of closest approach: 2018-02-22 11:23:35.260\n",
      "Distance of closest approach: 0.003765260872746571 arcsec \n",
      "Position angle of closest approach: 207.86037544829136 deg\n",
      "Velocity of occultation shadow: -12.141645378478275 km / s \n",
      "Distance to the occulting body: 379183572.4125475 km or 2.53468562512466 AU\n"
     ]
    }
   ],
   "source": [
    "from sora.prediction import occ_params\n",
    "time_of_closest_approach, distance_of_closest_approach, position_angle_of_closest_approach, velocity_shadow, distance_to_object = occ_params(star=imprinetta_star, ephem=imprinetta_ephem, time=imprinetta_time, max_tdiff=600, reference_center=T1)\n",
    "\n",
    "print(f\"Occultation of {star_id} by {asteroid_name} over VERITAS\")\n",
    "print(\"--------------------------------------------------------\")\n",
    "print(f\"Time of closest approach: {time_of_closest_approach}\")\n",
    "print(f\"Distance of closest approach: {distance_of_closest_approach} \")\n",
    "print(f\"Position angle of closest approach: {position_angle_of_closest_approach}\")\n",
    "print(f\"Velocity of occultation shadow: {velocity_shadow} \")\n",
    "print(f\"Distance to the occulting body: {distance_to_object.to(u.km)} or {distance_to_object}\")"
   ]
  },
  {
   "cell_type": "code",
   "execution_count": null,
   "id": "61cf39ee",
   "metadata": {},
   "outputs": [],
   "source": []
  }
 ],
 "metadata": {
  "kernelspec": {
   "display_name": "mySORA_env",
   "language": "python",
   "name": "python3"
  },
  "language_info": {
   "codemirror_mode": {
    "name": "ipython",
    "version": 3
   },
   "file_extension": ".py",
   "mimetype": "text/x-python",
   "name": "python",
   "nbconvert_exporter": "python",
   "pygments_lexer": "ipython3",
   "version": "3.10.12"
  }
 },
 "nbformat": 4,
 "nbformat_minor": 5
}
