{
 "cells": [
  {
   "cell_type": "markdown",
   "metadata": {},
   "source": [
    "# Occultation of TYC 6880-768-1 by (351) yrsa"
   ]
  },
  {
   "cell_type": "markdown",
   "metadata": {},
   "source": [
    "This code will detail the full parameters of the occultation that occurred on Nov 1, 2019 UTC"
   ]
  },
  {
   "cell_type": "code",
   "execution_count": 1,
   "metadata": {},
   "outputs": [
    {
     "name": "stdout",
     "output_type": "stream",
     "text": [
      "SORA version: 0.3.1\n"
     ]
    }
   ],
   "source": [
    "## SORA package\n",
    "from sora import Occultation, Body, Star, LightCurve, Observer, EphemHorizons\n",
    "from sora.prediction import prediction, occ_params\n",
    "from sora.extra import draw_ellipse\n",
    "\n",
    "## Other main packages\n",
    "from astropy.time import Time\n",
    "import astropy.units as u\n",
    "\n",
    "## Usual packages\n",
    "import numpy as np\n",
    "import matplotlib.pylab as pl\n",
    "import os\n",
    "import sys\n",
    "\n",
    "# Add the directory to sys.path\n",
    "sys.path.append('/home/joshuabartkoske/AO/scripts')\n",
    "from Occultations2 import Open_Two_Column_File"
   ]
  },
  {
   "cell_type": "code",
   "execution_count": 2,
   "metadata": {},
   "outputs": [
    {
     "name": "stdout",
     "output_type": "stream",
     "text": [
      "Obtaining data for yrsa from SBDB\n"
     ]
    }
   ],
   "source": [
    "# first define the solar system body\n",
    "yrsa = Body(name=\"yrsa\")"
   ]
  },
  {
   "cell_type": "code",
   "execution_count": 3,
   "metadata": {},
   "outputs": [
    {
     "name": "stdout",
     "output_type": "stream",
     "text": [
      "Ephemeris was split in 1 parts for better search of stars\n",
      "\n",
      "Searching occultations in part 1/1\n",
      "Generating Ephemeris between 2019-11-01 00:00:00.000 and 2019-11-01 23:59:00.000 ...\n",
      "Downloading stars ...\n",
      "    8 GaiaDR3 stars downloaded\n",
      "Identifying occultations ...\n",
      "\n",
      "2 occultations found.\n"
     ]
    },
    {
     "name": "stderr",
     "output_type": "stream",
     "text": [
      "WARNING: AstropyDeprecationWarning: The get_moon function is deprecated and may be removed in a future version.\n",
      "        Use get_body(\"moon\") instead. [sora.prediction.table]\n",
      "WARNING: NonRotationTransformationWarning: transforming other coordinates from <ICRS Frame> to <GCRS Frame (obstime=['2019-11-01 11:21:10.300' '2019-11-01 02:26:22.540'], obsgeoloc=(0., 0., 0.) m, obsgeovel=(0., 0., 0.) m / s)>. Angular separation can depend on the direction of the transformation. [astropy.coordinates.baseframe]\n",
      "WARNING: NonRotationTransformationWarning: transforming other coordinates from <ICRS Frame> to <GCRS Frame (obstime=['2019-11-01 11:21:10.300' '2019-11-01 02:26:22.540'], obsgeoloc=(0., 0., 0.) m, obsgeovel=(0., 0., 0.) m / s)>. Angular separation can depend on the direction of the transformation. [astropy.coordinates.baseframe]\n"
     ]
    }
   ],
   "source": [
    "yrsa_pred     = prediction(body=yrsa, time_beg='2019-11-01',time_end='2019-11-02',mag_lim=14)"
   ]
  },
  {
   "cell_type": "code",
   "execution_count": 4,
   "metadata": {},
   "outputs": [
    {
     "data": {
      "text/html": [
       "<div><i>PredictionTable length=2</i>\n",
       "<table id=\"table135463314259728\" class=\"table-striped table-bordered table-condensed\">\n",
       "<thead><tr><th>Epoch</th><th>ICRS Star Coord at Epoch</th><th>Geocentric Object Position</th><th>C/A</th><th>P/A</th><th>Vel</th><th>Dist</th><th>G</th><th>long</th><th>loct</th><th>M-G-T</th><th>S-G-T</th><th>GaiaDR3 Source ID</th></tr></thead>\n",
       "<thead><tr><th></th><th></th><th></th><th>arcsec</th><th>deg</th><th>km / s</th><th>AU</th><th>mag</th><th>deg</th><th>hh:mm</th><th>deg</th><th>deg</th><th></th></tr></thead>\n",
       "<thead><tr><th>object</th><th>object</th><th>object</th><th>float64</th><th>float64</th><th>float64</th><th>float64</th><th>float64</th><th>float64</th><th>str5</th><th>float64</th><th>float64</th><th>str19</th></tr></thead>\n",
       "<tr><td>2019-11-01 02:26:22.540</td><td>19 24 55.91120 -26 01 31.03889</td><td>19 25 19.84353 -26 00 49.14284</td><td>1.848</td><td>352.94</td><td>24.76</td><td>3.374</td><td>9.469</td><td>215</td><td>16:44</td><td>20</td><td>71</td><td>6766466231748780160</td></tr>\n",
       "<tr><td>2019-11-01 11:21:10.300</td><td>19 25 19.82859 -26 00 47.52531</td><td>19 24 55.89437 -26 01 29.20528</td><td>1.630</td><td>172.90</td><td>24.90</td><td>3.379</td><td>11.487</td><td>81</td><td>16:43</td><td>15</td><td>71</td><td>6766465716352704256</td></tr>\n",
       "</table></div>"
      ],
      "text/plain": [
       "<PredictionTable length=2>\n",
       "         Epoch             ICRS Star Coord at Epoch    ...  GaiaDR3 Source ID \n",
       "                                                       ...                    \n",
       "         object                     object             ...        str19       \n",
       "----------------------- ------------------------------ ... -------------------\n",
       "2019-11-01 02:26:22.540 19 24 55.91120 -26 01 31.03889 ... 6766466231748780160\n",
       "2019-11-01 11:21:10.300 19 25 19.82859 -26 00 47.52531 ... 6766465716352704256"
      ]
     },
     "execution_count": 4,
     "metadata": {},
     "output_type": "execute_result"
    }
   ],
   "source": [
    "yrsa_pred"
   ]
  },
  {
   "cell_type": "code",
   "execution_count": 10,
   "metadata": {},
   "outputs": [
    {
     "data": {
      "text/html": [
       "<i>PredictRow index=0</i>\n",
       "<table id=\"table135463314259728\">\n",
       "<thead><tr><th>Epoch</th><th>ICRS Star Coord at Epoch</th><th>Geocentric Object Position</th><th>C/A</th><th>P/A</th><th>Vel</th><th>Dist</th><th>G</th><th>long</th><th>loct</th><th>M-G-T</th><th>S-G-T</th><th>GaiaDR3 Source ID</th></tr></thead>\n",
       "<thead><tr><th></th><th></th><th></th><th>arcsec</th><th>deg</th><th>km / s</th><th>AU</th><th>mag</th><th>deg</th><th>hh:mm</th><th>deg</th><th>deg</th><th></th></tr></thead>\n",
       "<thead><tr><th>object</th><th>object</th><th>object</th><th>float64</th><th>float64</th><th>float64</th><th>float64</th><th>float64</th><th>float64</th><th>str5</th><th>float64</th><th>float64</th><th>str19</th></tr></thead>\n",
       "<tr><td>2019-11-01 02:26:22.540</td><td>19 24 55.91120 -26 01 31.03889</td><td>19 25 19.84353 -26 00 49.14284</td><td>1.848</td><td>352.94</td><td>24.76</td><td>3.374</td><td>9.469</td><td>215</td><td>16:44</td><td>20</td><td>71</td><td>6766466231748780160</td></tr>\n",
       "</table>"
      ],
      "text/plain": [
       "<PredictRow index=0>\n",
       "         Epoch             ICRS Star Coord at Epoch      Geocentric Object Position     C/A     P/A     Vel     Dist     G      long   loct  M-G-T   S-G-T   GaiaDR3 Source ID \n",
       "                                                                                       arcsec   deg    km / s    AU     mag     deg   hh:mm   deg     deg                      \n",
       "         object                     object                         object             float64 float64 float64 float64 float64 float64  str5 float64 float64        str19       \n",
       "----------------------- ------------------------------ ------------------------------ ------- ------- ------- ------- ------- ------- ----- ------- ------- -------------------\n",
       "2019-11-01 02:26:22.540 19 24 55.91120 -26 01 31.03889 19 25 19.84353 -26 00 49.14284   1.848  352.94   24.76   3.374   9.469     215 16:44      20      71 6766466231748780160"
      ]
     },
     "execution_count": 10,
     "metadata": {},
     "output_type": "execute_result"
    }
   ],
   "source": [
    "VERITAS_yrsa_occ = yrsa_pred[\"2019-11-01 02:26:22.540\"]\n",
    "VERITAS_yrsa_occ"
   ]
  },
  {
   "cell_type": "code",
   "execution_count": 16,
   "metadata": {},
   "outputs": [
    {
     "name": "stderr",
     "output_type": "stream",
     "text": [
      "/home/joshuabartkoske/mySORA_env/lib/python3.10/site-packages/cartopy/io/__init__.py:241: DownloadWarning: Downloading: https://naturalearth.s3.amazonaws.com/110m_physical/ne_110m_ocean.zip\n",
      "  warnings.warn(f'Downloading: {url}', DownloadWarning)\n",
      "/home/joshuabartkoske/mySORA_env/lib/python3.10/site-packages/cartopy/io/__init__.py:241: DownloadWarning: Downloading: https://naturalearth.s3.amazonaws.com/110m_physical/ne_110m_land.zip\n",
      "  warnings.warn(f'Downloading: {url}', DownloadWarning)\n",
      "/home/joshuabartkoske/mySORA_env/lib/python3.10/site-packages/cartopy/io/__init__.py:241: DownloadWarning: Downloading: https://naturalearth.s3.amazonaws.com/110m_cultural/ne_110m_admin_1_states_provinces.zip\n",
      "  warnings.warn(f'Downloading: {url}', DownloadWarning)\n",
      "/home/joshuabartkoske/mySORA_env/lib/python3.10/site-packages/cartopy/io/__init__.py:241: DownloadWarning: Downloading: https://naturalearth.s3.amazonaws.com/110m_cultural/ne_110m_admin_0_countries.zip\n",
      "  warnings.warn(f'Downloading: {url}', DownloadWarning)\n",
      "/home/joshuabartkoske/mySORA_env/lib/python3.10/site-packages/cartopy/io/__init__.py:241: DownloadWarning: Downloading: https://naturalearth.s3.amazonaws.com/110m_physical/ne_110m_coastline.zip\n",
      "  warnings.warn(f'Downloading: {url}', DownloadWarning)\n"
     ]
    },
    {
     "name": "stdout",
     "output_type": "stream",
     "text": [
      "figures/observations/yrsa_20191101_map_zoomed.png generated\n"
     ]
    }
   ],
   "source": [
    "# create a map of the occultation\n",
    "sites = {}\n",
    "sites['VERITAS'] = [ -110.950960, 31.674877, 20, 20, 'blue', 'o'] # T1 coordinates\n",
    "VERITAS_yrsa_occ.plot_occ_map(nameimg='figures/observations/yrsa_20191101_map_zoomed', resolution=3, zoom=5, centerproj=[-111, 32], sites=sites)"
   ]
  },
  {
   "cell_type": "code",
   "execution_count": 8,
   "metadata": {},
   "outputs": [
    {
     "name": "stdout",
     "output_type": "stream",
     "text": [
      "1 GaiaDR3 star found band={'G': 9.468946}\n",
      "star coordinate at J2016.0: RA=19h24m55.91153s +/- 0.0178 mas, DEC=-26d01m31.0263s +/- 0.0164 mas\n",
      "\n",
      "Downloading star parameters from I/297/out\n",
      "GaiaDR3 star Source ID: 6766466231748780160\n",
      "ICRS star coordinate at J2016.0:\n",
      "RA=19h24m55.91153s +/- 0.0178 mas, DEC=-26d01m31.0263s +/- 0.0164 mas\n",
      "pmRA=-0.859 +/- 0.021 mas/yr, pmDEC=-3.233 +/- 0.018 mas/yr\n",
      "GaiaDR3 Proper motion corrected as suggested by Cantat-Gaudin & Brandt (2021) \n",
      "Plx=1.0259 +/- 0.0195 mas, Rad. Vel.=23.91 +/- 0.20 km/s \n",
      "\n",
      "Magnitudes: G:  9.469, B: 11.387, V:  9.949, R:  9.070, J:  7.522, H:  6.904,\n",
      "            K:  6.680\n",
      "\n",
      "Apparent diameter from Kervella et. al (2004):\n",
      "    V: 0.2678 mas, B: 0.2702 mas\n",
      "Apparent diameter from van Belle (1999):\n",
      "    sg: B: 0.2548 mas, V: 0.2560 mas\n",
      "    ms: B: 0.3869 mas, V: 0.2362 mas\n",
      "    vs: B: 0.3596 mas, V: 0.3250 mas\n"
     ]
    }
   ],
   "source": [
    "star_occ = Star(code='6766466231748780160')\n",
    "\n",
    "print(star_occ)"
   ]
  },
  {
   "cell_type": "code",
   "execution_count": 10,
   "metadata": {},
   "outputs": [
    {
     "name": "stderr",
     "output_type": "stream",
     "text": [
      "WARNING: AstropyDeprecationWarning: The get_moon function is deprecated and may be removed in a future version.\n",
      "        Use get_body(\"moon\") instead. [sora.prediction.table]\n",
      "WARNING: NonRotationTransformationWarning: transforming other coordinates from <ICRS Frame> to <GCRS Frame (obstime=['2019-11-01 02:26:22.560'], obsgeoloc=(0., 0., 0.) m, obsgeovel=(0., 0., 0.) m / s)>. Angular separation can depend on the direction of the transformation. [astropy.coordinates.baseframe]\n",
      "WARNING: NonRotationTransformationWarning: transforming other coordinates from <ICRS Frame> to <GCRS Frame (obstime=['2019-11-01 02:26:22.560'], obsgeoloc=(0., 0., 0.) m, obsgeovel=(0., 0., 0.) m / s)>. Angular separation can depend on the direction of the transformation. [astropy.coordinates.baseframe]\n"
     ]
    },
    {
     "name": "stdout",
     "output_type": "stream",
     "text": [
      "Stellar occultation of star GaiaDR3 6766466231748780160 by 351 Yrsa (A892 YA).\n",
      "\n",
      "Geocentric Closest Approach: 1.848 arcsec\n",
      "Instant of CA: 2019-11-01 02:26:22.560\n",
      "Position Angle: 352.95 deg\n",
      "Geocentric shadow velocity: 24.76 km / s\n",
      "Sun-Geocenter-Target angle:  70.99 deg\n",
      "Moon-Geocenter-Target angle: 20.02 deg\n",
      "\n",
      "\n",
      "No observations reported\n",
      "\n",
      "###############################################################################\n",
      "                                     STAR                                      \n",
      "###############################################################################\n",
      "GaiaDR3 star Source ID: 6766466231748780160\n",
      "ICRS star coordinate at J2016.0:\n",
      "RA=19h24m55.91153s +/- 0.0178 mas, DEC=-26d01m31.0263s +/- 0.0164 mas\n",
      "pmRA=-0.859 +/- 0.021 mas/yr, pmDEC=-3.233 +/- 0.018 mas/yr\n",
      "GaiaDR3 Proper motion corrected as suggested by Cantat-Gaudin & Brandt (2021) \n",
      "Plx=1.0259 +/- 0.0195 mas, Rad. Vel.=23.91 +/- 0.20 km/s \n",
      "\n",
      "Magnitudes: G:  9.469, B: 11.387, V:  9.949, R:  9.070, J:  7.522, H:  6.904,\n",
      "            K:  6.680\n",
      "\n",
      "Apparent diameter from Kervella et. al (2004):\n",
      "    V: 0.2678 mas, B: 0.2702 mas\n",
      "Apparent diameter from van Belle (1999):\n",
      "    sg: B: 0.2548 mas, V: 0.2560 mas\n",
      "    ms: B: 0.3869 mas, V: 0.2362 mas\n",
      "    vs: B: 0.3596 mas, V: 0.3250 mas\n",
      "\n",
      "Geocentric star coordinate at occultation Epoch (2019-11-01 02:26:22.560):\n",
      "RA=19h24m55.91121s +/- 0.0633 mas, DEC=-26d01m31.0388s +/- 0.0702 mas\n",
      "\n",
      "###############################################################################\n",
      "                              351 Yrsa (A892 YA)                               \n",
      "###############################################################################\n",
      "Object Orbital Class: Main-belt Asteroid\n",
      "Spectral Type:\n",
      "    Tholen: S [Reference: EAR-A-5-DDR-TAXONOMY-V4.0]\n",
      "       Moderately steep reddish slope downward of 0.7 μm; moderate to steep absorption longward of 0.75 μm; peak of reflectance at 0.73 μm. Bus subgroups intermediate between S and A, K, L, Q, R classes.\n",
      "Discovered 1892-Dec-16 by Wolf, M. at Heidelberg\n",
      "\n",
      "Physical parameters:\n",
      "Diameter:\n",
      "    39.72 +/- 0.437 km\n",
      "    Reference: urn:nasa:pds:neowise_diameters_albedos::2.0[mainbelt] (http://adsabs.harvard.edu/abs/2014ApJ...791..121M), \n",
      "Rotation:\n",
      "    13.29 +/- 0 h\n",
      "    Reference: LCDB (Rev. 2023-February); Warner et al., 2009, REFERENCE LIST:[Denchev, P. (1999) Abstracts of ACM 1999, 117.], [Denchev, P. (2000) Planet. Space Sci. 48, 987-992.], [Hanus, J.; Durech, J.; Broz, M.; Marciniak, A.; et al. (2013) Astron. Astrophys. 551, A67.], [Behrend, R. (2018) Observatoire de Geneve web site, http://obswww.unige.ch/~behrend/page_cou.html]\n",
      "Absolute Magnitude:\n",
      "    9.19 +/- 0 mag\n",
      "    Reference: E2024-XU9, IRAS observations used: 10\n",
      "Albedo:\n",
      "    0.286 +/- 0.045 \n",
      "    Reference: urn:nasa:pds:neowise_diameters_albedos::2.0[mainbelt] (http://adsabs.harvard.edu/abs/2014ApJ...791..121M), \n",
      "B-V color:\n",
      "    0.835 +/- 0.028 \n",
      "    Reference: EAR-A-5-DDR-UBV-MEAN-VALUES-V1.2, #obs=2; phase (min.=6.60, mean=11.90, max.=17.21) deg.\n",
      "U-B color:\n",
      "    0.41 +/- 0.03 \n",
      "    Reference: EAR-A-5-DDR-UBV-MEAN-VALUES-V1.2, #obs=2; phase (min.=6.60, mean=11.90, max.=17.21) deg.\n",
      "\n",
      "Ellipsoid: 19.86 x 19.86 x 19.86\n",
      "\n",
      "----------- Ephemeris -----------\n",
      "\n",
      "EphemHorizons: Ephemeris are downloaded from Horizons website (SPKID=20000351)\n",
      "Ephem Error: RA*cosDEC: 0.000 arcsec; DEC: 0.000 arcsec\n",
      "Offset applied: RA*cosDEC: 0.0000 arcsec; DEC: 0.0000 arcsec\n",
      "\n",
      "\n",
      "\n"
     ]
    }
   ],
   "source": [
    "occ = Occultation(star=star_occ, body=yrsa, time='2019-11-01 02:26:22.540')\n",
    "\n",
    "print(occ)"
   ]
  },
  {
   "cell_type": "code",
   "execution_count": 11,
   "metadata": {},
   "outputs": [
    {
     "name": "stdout",
     "output_type": "stream",
     "text": [
      "Site: Telescope 2\n",
      "Geodetic coordinates: Lon: -110d57m06.8976s, Lat: 31d40m28.2756s, height: 1.260 km\n"
     ]
    }
   ],
   "source": [
    "# Define our observers as each telescope at VERITAS\n",
    "T1 = Observer(name='Telescope 1', lat='31 40 29.5572', lon='-110 57 3.456', height =1268)\n",
    "T2 = Observer(name='Telescope 2', lat='31 40 28.2756', lon='-110 57 6.8976', height =1260)\n",
    "T3 = Observer(name='Telescope 3', lat='31 40 31.8936', lon='-110 57 7.4844', height =1267)\n",
    "T4 = Observer(name='Telescope 4', lat='31 40 30.2556', lon='-110 57 9.9756', height =1265)\n",
    "\n",
    "print(T2)"
   ]
  },
  {
   "cell_type": "markdown",
   "metadata": {},
   "source": [
    "Calculate the exact occultation values at the time and location of the occultation. To do that, we need to set up a Time object, an Ephemeris object, and a Star object"
   ]
  },
  {
   "cell_type": "code",
   "execution_count": 12,
   "metadata": {},
   "outputs": [
    {
     "name": "stdout",
     "output_type": "stream",
     "text": [
      "1 GaiaDR3 star found band={'G': 9.468946}\n",
      "star coordinate at J2016.0: RA=19h24m55.91153s +/- 0.0178 mas, DEC=-26d01m31.0263s +/- 0.0164 mas\n",
      "\n",
      "Downloading star parameters from I/297/out\n"
     ]
    }
   ],
   "source": [
    "# set up the objects for the occultation parameter calculation\n",
    "yrsa_time = Time(\"2019-11-01 02:26:22.540\")\n",
    "yrsa_ephem = EphemHorizons(name='yrsa')\n",
    "yrsa_star = Star(catalogue='gaiadr3', code='6766466231748780160')"
   ]
  },
  {
   "cell_type": "code",
   "execution_count": 14,
   "metadata": {},
   "outputs": [
    {
     "name": "stdout",
     "output_type": "stream",
     "text": [
      "Occultation of Yrsa by TYC 6880-768-1 over VERITAS\n",
      "--------------------------------------------------------\n",
      "Time of closest approach: 2019-11-01 02:28:51.840\n",
      "Distance of closest approach: 0.0005029288022564492 arcsec \n",
      "Position angle of closest approach: 183.57748030628323 deg\n",
      "Velocity of occultation shadow: 24.451863114986562 km / s \n",
      "Distance to the occulting body: 504775418.55482376 km or 3.3742152625092396 AU\n"
     ]
    }
   ],
   "source": [
    "time_of_closest_approach, distance_of_closest_approach, position_angle_of_closest_approach, velocity_shadow, distance_to_object = occ_params(star=yrsa_star, ephem=yrsa_ephem, time=yrsa_time, max_tdiff=600, reference_center=T1)\n",
    "\n",
    "print(\"Occultation of Yrsa by TYC 6880-768-1 over VERITAS\")\n",
    "print(\"--------------------------------------------------------\")\n",
    "print(f\"Time of closest approach: {time_of_closest_approach}\")\n",
    "print(f\"Distance of closest approach: {distance_of_closest_approach} \")\n",
    "print(f\"Position angle of closest approach: {position_angle_of_closest_approach}\")\n",
    "print(f\"Velocity of occultation shadow: {velocity_shadow} \")\n",
    "print(f\"Distance to the occulting body: {distance_to_object.to(u.km)} or {distance_to_object}\")"
   ]
  },
  {
   "cell_type": "code",
   "execution_count": null,
   "metadata": {},
   "outputs": [
    {
     "ename": "NameError",
     "evalue": "name 'T1' is not defined",
     "output_type": "error",
     "traceback": [
      "\u001b[0;31m---------------------------------------------------------------------------\u001b[0m",
      "\u001b[0;31mNameError\u001b[0m                                 Traceback (most recent call last)",
      "Cell \u001b[0;32mIn[1], line 1\u001b[0m\n\u001b[0;32m----> 1\u001b[0m \u001b[38;5;28mprint\u001b[39m(\u001b[43mT1\u001b[49m)\n",
      "\u001b[0;31mNameError\u001b[0m: name 'T1' is not defined"
     ]
    }
   ],
   "source": []
  },
  {
   "cell_type": "code",
   "execution_count": null,
   "metadata": {},
   "outputs": [],
   "source": []
  }
 ],
 "metadata": {
  "kernelspec": {
   "display_name": "mySORA_env",
   "language": "python",
   "name": "python3"
  },
  "language_info": {
   "codemirror_mode": {
    "name": "ipython",
    "version": 3
   },
   "file_extension": ".py",
   "mimetype": "text/x-python",
   "name": "python",
   "nbconvert_exporter": "python",
   "pygments_lexer": "ipython3",
   "version": "3.10.12"
  }
 },
 "nbformat": 4,
 "nbformat_minor": 2
}
