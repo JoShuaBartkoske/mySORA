{
 "cells": [
  {
   "cell_type": "markdown",
   "metadata": {},
   "source": [
    "# Getting Started"
   ]
  },
  {
   "cell_type": "code",
   "execution_count": 2,
   "metadata": {},
   "outputs": [
    {
     "name": "stdout",
     "output_type": "stream",
     "text": [
      "SORA version: 0.3.1\n"
     ]
    }
   ],
   "source": [
    "## SORA package\n",
    "from sora import Occultation, Body, Star, LightCurve, Observer, EphemHorizons\n",
    "from sora.prediction import prediction, occ_params\n",
    "from sora.extra import draw_ellipse\n",
    "\n",
    "## Other main packages\n",
    "from astropy.time import Time\n",
    "from astropy.coordinates import SkyCoord\n",
    "import astropy.units as u\n",
    "\n",
    "## Usual packages\n",
    "import numpy as np\n",
    "import matplotlib.pylab as pl\n",
    "import os\n",
    "import sys\n",
    "\n",
    "# Add the directory to sys.path\n",
    "sys.path.append('/home/joshuabartkoske/AO/scripts')\n",
    "from Occultations2 import Open_Two_Column_File"
   ]
  },
  {
   "cell_type": "code",
   "execution_count": 3,
   "metadata": {},
   "outputs": [
    {
     "name": "stdout",
     "output_type": "stream",
     "text": [
      "Obtaining data for Sylvia from SBDB\n"
     ]
    }
   ],
   "source": [
    "# First, define the Solar System body that was in the Dyachenko 2021 paper\n",
    "sylvia = Body(name=\"Sylvia\")"
   ]
  },
  {
   "cell_type": "code",
   "execution_count": 4,
   "metadata": {},
   "outputs": [
    {
     "name": "stdout",
     "output_type": "stream",
     "text": [
      "87\n"
     ]
    }
   ],
   "source": [
    "number = int(sylvia.shortname.split()[0])\n",
    "print(number)"
   ]
  },
  {
   "cell_type": "code",
   "execution_count": 5,
   "metadata": {},
   "outputs": [
    {
     "name": "stdout",
     "output_type": "stream",
     "text": [
      "Ephemeris was split in 1 parts for better search of stars\n",
      "\n",
      "Searching occultations in part 1/1\n",
      "Generating Ephemeris between 2019-12-11 00:00:00.000 and 2019-12-12 23:59:00.000 ...\n",
      "Downloading stars ...\n",
      "    3 GaiaDR3 stars downloaded\n",
      "Identifying occultations ...\n",
      "\n",
      "1 occultations found.\n"
     ]
    },
    {
     "name": "stderr",
     "output_type": "stream",
     "text": [
      "WARNING: AstropyDeprecationWarning: The get_moon function is deprecated and may be removed in a future version.\n",
      "        Use get_body(\"moon\") instead. [sora.prediction.table]\n",
      "WARNING: NonRotationTransformationWarning: transforming other coordinates from <ICRS Frame> to <GCRS Frame (obstime=['2019-12-12 01:39:36.060'], obsgeoloc=(0., 0., 0.) m, obsgeovel=(0., 0., 0.) m / s)>. Angular separation can depend on the direction of the transformation. [astropy.coordinates.baseframe]\n",
      "WARNING: NonRotationTransformationWarning: transforming other coordinates from <ICRS Frame> to <GCRS Frame (obstime=['2019-12-12 01:39:36.060'], obsgeoloc=(0., 0., 0.) m, obsgeovel=(0., 0., 0.) m / s)>. Angular separation can depend on the direction of the transformation. [astropy.coordinates.baseframe]\n"
     ]
    }
   ],
   "source": [
    "sylvia_pred     = prediction(body=sylvia, time_beg='2019-12-11',time_end='2019-12-13',mag_lim=12)"
   ]
  },
  {
   "cell_type": "code",
   "execution_count": 6,
   "metadata": {},
   "outputs": [
    {
     "name": "stdout",
     "output_type": "stream",
     "text": [
      "['Epoch', 'ICRS Star Coord at Epoch', 'Geocentric Object Position', 'C/A', 'P/A', 'Vel', 'Dist', 'G', 'long', 'loct', 'M-G-T', 'S-G-T', 'GaiaDR3 Source ID']\n",
      "[('Epoch', 'O'), ('ICRS Star Coord at Epoch', 'O'), ('Geocentric Object Position', 'O'), ('C/A', '<f8'), ('P/A', '<f8'), ('Vel', '<f8'), ('Dist', '<f8'), ('G', '<f8'), ('long', '<f8'), ('loct', '<U5'), ('M-G-T', '<f8'), ('S-G-T', '<f8'), ('GaiaDR3 Source ID', '<U18')]\n"
     ]
    }
   ],
   "source": [
    "print(sylvia_pred.colnames)\n",
    "print(sylvia_pred.dtype)"
   ]
  },
  {
   "cell_type": "code",
   "execution_count": 7,
   "metadata": {},
   "outputs": [
    {
     "name": "stdout",
     "output_type": "stream",
     "text": [
      "Obtaining data for Bettina from SBDB\n",
      "Ephemeris was split in 1 parts for better search of stars\n",
      "\n",
      "Searching occultations in part 1/1\n",
      "Generating Ephemeris between 2020-12-23 00:00:00.000 and 2020-12-24 23:59:00.000 ...\n",
      "Downloading stars ...\n",
      "    6 GaiaDR3 stars downloaded\n",
      "Identifying occultations ...\n",
      "\n",
      "1 occultations found.\n"
     ]
    },
    {
     "name": "stderr",
     "output_type": "stream",
     "text": [
      "WARNING: AstropyDeprecationWarning: The get_moon function is deprecated and may be removed in a future version.\n",
      "        Use get_body(\"moon\") instead. [sora.prediction.table]\n",
      "WARNING: NonRotationTransformationWarning: transforming other coordinates from <ICRS Frame> to <GCRS Frame (obstime=['2020-12-24 10:15:55.860'], obsgeoloc=(0., 0., 0.) m, obsgeovel=(0., 0., 0.) m / s)>. Angular separation can depend on the direction of the transformation. [astropy.coordinates.baseframe]\n",
      "WARNING: NonRotationTransformationWarning: transforming other coordinates from <ICRS Frame> to <GCRS Frame (obstime=['2020-12-24 10:15:55.860'], obsgeoloc=(0., 0., 0.) m, obsgeovel=(0., 0., 0.) m / s)>. Angular separation can depend on the direction of the transformation. [astropy.coordinates.baseframe]\n"
     ]
    },
    {
     "data": {
      "text/html": [
       "<i>PredictRow index=0</i>\n",
       "<table id=\"table131774976609824\">\n",
       "<thead><tr><th>Epoch</th><th>ICRS Star Coord at Epoch</th><th>Geocentric Object Position</th><th>C/A</th><th>P/A</th><th>Vel</th><th>Dist</th><th>G</th><th>long</th><th>loct</th><th>M-G-T</th><th>S-G-T</th><th>GaiaDR3 Source ID</th></tr></thead>\n",
       "<thead><tr><th></th><th></th><th></th><th>arcsec</th><th>deg</th><th>km / s</th><th>AU</th><th>mag</th><th>deg</th><th>hh:mm</th><th>deg</th><th>deg</th><th></th></tr></thead>\n",
       "<thead><tr><th>object</th><th>object</th><th>object</th><th>float64</th><th>float64</th><th>float64</th><th>float64</th><th>float64</th><th>float64</th><th>str5</th><th>float64</th><th>float64</th><th>str18</th></tr></thead>\n",
       "<tr><td>2020-12-24 10:15:55.860</td><td>04 00 37.75735 +35 52 56.50355</td><td>04 00 37.74891 +35 52 56.96813</td><td>0.476</td><td>347.55</td><td>-8.46</td><td>1.856</td><td>10.350</td><td>173</td><td>21:47</td><td>40</td><td>149</td><td>219334294660438528</td></tr>\n",
       "</table>"
      ],
      "text/plain": [
       "<PredictRow index=0>\n",
       "         Epoch             ICRS Star Coord at Epoch      Geocentric Object Position     C/A     P/A     Vel     Dist     G      long   loct  M-G-T   S-G-T  GaiaDR3 Source ID \n",
       "                                                                                       arcsec   deg    km / s    AU     mag     deg   hh:mm   deg     deg                     \n",
       "         object                     object                         object             float64 float64 float64 float64 float64 float64  str5 float64 float64       str18       \n",
       "----------------------- ------------------------------ ------------------------------ ------- ------- ------- ------- ------- ------- ----- ------- ------- ------------------\n",
       "2020-12-24 10:15:55.860 04 00 37.75735 +35 52 56.50355 04 00 37.74891 +35 52 56.96813   0.476  347.55   -8.46   1.856  10.350     173 21:47      40     149 219334294660438528"
      ]
     },
     "execution_count": 7,
     "metadata": {},
     "output_type": "execute_result"
    }
   ],
   "source": [
    "bettina = Body(name='Bettina')\n",
    "bettina_pred  = prediction(body=bettina, time_beg='2020-12-23',time_end='2020-12-25',mag_lim=14)\n",
    "bettina_pred[\"2020-12-24 10:15:55.860\"]"
   ]
  },
  {
   "cell_type": "code",
   "execution_count": 8,
   "metadata": {},
   "outputs": [
    {
     "name": "stdout",
     "output_type": "stream",
     "text": [
      "['Epoch', 'ICRS Star Coord at Epoch', 'Geocentric Object Position', 'C/A', 'P/A', 'Vel', 'Dist', 'G', 'long', 'loct', 'M-G-T', 'S-G-T', 'GaiaDR3 Source ID']\n",
      "         Epoch         \n",
      "-----------------------\n",
      "2020-12-24 10:15:55.860\n",
      "2020-12-24 10:15:55.860\n"
     ]
    }
   ],
   "source": [
    "print(bettina_pred.colnames)\n",
    "print(bettina_pred[\"Epoch\"])\n",
    "bettina_epoch = Time(bettina_pred[\"Epoch\"][0])\n",
    "print(bettina_epoch)"
   ]
  },
  {
   "cell_type": "code",
   "execution_count": 9,
   "metadata": {},
   "outputs": [],
   "source": [
    "sylvia_number = int(sylvia.shortname.split()[0])\n",
    "sylvia_pred.add_column(name=\"MPC Number\", col=[sylvia_number])"
   ]
  },
  {
   "cell_type": "code",
   "execution_count": 10,
   "metadata": {},
   "outputs": [
    {
     "data": {
      "text/html": [
       "<div><i>PredictionTable length=1</i>\n",
       "<table id=\"table131775176395696\" class=\"table-striped table-bordered table-condensed\">\n",
       "<thead><tr><th>Epoch</th><th>ICRS Star Coord at Epoch</th><th>Geocentric Object Position</th><th>C/A</th><th>P/A</th><th>Vel</th><th>Dist</th><th>G</th><th>long</th><th>loct</th><th>M-G-T</th><th>S-G-T</th><th>GaiaDR3 Source ID</th><th>MPC Number</th></tr></thead>\n",
       "<thead><tr><th></th><th></th><th></th><th>arcsec</th><th>deg</th><th>km / s</th><th>AU</th><th>mag</th><th>deg</th><th>hh:mm</th><th>deg</th><th>deg</th><th></th><th></th></tr></thead>\n",
       "<thead><tr><th>object</th><th>object</th><th>object</th><th>float64</th><th>float64</th><th>float64</th><th>float64</th><th>float64</th><th>float64</th><th>str5</th><th>float64</th><th>float64</th><th>str18</th><th>int64</th></tr></thead>\n",
       "<tr><td>2019-12-12 01:39:36.060</td><td>08 25 36.26861 +28 08 29.38428</td><td>08 25 36.32909 +28 08 30.18678</td><td>1.133</td><td>44.91</td><td>-9.35</td><td>2.918</td><td>10.649</td><td>21</td><td>03:03</td><td>45</td><td>137</td><td>707188325455532416</td><td>87</td></tr>\n",
       "</table></div>"
      ],
      "text/plain": [
       "<PredictionTable length=1>\n",
       "         Epoch             ICRS Star Coord at Epoch    ... MPC Number\n",
       "                                                       ...           \n",
       "         object                     object             ...   int64   \n",
       "----------------------- ------------------------------ ... ----------\n",
       "2019-12-12 01:39:36.060 08 25 36.26861 +28 08 29.38428 ...         87"
      ]
     },
     "execution_count": 10,
     "metadata": {},
     "output_type": "execute_result"
    }
   ],
   "source": [
    "sylvia_pred"
   ]
  },
  {
   "cell_type": "code",
   "execution_count": 11,
   "metadata": {},
   "outputs": [],
   "source": [
    "bettina_number = int(bettina.shortname.split()[0])\n",
    "bettina_pred.add_column(name=\"MPC Number\", col=[bettina_number])\n",
    "sylvia_pred.add_row([bettina_pred[col] for col in sylvia_pred.colnames])"
   ]
  },
  {
   "cell_type": "code",
   "execution_count": 12,
   "metadata": {},
   "outputs": [
    {
     "name": "stdout",
     "output_type": "stream",
     "text": [
      "         Epoch         \n",
      "-----------------------\n",
      "2019-12-12 01:39:36.060\n",
      "2020-12-24 10:15:55.860\n"
     ]
    }
   ],
   "source": [
    "sylvia_pred['ICRS Star Coord at Epoch'] = SkyCoord(sylvia_pred['ICRS Star Coord at Epoch'], unit=(u.hourangle, u.deg))\n",
    "sylvia_pred['Geocentric Object Position'] = SkyCoord(sylvia_pred['Geocentric Object Position'], unit=(u.hourangle, u.deg))\n",
    "sylvia_pred[\"Epoch\"][1] = bettina_epoch\n",
    "print(sylvia_pred[\"Epoch\"])"
   ]
  },
  {
   "cell_type": "code",
   "execution_count": null,
   "metadata": {},
   "outputs": [],
   "source": []
  },
  {
   "cell_type": "code",
   "execution_count": 13,
   "metadata": {},
   "outputs": [
    {
     "data": {
      "text/html": [
       "<div><i>PredictionTable length=2</i>\n",
       "<table id=\"table131775176395696\" class=\"table-striped table-bordered table-condensed\">\n",
       "<thead><tr><th>Epoch</th><th>ICRS Star Coord at Epoch</th><th>Geocentric Object Position</th><th>C/A</th><th>P/A</th><th>Vel</th><th>Dist</th><th>G</th><th>long</th><th>loct</th><th>M-G-T</th><th>S-G-T</th><th>GaiaDR3 Source ID</th><th>MPC Number</th></tr></thead>\n",
       "<thead><tr><th></th><th>deg,deg</th><th>deg,deg,AU</th><th>arcsec</th><th>deg</th><th>km / s</th><th>AU</th><th>mag</th><th>deg</th><th>hh:mm</th><th>deg</th><th>deg</th><th></th><th></th></tr></thead>\n",
       "<thead><tr><th>object</th><th>SkyCoord</th><th>SkyCoord</th><th>float64</th><th>float64</th><th>float64</th><th>float64</th><th>float64</th><th>float64</th><th>str5</th><th>float64</th><th>float64</th><th>str18</th><th>int64</th></tr></thead>\n",
       "<tr><td>2019-12-12 01:39:36.060</td><td>08 25 36.26861 +28 08 29.38428</td><td>08 25 36.32909 +28 08 30.18678</td><td>1.133</td><td>44.91</td><td>-9.35</td><td>2.918</td><td>10.649</td><td>21</td><td>03:03</td><td>45</td><td>137</td><td>707188325455532416</td><td>87</td></tr>\n",
       "<tr><td>2020-12-24 10:15:55.860</td><td>04 00 37.75735 +35 52 56.50355</td><td>04 00 37.74891 +35 52 56.96813</td><td>0.476</td><td>347.55</td><td>-8.46</td><td>1.856</td><td>10.350</td><td>173</td><td>21:47</td><td>40</td><td>149</td><td>219334294660438528</td><td>250</td></tr>\n",
       "</table></div>"
      ],
      "text/plain": [
       "<PredictionTable length=2>\n",
       "         Epoch             ICRS Star Coord at Epoch    ... MPC Number\n",
       "                                   deg,deg             ...           \n",
       "         object                    SkyCoord            ...   int64   \n",
       "----------------------- ------------------------------ ... ----------\n",
       "2019-12-12 01:39:36.060 08 25 36.26861 +28 08 29.38428 ...         87\n",
       "2020-12-24 10:15:55.860 04 00 37.75735 +35 52 56.50355 ...        250"
      ]
     },
     "execution_count": 13,
     "metadata": {},
     "output_type": "execute_result"
    }
   ],
   "source": [
    "sylvia_pred"
   ]
  },
  {
   "cell_type": "code",
   "execution_count": 14,
   "metadata": {},
   "outputs": [
    {
     "ename": "KeyError",
     "evalue": "'MPC Body Number'",
     "output_type": "error",
     "traceback": [
      "\u001b[0;31m---------------------------------------------------------------------------\u001b[0m",
      "\u001b[0;31mKeyError\u001b[0m                                  Traceback (most recent call last)",
      "File \u001b[0;32m~/mySORA_env/lib/python3.10/site-packages/astropy/table/row.py:54\u001b[0m, in \u001b[0;36mRow.__getitem__\u001b[0;34m(self, item)\u001b[0m\n\u001b[1;32m     50\u001b[0m \u001b[38;5;28;01mtry\u001b[39;00m:\n\u001b[1;32m     51\u001b[0m     \u001b[38;5;66;03m# Try the most common use case of accessing a single column in the Row.\u001b[39;00m\n\u001b[1;32m     52\u001b[0m     \u001b[38;5;66;03m# Bypass the TableColumns __getitem__ since that does more testing\u001b[39;00m\n\u001b[1;32m     53\u001b[0m     \u001b[38;5;66;03m# and allows a list of tuple or str, which is not the right thing here.\u001b[39;00m\n\u001b[0;32m---> 54\u001b[0m     out \u001b[38;5;241m=\u001b[39m \u001b[43mOrderedDict\u001b[49m\u001b[38;5;241;43m.\u001b[39;49m\u001b[38;5;21;43m__getitem__\u001b[39;49m\u001b[43m(\u001b[49m\u001b[38;5;28;43mself\u001b[39;49m\u001b[38;5;241;43m.\u001b[39;49m\u001b[43m_table\u001b[49m\u001b[38;5;241;43m.\u001b[39;49m\u001b[43mcolumns\u001b[49m\u001b[43m,\u001b[49m\u001b[43m \u001b[49m\u001b[43mitem\u001b[49m\u001b[43m)\u001b[49m[\u001b[38;5;28mself\u001b[39m\u001b[38;5;241m.\u001b[39m_index]\n\u001b[1;32m     55\u001b[0m \u001b[38;5;28;01mexcept\u001b[39;00m (\u001b[38;5;167;01mKeyError\u001b[39;00m, \u001b[38;5;167;01mTypeError\u001b[39;00m):\n",
      "\u001b[0;31mKeyError\u001b[0m: 'MPC Body Number'",
      "\nDuring handling of the above exception, another exception occurred:\n",
      "\u001b[0;31mKeyError\u001b[0m                                  Traceback (most recent call last)",
      "Cell \u001b[0;32mIn[14], line 1\u001b[0m\n\u001b[0;32m----> 1\u001b[0m new_sylvia \u001b[38;5;241m=\u001b[39m Body(name\u001b[38;5;241m=\u001b[39m\u001b[43msylvia_pred\u001b[49m\u001b[43m[\u001b[49m\u001b[38;5;241;43m0\u001b[39;49m\u001b[43m]\u001b[49m\u001b[43m[\u001b[49m\u001b[38;5;124;43m\"\u001b[39;49m\u001b[38;5;124;43mMPC Body Number\u001b[39;49m\u001b[38;5;124;43m\"\u001b[39;49m\u001b[43m]\u001b[49m)\n",
      "File \u001b[0;32m~/mySORA_env/lib/python3.10/site-packages/astropy/table/row.py:64\u001b[0m, in \u001b[0;36mRow.__getitem__\u001b[0;34m(self, item)\u001b[0m\n\u001b[1;32m     61\u001b[0m         out \u001b[38;5;241m=\u001b[39m \u001b[38;5;28mtuple\u001b[39m(\u001b[38;5;28mself\u001b[39m\u001b[38;5;241m.\u001b[39mvalues())[item]\n\u001b[1;32m     62\u001b[0m     \u001b[38;5;28;01melse\u001b[39;00m:\n\u001b[1;32m     63\u001b[0m         \u001b[38;5;66;03m# This is only to raise an exception\u001b[39;00m\n\u001b[0;32m---> 64\u001b[0m         out \u001b[38;5;241m=\u001b[39m \u001b[38;5;28;43mself\u001b[39;49m\u001b[38;5;241;43m.\u001b[39;49m\u001b[43m_table\u001b[49m\u001b[38;5;241;43m.\u001b[39;49m\u001b[43mcolumns\u001b[49m\u001b[43m[\u001b[49m\u001b[43mitem\u001b[49m\u001b[43m]\u001b[49m[\u001b[38;5;28mself\u001b[39m\u001b[38;5;241m.\u001b[39m_index]\n\u001b[1;32m     65\u001b[0m \u001b[38;5;28;01mreturn\u001b[39;00m out\n",
      "File \u001b[0;32m~/mySORA_env/lib/python3.10/site-packages/astropy/table/table.py:267\u001b[0m, in \u001b[0;36mTableColumns.__getitem__\u001b[0;34m(self, item)\u001b[0m\n\u001b[1;32m    256\u001b[0m \u001b[38;5;250m\u001b[39m\u001b[38;5;124;03m\"\"\"Get items from a TableColumns object.\u001b[39;00m\n\u001b[1;32m    257\u001b[0m \n\u001b[1;32m    258\u001b[0m \u001b[38;5;124;03m::\u001b[39;00m\n\u001b[0;32m   (...)\u001b[0m\n\u001b[1;32m    264\u001b[0m \u001b[38;5;124;03m  tc[1:3] # <TableColumns names=('b', 'c')>\u001b[39;00m\n\u001b[1;32m    265\u001b[0m \u001b[38;5;124;03m\"\"\"\u001b[39;00m\n\u001b[1;32m    266\u001b[0m \u001b[38;5;28;01mif\u001b[39;00m \u001b[38;5;28misinstance\u001b[39m(item, \u001b[38;5;28mstr\u001b[39m):\n\u001b[0;32m--> 267\u001b[0m     \u001b[38;5;28;01mreturn\u001b[39;00m \u001b[43mOrderedDict\u001b[49m\u001b[38;5;241;43m.\u001b[39;49m\u001b[38;5;21;43m__getitem__\u001b[39;49m\u001b[43m(\u001b[49m\u001b[38;5;28;43mself\u001b[39;49m\u001b[43m,\u001b[49m\u001b[43m \u001b[49m\u001b[43mitem\u001b[49m\u001b[43m)\u001b[49m\n\u001b[1;32m    268\u001b[0m \u001b[38;5;28;01melif\u001b[39;00m \u001b[38;5;28misinstance\u001b[39m(item, (\u001b[38;5;28mint\u001b[39m, np\u001b[38;5;241m.\u001b[39minteger)):\n\u001b[1;32m    269\u001b[0m     \u001b[38;5;28;01mreturn\u001b[39;00m \u001b[38;5;28mlist\u001b[39m(\u001b[38;5;28mself\u001b[39m\u001b[38;5;241m.\u001b[39mvalues())[item]\n",
      "\u001b[0;31mKeyError\u001b[0m: 'MPC Body Number'"
     ]
    }
   ],
   "source": [
    "new_sylvia = Body(name=sylvia_pred[0][\"MPC Body Number\"])"
   ]
  },
  {
   "cell_type": "code",
   "execution_count": null,
   "metadata": {},
   "outputs": [],
   "source": [
    "# Define BTA as a location: We will use T1 as our coordinates:\n",
    "BTA = Observer(name=\"Zelenchuksaya\", code=\"115\")"
   ]
  },
  {
   "cell_type": "code",
   "execution_count": null,
   "metadata": {},
   "outputs": [
    {
     "name": "stdout",
     "output_type": "stream",
     "text": [
      "1 GaiaDR3 star found band={'G': 10.648536}\n",
      "star coordinate at J2016.0: RA=8h25m36.27821s +/- 0.0216 mas, DEC=28d08m29.4526s +/- 0.0181 mas\n",
      "\n",
      "Downloading star parameters from I/297/out\n",
      "GaiaDR3 star Source ID: 707188325455532416\n",
      "ICRS star coordinate at J2016.0:\n",
      "RA=8h25m36.27821s +/- 0.0216 mas, DEC=28d08m29.4526s +/- 0.0181 mas\n",
      "pmRA=-33.157 +/- 0.026 mas/yr, pmDEC=-17.278 +/- 0.018 mas/yr\n",
      "GaiaDR3 Proper motion corrected as suggested by Cantat-Gaudin & Brandt (2021) \n",
      "Plx=5.7696 +/- 0.0297 mas, Rad. Vel.=32.22 +/- 0.42 km/s \n",
      "\n",
      "Magnitudes: G: 10.649, B: 11.304, V: 10.942, R: 10.700, J:  9.527, H:  9.190,\n",
      "            K:  9.092\n",
      "\n",
      "Apparent diameter from Kervella et. al (2004):\n",
      "    V: 0.0689 mas, B: 0.0654 mas\n",
      "Apparent diameter from van Belle (1999):\n",
      "    sg: B: 0.0748 mas, V: 0.0782 mas\n",
      "    ms: B: 0.0760 mas, V: 0.0631 mas\n",
      "    vs: B: 0.1112 mas, V: 0.1009 mas\n"
     ]
    }
   ],
   "source": [
    "star_occ = Star(code='707188325455532416')\n",
    "\n",
    "print(star_occ)"
   ]
  },
  {
   "cell_type": "code",
   "execution_count": null,
   "metadata": {},
   "outputs": [
    {
     "name": "stderr",
     "output_type": "stream",
     "text": [
      "WARNING: AstropyDeprecationWarning: The get_moon function is deprecated and may be removed in a future version.\n",
      "        Use get_body(\"moon\") instead. [sora.prediction.table]\n",
      "WARNING: NonRotationTransformationWarning: transforming other coordinates from <ICRS Frame> to <GCRS Frame (obstime=['2019-12-12 01:39:36.040'], obsgeoloc=(0., 0., 0.) m, obsgeovel=(0., 0., 0.) m / s)>. Angular separation can depend on the direction of the transformation. [astropy.coordinates.baseframe]\n",
      "WARNING: NonRotationTransformationWarning: transforming other coordinates from <ICRS Frame> to <GCRS Frame (obstime=['2019-12-12 01:39:36.040'], obsgeoloc=(0., 0., 0.) m, obsgeovel=(0., 0., 0.) m / s)>. Angular separation can depend on the direction of the transformation. [astropy.coordinates.baseframe]\n"
     ]
    },
    {
     "name": "stdout",
     "output_type": "stream",
     "text": [
      "Stellar occultation of star GaiaDR3 707188325455532416 by 87 Sylvia (A866 KA).\n",
      "\n",
      "Geocentric Closest Approach: 1.133 arcsec\n",
      "Instant of CA: 2019-12-12 01:39:36.040\n",
      "Position Angle: 44.90 deg\n",
      "Geocentric shadow velocity: -9.35 km / s\n",
      "Sun-Geocenter-Target angle:  136.77 deg\n",
      "Moon-Geocenter-Target angle: 45.42 deg\n",
      "\n",
      "\n",
      "No observations reported\n",
      "\n",
      "###############################################################################\n",
      "                                     STAR                                      \n",
      "###############################################################################\n",
      "GaiaDR3 star Source ID: 707188325455532416\n",
      "ICRS star coordinate at J2016.0:\n",
      "RA=8h25m36.27821s +/- 0.0216 mas, DEC=28d08m29.4526s +/- 0.0181 mas\n",
      "pmRA=-33.157 +/- 0.026 mas/yr, pmDEC=-17.278 +/- 0.018 mas/yr\n",
      "GaiaDR3 Proper motion corrected as suggested by Cantat-Gaudin & Brandt (2021) \n",
      "Plx=5.7696 +/- 0.0297 mas, Rad. Vel.=32.22 +/- 0.42 km/s \n",
      "\n",
      "Magnitudes: G: 10.649, B: 11.304, V: 10.942, R: 10.700, J:  9.527, H:  9.190,\n",
      "            K:  9.092\n",
      "\n",
      "Apparent diameter from Kervella et. al (2004):\n",
      "    V: 0.0689 mas, B: 0.0654 mas\n",
      "Apparent diameter from van Belle (1999):\n",
      "    sg: B: 0.0748 mas, V: 0.0782 mas\n",
      "    ms: B: 0.0760 mas, V: 0.0631 mas\n",
      "    vs: B: 0.1112 mas, V: 0.1009 mas\n",
      "\n",
      "Geocentric star coordinate at occultation Epoch (2019-12-12 01:39:36.040):\n",
      "RA=8h25m36.26862s +/- 0.0754 mas, DEC=28d08m29.3841s +/- 0.1202 mas\n",
      "\n",
      "###############################################################################\n",
      "                              87 Sylvia (A866 KA)                              \n",
      "###############################################################################\n",
      "Object Orbital Class: Unclassified\n",
      "Spectral Type:\n",
      "    SMASS: X  [Reference: EAR-A-5-DDR-TAXONOMY-V4.0]\n",
      "    Tholen: P [Reference: EAR-A-5-DDR-TAXONOMY-V4.0]\n",
      "       Generally featureless spectrum with reddish slope; differences in subtle absorption features and/or spectral curvature and/or peak relative reflectance.\n",
      "Discovered 1866-May-16 by Pogson, N. R. at Madras\n",
      "\n",
      "Physical parameters:\n",
      "Diameter:\n",
      "    253.05 +/- 2.953 km\n",
      "    Reference: urn:nasa:pds:neowise_diameters_albedos::2.0[mainbelt] (http://adsabs.harvard.edu/abs/2014ApJ...791..121M), \n",
      "Rotation:\n",
      "    5.184 +/- 0 h\n",
      "    Reference: LCDB (Rev. 2023-February); Warner et al., 2009, REFERENCE LIST:[Schober, H.J.; Surdej, J. (1979) Astron. Astrophys. Suppl. Ser. 38, 269-274.], [Harris, A.W.; Young, J.W. (1980) Icarus 43, 20-32.], [Weidenschilling, S.J.; Chapman, C.R.; Davis, D.R.; Greenberg, R.; et al. (1987) Icarus 70, 191-245.], [Drummond, J.D.; Weidenschilling, S.J.; Chapman, C.R.; Davis, D.R. (1988) Icarus 76, 19-77.], [Magnusson, P. (1990) Icarus 85, 229-240.], [Drummond, J.D.; Weidenschilling, S.J.; Chapman, C.R.; Davis, D.R. (1991) Icarus 89, 44-64.], [Michalowski, T. (1993) Icarus 106, 563-572.], [De Angelis, G. (1995) Planet. Space Sci. 43, 649-682.], [Foerster, I.; Potthoff, H. (2001) Minor Planet Bull. 28, 25-26.], [Kaasalainen, M.; Torppa, J.; Piironen, J. (2002) Icarus 159, 369-395.], [Marchis, F.; Kaasalainen, M.; Hom, E.F.Y.; Berthier, J.; et al. (2006) Icarus 185, 39-63.], [Behrend, R. (2007) Observatoire de Geneve web site, http://obswww.unige.ch/~behrend/page_cou.html], [Vereshchagina, I.A.; Gorshanov, D.L.; Devyatkin, A.V.; Papushev, P.G. (2009) Solar System Research 43, 291-300.], [Hamanowa, H.; Hamanowa, H. (2011) http://www2.ocn.ne.jp/~hamaten/astlcdata.htm], [Behrend, R. (2012) Observatoire de Geneve web site, http://obswww.unige.ch/~behrend/page_cou.html], [Hanus, J.; Marchis, F.; Durech, J. (2013) Icarus 226, 1045-1057.], [Behrend, R. (2015) Observatoire de Geneve web site, http://obswww.unige.ch/~behrend/page_cou.html], [Hanus, J.; Durech, J.; Oszkiewicz, D.A.; Behrend, R.; et al. (2016) Astron. Astrophys. 586, A108.], [Hanus, J.; Viikinkoski, M.; Marchis, F.; Durech, J.; et al (2017) Astron. Astrophys. 601, A114.], [Carry, B.; Vernazza, P.; Vachier, F.; Neveu, M.; et al. (2020) Astron. Astrophys. submitted. ArXiv:2103.06349.], [Behrend, R. (2021) Observatoire de Geneve web site, http://obswww.unige.ch/~behrend/page_cou.html], [Vernazza, P.; Ferrais, M.; Jorda, L.; Hanus, J.; et al. (2021) Astron. Astrophys 654, id. A56.], [Benishek, V. (2022) Minor Planet Bull. 49, 333-341.], [Ferrais, M.; Vernazza, P.; Jorda, L.; Jehin, E.; et al. (2022) Minor Planet Bull. 49, 307-313.]\n",
      "Absolute Magnitude:\n",
      "    6.94 +/- 0 mag\n",
      "    Reference: E2025-CG0, IRAS observations used: 20\n",
      "Albedo:\n",
      "    0.046 +/- 0.004 \n",
      "    Reference: urn:nasa:pds:neowise_diameters_albedos::2.0[mainbelt] (http://adsabs.harvard.edu/abs/2014ApJ...791..121M), \n",
      "B-V color:\n",
      "    0.71 +/- 0.015 \n",
      "    Reference: EAR-A-5-DDR-UBV-MEAN-VALUES-V1.2, #obs=19; phase (min.=3.98, mean=10.21, max.=17.32) deg.\n",
      "U-B color:\n",
      "    0.251 +/- 0.026 \n",
      "    Reference: EAR-A-5-DDR-UBV-MEAN-VALUES-V1.2, #obs=9; phase (min.=5.07, mean=8.15, max.=15.60) deg.\n",
      "\n",
      "Ellipsoid: 126.5255 x 126.5255 x 126.5255\n",
      "\n",
      "----------- Ephemeris -----------\n",
      "\n",
      "EphemHorizons: Ephemeris are downloaded from Horizons website (SPKID=20000087)\n",
      "Ephem Error: RA*cosDEC: 0.000 arcsec; DEC: 0.000 arcsec\n",
      "Offset applied: RA*cosDEC: 0.0000 arcsec; DEC: 0.0000 arcsec\n",
      "\n",
      "\n",
      "\n"
     ]
    }
   ],
   "source": [
    "occ = Occultation(star=star_occ, body=sylvia, time='2019-12-12 01:39:36.060')\n",
    "\n",
    "print(occ)"
   ]
  },
  {
   "cell_type": "markdown",
   "metadata": {},
   "source": [
    "**Double Check for the Velocity of the occultation shadow**\n",
    "\n",
    "This uses sora.occultation.utils.positionv(star, ephem, observer, time), so we need the star as a Star object, the ephemeris as an Ephemeris object, the observer as an Observer object, and the time as an astropy Time object."
   ]
  },
  {
   "cell_type": "code",
   "execution_count": null,
   "metadata": {},
   "outputs": [],
   "source": [
    "sylvia_ephem = EphemHorizons(name=\"Sylvia\")"
   ]
  },
  {
   "cell_type": "code",
   "execution_count": null,
   "metadata": {},
   "outputs": [],
   "source": [
    "sylvia_occ_time = Time('2019-12-12 01:39:36.060')"
   ]
  },
  {
   "cell_type": "code",
   "execution_count": null,
   "metadata": {},
   "outputs": [
    {
     "name": "stderr",
     "output_type": "stream",
     "text": [
      "/home/joshuabartkoske/mySORA_env/lib/python3.10/site-packages/sora/occultation/utils.py:52: FutureWarning: geocentric is deprecated and will be removed in v1.0; Please use get_position(time=time, observer='geocenter')\n",
      "  coord = star.geocentric(time)\n"
     ]
    },
    {
     "name": "stdout",
     "output_type": "stream",
     "text": [
      "-105.8534489503586\n"
     ]
    }
   ],
   "source": [
    "from sora.occultation.utils import positionv\n",
    "EW_pos, NS_pos, EW_vel, NS_vel = positionv(star=star_occ, ephem=sylvia_ephem, observer=BTA, time=sylvia_occ_time)\n",
    "# my one issue is I don't know the units on this but I am guessing kilometers?\n",
    "# there are also no units in the documentation of this function.\n",
    "print(EW_pos)"
   ]
  },
  {
   "cell_type": "code",
   "execution_count": null,
   "metadata": {},
   "outputs": [
    {
     "name": "stdout",
     "output_type": "stream",
     "text": [
      "EW velocity: 6.900873759313981\n",
      "NS velocity: -6.573646343435939\n",
      "|velocity| : 9.530733701586515\n"
     ]
    }
   ],
   "source": [
    "# now calculate the full velocity magnitude\n",
    "Occ_shadow_vel_magnitude = np.sqrt(EW_vel**2 + NS_vel**2)\n",
    "print(f\"EW velocity: {EW_vel}\")\n",
    "print(f\"NS velocity: {NS_vel}\")\n",
    "print(f\"|velocity| : {Occ_shadow_vel_magnitude}\")\n"
   ]
  },
  {
   "cell_type": "markdown",
   "metadata": {},
   "source": [
    "The velocity values do indeed agree with the paper from 2021. I consider this to be final proof for using this velocity value for all future and current analyses of the occultations we currently have in the pipeline."
   ]
  },
  {
   "cell_type": "markdown",
   "metadata": {},
   "source": [
    "**VERITAS Occultation Velocities**"
   ]
  },
  {
   "cell_type": "markdown",
   "metadata": {},
   "source": [
    "Now, we will go through all of the VERITAS occultation and verify their velocities and use the values produced by this SORA prediction software"
   ]
  },
  {
   "cell_type": "code",
   "execution_count": 15,
   "metadata": {},
   "outputs": [],
   "source": [
    "# Define VERITAS as a location: We will use T1 as our coordinates:\n",
    "VERITAS = Observer(name=\"VERITAS\", lon='-110 57 3.456', lat='31 40 29.5572', height =1268)"
   ]
  },
  {
   "cell_type": "code",
   "execution_count": 16,
   "metadata": {},
   "outputs": [
    {
     "name": "stdout",
     "output_type": "stream",
     "text": [
      "Obtaining data for Imprinetta from SBDB\n",
      "Obtaining data for Severny from SBDB\n",
      "Obtaining data for Yrsa from SBDB\n",
      "Obtaining data for Egeria from SBDB\n",
      "Obtaining data for Bettina from SBDB\n",
      "Obtaining data for Polyxo from SBDB\n",
      "Obtaining data for Lehigh from SBDB\n",
      "Obtaining data for Sternberga from SBDB\n"
     ]
    }
   ],
   "source": [
    "# define all of the bodies\n",
    "imprinetta = Body(name='Imprinetta')\n",
    "severny = Body(name='Severny')\n",
    "yrsa = Body(name='Yrsa')\n",
    "egeria = Body(name='Egeria')\n",
    "bettina = Body(name='Bettina')\n",
    "polyxo = Body(name='Polyxo')\n",
    "lehigh = Body(name='Lehigh')\n",
    "sternberga = Body(name='Sternberga')"
   ]
  },
  {
   "cell_type": "code",
   "execution_count": 17,
   "metadata": {},
   "outputs": [
    {
     "name": "stdout",
     "output_type": "stream",
     "text": [
      "Ephemeris was split in 1 parts for better search of stars\n",
      "\n",
      "Searching occultations in part 1/1\n",
      "Generating Ephemeris between 2018-02-21 00:00:00.000 and 2018-02-22 23:59:00.000 ...\n",
      "Downloading stars ...\n",
      "    4 GaiaDR3 stars downloaded\n",
      "Identifying occultations ...\n"
     ]
    },
    {
     "name": "stderr",
     "output_type": "stream",
     "text": [
      "WARNING: AstropyDeprecationWarning: The get_moon function is deprecated and may be removed in a future version.\n",
      "        Use get_body(\"moon\") instead. [sora.prediction.table]\n",
      "WARNING: NonRotationTransformationWarning: transforming other coordinates from <ICRS Frame> to <GCRS Frame (obstime=['2018-02-22 11:24:54.660'], obsgeoloc=(0., 0., 0.) m, obsgeovel=(0., 0., 0.) m / s)>. Angular separation can depend on the direction of the transformation. [astropy.coordinates.baseframe]\n",
      "WARNING: NonRotationTransformationWarning: transforming other coordinates from <ICRS Frame> to <GCRS Frame (obstime=['2018-02-22 11:24:54.660'], obsgeoloc=(0., 0., 0.) m, obsgeovel=(0., 0., 0.) m / s)>. Angular separation can depend on the direction of the transformation. [astropy.coordinates.baseframe]\n"
     ]
    },
    {
     "name": "stdout",
     "output_type": "stream",
     "text": [
      "\n",
      "1 occultations found.\n",
      "Ephemeris was split in 1 parts for better search of stars\n",
      "\n",
      "Searching occultations in part 1/1\n",
      "Generating Ephemeris between 2019-10-20 00:00:00.000 and 2019-10-21 23:59:00.000 ...\n",
      "Downloading stars ...\n",
      "    5 GaiaDR3 stars downloaded\n",
      "Identifying occultations ...\n"
     ]
    },
    {
     "name": "stderr",
     "output_type": "stream",
     "text": [
      "WARNING: AstropyDeprecationWarning: The get_moon function is deprecated and may be removed in a future version.\n",
      "        Use get_body(\"moon\") instead. [sora.prediction.table]\n",
      "WARNING: NonRotationTransformationWarning: transforming other coordinates from <ICRS Frame> to <GCRS Frame (obstime=['2019-10-21 09:35:39.820'], obsgeoloc=(0., 0., 0.) m, obsgeovel=(0., 0., 0.) m / s)>. Angular separation can depend on the direction of the transformation. [astropy.coordinates.baseframe]\n",
      "WARNING: NonRotationTransformationWarning: transforming other coordinates from <ICRS Frame> to <GCRS Frame (obstime=['2019-10-21 09:35:39.820'], obsgeoloc=(0., 0., 0.) m, obsgeovel=(0., 0., 0.) m / s)>. Angular separation can depend on the direction of the transformation. [astropy.coordinates.baseframe]\n"
     ]
    },
    {
     "name": "stdout",
     "output_type": "stream",
     "text": [
      "\n",
      "1 occultations found.\n",
      "Ephemeris was split in 1 parts for better search of stars\n",
      "\n",
      "Searching occultations in part 1/1\n",
      "Generating Ephemeris between 2019-10-31 00:00:00.000 and 2019-11-02 23:59:00.000 ...\n",
      "Downloading stars ...\n",
      "    55 GaiaDR3 stars downloaded\n",
      "Identifying occultations ...\n"
     ]
    },
    {
     "name": "stderr",
     "output_type": "stream",
     "text": [
      "WARNING: AstropyDeprecationWarning: The get_moon function is deprecated and may be removed in a future version.\n",
      "        Use get_body(\"moon\") instead. [sora.prediction.table]\n",
      "WARNING: NonRotationTransformationWarning: transforming other coordinates from <ICRS Frame> to <GCRS Frame (obstime=['2019-11-01 11:21:10.300' '2019-11-01 02:26:22.540'], obsgeoloc=(0., 0., 0.) m, obsgeovel=(0., 0., 0.) m / s)>. Angular separation can depend on the direction of the transformation. [astropy.coordinates.baseframe]\n",
      "WARNING: NonRotationTransformationWarning: transforming other coordinates from <ICRS Frame> to <GCRS Frame (obstime=['2019-11-01 11:21:10.300' '2019-11-01 02:26:22.540'], obsgeoloc=(0., 0., 0.) m, obsgeovel=(0., 0., 0.) m / s)>. Angular separation can depend on the direction of the transformation. [astropy.coordinates.baseframe]\n"
     ]
    },
    {
     "name": "stdout",
     "output_type": "stream",
     "text": [
      "\n",
      "2 occultations found.\n",
      "Ephemeris was split in 1 parts for better search of stars\n",
      "\n",
      "Searching occultations in part 1/1\n",
      "Generating Ephemeris between 2020-12-18 00:00:00.000 and 2020-12-19 23:59:00.000 ...\n",
      "Downloading stars ...\n",
      "    90 GaiaDR3 stars downloaded\n",
      "Identifying occultations ...\n"
     ]
    },
    {
     "name": "stderr",
     "output_type": "stream",
     "text": [
      "WARNING: AstropyDeprecationWarning: The get_moon function is deprecated and may be removed in a future version.\n",
      "        Use get_body(\"moon\") instead. [sora.prediction.table]\n",
      "WARNING: NonRotationTransformationWarning: transforming other coordinates from <ICRS Frame> to <GCRS Frame (obstime=['2020-12-19 06:13:50.680'], obsgeoloc=(0., 0., 0.) m, obsgeovel=(0., 0., 0.) m / s)>. Angular separation can depend on the direction of the transformation. [astropy.coordinates.baseframe]\n",
      "WARNING: NonRotationTransformationWarning: transforming other coordinates from <ICRS Frame> to <GCRS Frame (obstime=['2020-12-19 06:13:50.680'], obsgeoloc=(0., 0., 0.) m, obsgeovel=(0., 0., 0.) m / s)>. Angular separation can depend on the direction of the transformation. [astropy.coordinates.baseframe]\n"
     ]
    },
    {
     "name": "stdout",
     "output_type": "stream",
     "text": [
      "\n",
      "1 occultations found.\n",
      "Ephemeris was split in 1 parts for better search of stars\n",
      "\n",
      "Searching occultations in part 1/1\n",
      "Generating Ephemeris between 2020-12-23 00:00:00.000 and 2020-12-24 23:59:00.000 ...\n",
      "Downloading stars ...\n",
      "    6 GaiaDR3 stars downloaded\n",
      "Identifying occultations ...\n"
     ]
    },
    {
     "name": "stderr",
     "output_type": "stream",
     "text": [
      "WARNING: AstropyDeprecationWarning: The get_moon function is deprecated and may be removed in a future version.\n",
      "        Use get_body(\"moon\") instead. [sora.prediction.table]\n",
      "WARNING: NonRotationTransformationWarning: transforming other coordinates from <ICRS Frame> to <GCRS Frame (obstime=['2020-12-24 10:15:55.860'], obsgeoloc=(0., 0., 0.) m, obsgeovel=(0., 0., 0.) m / s)>. Angular separation can depend on the direction of the transformation. [astropy.coordinates.baseframe]\n",
      "WARNING: NonRotationTransformationWarning: transforming other coordinates from <ICRS Frame> to <GCRS Frame (obstime=['2020-12-24 10:15:55.860'], obsgeoloc=(0., 0., 0.) m, obsgeovel=(0., 0., 0.) m / s)>. Angular separation can depend on the direction of the transformation. [astropy.coordinates.baseframe]\n"
     ]
    },
    {
     "name": "stdout",
     "output_type": "stream",
     "text": [
      "\n",
      "1 occultations found.\n",
      "Ephemeris was split in 1 parts for better search of stars\n",
      "\n",
      "Searching occultations in part 1/1\n",
      "Generating Ephemeris between 2021-12-04 00:00:00.000 and 2021-12-05 23:59:00.000 ...\n",
      "Downloading stars ...\n",
      "    9 GaiaDR3 stars downloaded\n",
      "Identifying occultations ...\n"
     ]
    },
    {
     "name": "stderr",
     "output_type": "stream",
     "text": [
      "WARNING: AstropyDeprecationWarning: The get_moon function is deprecated and may be removed in a future version.\n",
      "        Use get_body(\"moon\") instead. [sora.prediction.table]\n",
      "WARNING: NonRotationTransformationWarning: transforming other coordinates from <ICRS Frame> to <GCRS Frame (obstime=['2021-12-05 08:12:55.880'], obsgeoloc=(0., 0., 0.) m, obsgeovel=(0., 0., 0.) m / s)>. Angular separation can depend on the direction of the transformation. [astropy.coordinates.baseframe]\n",
      "WARNING: NonRotationTransformationWarning: transforming other coordinates from <ICRS Frame> to <GCRS Frame (obstime=['2021-12-05 08:12:55.880'], obsgeoloc=(0., 0., 0.) m, obsgeovel=(0., 0., 0.) m / s)>. Angular separation can depend on the direction of the transformation. [astropy.coordinates.baseframe]\n"
     ]
    },
    {
     "name": "stdout",
     "output_type": "stream",
     "text": [
      "\n",
      "1 occultations found.\n",
      "Ephemeris was split in 1 parts for better search of stars\n",
      "\n",
      "Searching occultations in part 1/1\n",
      "Generating Ephemeris between 2022-06-02 00:00:00.000 and 2022-06-03 23:59:00.000 ...\n",
      "Downloading stars ...\n",
      "    12 GaiaDR3 stars downloaded\n",
      "Identifying occultations ...\n"
     ]
    },
    {
     "name": "stderr",
     "output_type": "stream",
     "text": [
      "WARNING: AstropyDeprecationWarning: The get_moon function is deprecated and may be removed in a future version.\n",
      "        Use get_body(\"moon\") instead. [sora.prediction.table]\n",
      "WARNING: NonRotationTransformationWarning: transforming other coordinates from <ICRS Frame> to <GCRS Frame (obstime=['2022-06-03 01:42:02.340' '2022-06-03 09:18:40.540'], obsgeoloc=(0., 0., 0.) m, obsgeovel=(0., 0., 0.) m / s)>. Angular separation can depend on the direction of the transformation. [astropy.coordinates.baseframe]\n",
      "WARNING: NonRotationTransformationWarning: transforming other coordinates from <ICRS Frame> to <GCRS Frame (obstime=['2022-06-03 01:42:02.340' '2022-06-03 09:18:40.540'], obsgeoloc=(0., 0., 0.) m, obsgeovel=(0., 0., 0.) m / s)>. Angular separation can depend on the direction of the transformation. [astropy.coordinates.baseframe]\n"
     ]
    },
    {
     "name": "stdout",
     "output_type": "stream",
     "text": [
      "\n",
      "2 occultations found.\n",
      "Ephemeris was split in 1 parts for better search of stars\n",
      "\n",
      "Searching occultations in part 1/1\n",
      "Generating Ephemeris between 2023-05-13 00:00:00.000 and 2023-05-14 23:59:00.000 ...\n",
      "Downloading stars ...\n",
      "    2 GaiaDR3 stars downloaded\n",
      "Identifying occultations ...\n",
      "\n",
      "1 occultations found.\n"
     ]
    },
    {
     "name": "stderr",
     "output_type": "stream",
     "text": [
      "WARNING: AstropyDeprecationWarning: The get_moon function is deprecated and may be removed in a future version.\n",
      "        Use get_body(\"moon\") instead. [sora.prediction.table]\n",
      "WARNING: NonRotationTransformationWarning: transforming other coordinates from <ICRS Frame> to <GCRS Frame (obstime=['2023-05-14 04:41:56.500'], obsgeoloc=(0., 0., 0.) m, obsgeovel=(0., 0., 0.) m / s)>. Angular separation can depend on the direction of the transformation. [astropy.coordinates.baseframe]\n",
      "WARNING: NonRotationTransformationWarning: transforming other coordinates from <ICRS Frame> to <GCRS Frame (obstime=['2023-05-14 04:41:56.500'], obsgeoloc=(0., 0., 0.) m, obsgeovel=(0., 0., 0.) m / s)>. Angular separation can depend on the direction of the transformation. [astropy.coordinates.baseframe]\n"
     ]
    }
   ],
   "source": [
    "# get all of the occultations VERITAS observed\n",
    "imprinetta_pred     = prediction(body=imprinetta, time_beg='2018-02-21',time_end='2018-02-23',mag_lim=14)\n",
    "severny_pred        = prediction(body=severny, time_beg='2019-10-20',time_end='2019-10-22',mag_lim=14)\n",
    "yrsa_pred           = prediction(body=yrsa, time_beg='2019-10-31',time_end='2019-11-03',mag_lim=14)\n",
    "egeria_pred         = prediction(body=egeria, time_beg='2020-12-18',time_end='2020-12-20',mag_lim=14)\n",
    "bettina_pred        = prediction(body=bettina, time_beg='2020-12-23',time_end='2020-12-25',mag_lim=14)\n",
    "polyxo_pred         = prediction(body=polyxo, time_beg='2021-12-04',time_end='2021-12-06',mag_lim=14)\n",
    "lehigh_pred         = prediction(body=lehigh, time_beg='2022-06-02',time_end='2022-06-04',mag_lim=14)\n",
    "sternberga_pred     = prediction(body=sternberga, time_beg='2023-05-13',time_end='2023-05-15',mag_lim=14)"
   ]
  },
  {
   "cell_type": "code",
   "execution_count": 18,
   "metadata": {},
   "outputs": [
    {
     "data": {
      "text/html": [
       "<i>PredictRow index=0</i>\n",
       "<table id=\"table131775291994416\">\n",
       "<thead><tr><th>Epoch</th><th>ICRS Star Coord at Epoch</th><th>Geocentric Object Position</th><th>C/A</th><th>P/A</th><th>Vel</th><th>Dist</th><th>G</th><th>long</th><th>loct</th><th>M-G-T</th><th>S-G-T</th><th>GaiaDR3 Source ID</th></tr></thead>\n",
       "<thead><tr><th></th><th></th><th></th><th>arcsec</th><th>deg</th><th>km / s</th><th>AU</th><th>mag</th><th>deg</th><th>hh:mm</th><th>deg</th><th>deg</th><th></th></tr></thead>\n",
       "<thead><tr><th>object</th><th>object</th><th>object</th><th>float64</th><th>float64</th><th>float64</th><th>float64</th><th>float64</th><th>float64</th><th>str5</th><th>float64</th><th>float64</th><th>str18</th></tr></thead>\n",
       "<tr><td>2023-05-14 04:41:56.500</td><td>08 48 41.90350 +05 07 41.58695</td><td>08 48 41.90031 +05 07 42.90090</td><td>1.315</td><td>357.92</td><td>20.51</td><td>3.041</td><td>11.579</td><td>190</td><td>17:21</td><td>145</td><td>81</td><td>582680075402278528</td></tr>\n",
       "</table>"
      ],
      "text/plain": [
       "<PredictRow index=0>\n",
       "         Epoch             ICRS Star Coord at Epoch      Geocentric Object Position     C/A     P/A     Vel     Dist     G      long   loct  M-G-T   S-G-T  GaiaDR3 Source ID \n",
       "                                                                                       arcsec   deg    km / s    AU     mag     deg   hh:mm   deg     deg                     \n",
       "         object                     object                         object             float64 float64 float64 float64 float64 float64  str5 float64 float64       str18       \n",
       "----------------------- ------------------------------ ------------------------------ ------- ------- ------- ------- ------- ------- ----- ------- ------- ------------------\n",
       "2023-05-14 04:41:56.500 08 48 41.90350 +05 07 41.58695 08 48 41.90031 +05 07 42.90090   1.315  357.92   20.51   3.041  11.579     190 17:21     145      81 582680075402278528"
      ]
     },
     "execution_count": 18,
     "metadata": {},
     "output_type": "execute_result"
    }
   ],
   "source": [
    "# select the correct occultations from each event\n",
    "imprinetta_pred[\"2018-02-22 11:24:54.660\"]\n",
    "severny_pred['2019-10-21 09:35:39.820']\n",
    "yrsa_pred[\"2019-11-01 02:26:22.540\"]\n",
    "egeria_pred[\"2020-12-19 06:13:50.680\"]\n",
    "bettina_pred[\"2020-12-24 10:15:55.860\"]\n",
    "polyxo_pred[\"2021-12-05 08:12:55.880\"]\n",
    "lehigh_pred[\"2022-06-03 09:18:40.54\"]\n",
    "sternberga_pred[\"2023-05-14 04:41:56.500\"]"
   ]
  },
  {
   "cell_type": "code",
   "execution_count": null,
   "metadata": {},
   "outputs": [
    {
     "data": {
      "text/html": [
       "<i>PredictRow index=0</i>\n",
       "<table id=\"table131259392690304\">\n",
       "<thead><tr><th>Epoch</th><th>ICRS Star Coord at Epoch</th><th>Geocentric Object Position</th><th>C/A</th><th>P/A</th><th>Vel</th><th>Dist</th><th>G</th><th>long</th><th>loct</th><th>M-G-T</th><th>S-G-T</th><th>GaiaDR3 Source ID</th></tr></thead>\n",
       "<thead><tr><th></th><th></th><th></th><th>arcsec</th><th>deg</th><th>km / s</th><th>AU</th><th>mag</th><th>deg</th><th>hh:mm</th><th>deg</th><th>deg</th><th></th></tr></thead>\n",
       "<thead><tr><th>object</th><th>object</th><th>object</th><th>float64</th><th>float64</th><th>float64</th><th>float64</th><th>float64</th><th>float64</th><th>str5</th><th>float64</th><th>float64</th><th>str18</th></tr></thead>\n",
       "<tr><td>2020-12-24 10:15:55.860</td><td>04 00 37.75735 +35 52 56.50355</td><td>04 00 37.74891 +35 52 56.96813</td><td>0.476</td><td>347.55</td><td>-8.46</td><td>1.856</td><td>10.350</td><td>173</td><td>21:47</td><td>40</td><td>149</td><td>219334294660438528</td></tr>\n",
       "</table>"
      ],
      "text/plain": [
       "<PredictRow index=0>\n",
       "         Epoch             ICRS Star Coord at Epoch      Geocentric Object Position     C/A     P/A     Vel     Dist     G      long   loct  M-G-T   S-G-T  GaiaDR3 Source ID \n",
       "                                                                                       arcsec   deg    km / s    AU     mag     deg   hh:mm   deg     deg                     \n",
       "         object                     object                         object             float64 float64 float64 float64 float64 float64  str5 float64 float64       str18       \n",
       "----------------------- ------------------------------ ------------------------------ ------- ------- ------- ------- ------- ------- ----- ------- ------- ------------------\n",
       "2020-12-24 10:15:55.860 04 00 37.75735 +35 52 56.50355 04 00 37.74891 +35 52 56.96813   0.476  347.55   -8.46   1.856  10.350     173 21:47      40     149 219334294660438528"
      ]
     },
     "execution_count": 55,
     "metadata": {},
     "output_type": "execute_result"
    }
   ],
   "source": [
    "# Bettina parameters\n",
    "bettina_pred[\"2020-12-24 10:15:55.860\"]"
   ]
  },
  {
   "cell_type": "code",
   "execution_count": null,
   "metadata": {},
   "outputs": [
    {
     "data": {
      "text/html": [
       "<i>PredictRow index=0</i>\n",
       "<table id=\"table131257926855424\">\n",
       "<thead><tr><th>Epoch</th><th>ICRS Star Coord at Epoch</th><th>Geocentric Object Position</th><th>C/A</th><th>P/A</th><th>Vel</th><th>Dist</th><th>G</th><th>long</th><th>loct</th><th>M-G-T</th><th>S-G-T</th><th>GaiaDR3 Source ID</th></tr></thead>\n",
       "<thead><tr><th></th><th></th><th></th><th>arcsec</th><th>deg</th><th>km / s</th><th>AU</th><th>mag</th><th>deg</th><th>hh:mm</th><th>deg</th><th>deg</th><th></th></tr></thead>\n",
       "<thead><tr><th>object</th><th>object</th><th>object</th><th>float64</th><th>float64</th><th>float64</th><th>float64</th><th>float64</th><th>float64</th><th>str5</th><th>float64</th><th>float64</th><th>str18</th></tr></thead>\n",
       "<tr><td>2020-12-19 06:13:50.680</td><td>05 55 35.54739 +43 26 22.68355</td><td>05 55 35.49285 +43 26 21.14913</td><td>1.645</td><td>201.16</td><td>-11.52</td><td>1.440</td><td>11.189</td><td>267</td><td>00:02</td><td>123</td><td>160</td><td>193323800915713024</td></tr>\n",
       "</table>"
      ],
      "text/plain": [
       "<PredictRow index=0>\n",
       "         Epoch             ICRS Star Coord at Epoch      Geocentric Object Position     C/A     P/A     Vel     Dist     G      long   loct  M-G-T   S-G-T  GaiaDR3 Source ID \n",
       "                                                                                       arcsec   deg    km / s    AU     mag     deg   hh:mm   deg     deg                     \n",
       "         object                     object                         object             float64 float64 float64 float64 float64 float64  str5 float64 float64       str18       \n",
       "----------------------- ------------------------------ ------------------------------ ------- ------- ------- ------- ------- ------- ----- ------- ------- ------------------\n",
       "2020-12-19 06:13:50.680 05 55 35.54739 +43 26 22.68355 05 55 35.49285 +43 26 21.14913   1.645  201.16  -11.52   1.440  11.189     267 00:02     123     160 193323800915713024"
      ]
     },
     "execution_count": 56,
     "metadata": {},
     "output_type": "execute_result"
    }
   ],
   "source": [
    "# Egeria parameters\n",
    "egeria_pred[\"2020-12-19 06:13:50.680\"]"
   ]
  },
  {
   "cell_type": "code",
   "execution_count": null,
   "metadata": {},
   "outputs": [
    {
     "name": "stdout",
     "output_type": "stream",
     "text": [
      "figures/predictions/Bettina_20201224_map.png generated\n"
     ]
    }
   ],
   "source": [
    "bettina_pred[\"2020-12-24 10:15:55.860\"].plot_occ_map(nameimg='figures/predictions/Bettina_20201224_map')"
   ]
  },
  {
   "cell_type": "code",
   "execution_count": null,
   "metadata": {},
   "outputs": [
    {
     "name": "stdout",
     "output_type": "stream",
     "text": [
      "1 GaiaDR3 star found band={'G': 10.350464}\n",
      "star coordinate at J2016.0: RA=4h00m37.76061s +/- 0.0189 mas, DEC=35d52m56.5507s +/- 0.0127 mas\n",
      "\n",
      "Downloading star parameters from I/297/out\n"
     ]
    }
   ],
   "source": [
    "# calculated the exact occultation values at the time and location of the occultation\n",
    "bettina_time = Time(\"2020-12-24 10:15:55.860\")\n",
    "bettina_ephem = EphemHorizons(name='Bettina')\n",
    "bettina_star = Star(catalogue='gaiadr3', code='219334294660438528')"
   ]
  },
  {
   "cell_type": "code",
   "execution_count": null,
   "metadata": {},
   "outputs": [
    {
     "name": "stdout",
     "output_type": "stream",
     "text": [
      "Occultation of Bettina by TYC 2369-02140-1 over VERITAS\n",
      "--------------------------------------------------------\n",
      "Time of closest approach: 2020-12-24 10:05:09.900\n",
      "Distance of closest approach: 0.011647189748489786 arcsec \n",
      "Position angle of closest approach: 346.3017259953651 deg\n",
      "Velocity of occultation shadow: -8.615259151767532 km / s \n",
      "Distance to the occulting body: 277718113.42636544 km\n"
     ]
    }
   ],
   "source": [
    "time_of_closest_approach, distance_of_closest_approach, position_angle_of_closest_approach, velocity_shadow, distance_to_object = occ_params(star=bettina_star, ephem=bettina_ephem, time=bettina_time, max_tdiff=600, reference_center=VERITAS)\n",
    "\n",
    "print(\"Occultation of Bettina by TYC 2369-02140-1 over VERITAS\")\n",
    "print(\"--------------------------------------------------------\")\n",
    "print(f\"Time of closest approach: {time_of_closest_approach}\")\n",
    "print(f\"Distance of closest approach: {distance_of_closest_approach} \")\n",
    "print(f\"Position angle of closest approach: {position_angle_of_closest_approach}\")\n",
    "print(f\"Velocity of occultation shadow: {velocity_shadow} \")\n",
    "print(f\"Distance to the occulting body: {distance_to_object.to(u.km)}\")\n"
   ]
  },
  {
   "cell_type": "code",
   "execution_count": null,
   "metadata": {},
   "outputs": [
    {
     "ename": "NameError",
     "evalue": "name 'severny_pred' is not defined",
     "output_type": "error",
     "traceback": [
      "\u001b[0;31m---------------------------------------------------------------------------\u001b[0m",
      "\u001b[0;31mNameError\u001b[0m                                 Traceback (most recent call last)",
      "Cell \u001b[0;32mIn[111], line 1\u001b[0m\n\u001b[0;32m----> 1\u001b[0m \u001b[43mseverny_pred\u001b[49m[\u001b[38;5;124m'\u001b[39m\u001b[38;5;124m2019-10-21 09:35:39.820\u001b[39m\u001b[38;5;124m'\u001b[39m]\n",
      "\u001b[0;31mNameError\u001b[0m: name 'severny_pred' is not defined"
     ]
    }
   ],
   "source": [
    "severny_pred['2019-10-21 09:35:39.820']"
   ]
  },
  {
   "cell_type": "code",
   "execution_count": null,
   "metadata": {},
   "outputs": [
    {
     "data": {
      "text/html": [
       "<i>PredictRow index=1</i>\n",
       "<table id=\"table131776756238080\">\n",
       "<thead><tr><th>Epoch</th><th>ICRS Star Coord at Epoch</th><th>Geocentric Object Position</th><th>C/A</th><th>P/A</th><th>Vel</th><th>Dist</th><th>G</th><th>long</th><th>loct</th><th>M-G-T</th><th>S-G-T</th><th>GaiaDR3 Source ID</th></tr></thead>\n",
       "<thead><tr><th></th><th></th><th></th><th>arcsec</th><th>deg</th><th>km / s</th><th>AU</th><th>mag</th><th>deg</th><th>hh:mm</th><th>deg</th><th>deg</th><th></th></tr></thead>\n",
       "<thead><tr><th>object</th><th>object</th><th>object</th><th>float64</th><th>float64</th><th>float64</th><th>float64</th><th>float64</th><th>float64</th><th>str5</th><th>float64</th><th>float64</th><th>str19</th></tr></thead>\n",
       "<tr><td>2022-06-03 09:18:40.540</td><td>16 58 20.27066 -18 10 35.08829</td><td>16 58 20.24743 -18 10 32.45048</td><td>2.658</td><td>352.85</td><td>-14.36</td><td>2.253</td><td>12.139</td><td>223</td><td>00:11</td><td>139</td><td>175</td><td>4129613739470860928</td></tr>\n",
       "</table>"
      ],
      "text/plain": [
       "<PredictRow index=1>\n",
       "         Epoch             ICRS Star Coord at Epoch      Geocentric Object Position     C/A     P/A     Vel     Dist     G      long   loct  M-G-T   S-G-T   GaiaDR3 Source ID \n",
       "                                                                                       arcsec   deg    km / s    AU     mag     deg   hh:mm   deg     deg                      \n",
       "         object                     object                         object             float64 float64 float64 float64 float64 float64  str5 float64 float64        str19       \n",
       "----------------------- ------------------------------ ------------------------------ ------- ------- ------- ------- ------- ------- ----- ------- ------- -------------------\n",
       "2022-06-03 09:18:40.540 16 58 20.27066 -18 10 35.08829 16 58 20.24743 -18 10 32.45048   2.658  352.85  -14.36   2.253  12.139     223 00:11     139     175 4129613739470860928"
      ]
     },
     "execution_count": 19,
     "metadata": {},
     "output_type": "execute_result"
    }
   ],
   "source": [
    "lehigh_pred[\"2022-06-03 09:18:40.54\"]"
   ]
  },
  {
   "cell_type": "code",
   "execution_count": 20,
   "metadata": {},
   "outputs": [
    {
     "name": "stdout",
     "output_type": "stream",
     "text": [
      "1 GaiaDR3 star found band={'G': 12.138798}\n",
      "star coordinate at J2016.0: RA=16h58m20.27341s +/- 0.0138 mas, DEC=-18d10m35.0601s +/- 0.0094 mas\n",
      "\n",
      "Downloading star parameters from I/297/out\n",
      "Magnitudes in ['V'] were not located in NOMAD\n"
     ]
    }
   ],
   "source": [
    "# calculated the exact occultation values at the time and location of the occultation\n",
    "lehigh_time = Time(\"2022-06-03 09:18:40.540\")\n",
    "lehigh_ephem = EphemHorizons(name='Lehigh')\n",
    "lehigh_star = Star(catalogue='gaiadr3', code='4129613739470860928')"
   ]
  },
  {
   "cell_type": "code",
   "execution_count": 21,
   "metadata": {},
   "outputs": [
    {
     "name": "stdout",
     "output_type": "stream",
     "text": [
      "Occultation of Lehigh over VERITAS\n",
      "--------------------------------------------------------\n",
      "Time of closest approach: 2022-06-03 09:15:21.640\n",
      "Distance of closest approach: 0.02133962452091488 arcsec \n",
      "Position angle of closest approach: 173.12515885407635 deg\n",
      "Velocity of occultation shadow: -14.706341962985057 km / s \n",
      "Distance to the occulting body: 337034001.5400557 km\n"
     ]
    }
   ],
   "source": [
    "time_of_closest_approach, distance_of_closest_approach, position_angle_of_closest_approach, velocity_shadow, distance_to_object = occ_params(star=lehigh_star, ephem=lehigh_ephem, time=lehigh_time, max_tdiff=600, reference_center=VERITAS)\n",
    "\n",
    "print(\"Occultation of Lehigh over VERITAS\")\n",
    "print(\"--------------------------------------------------------\")\n",
    "print(f\"Time of closest approach: {time_of_closest_approach}\")\n",
    "print(f\"Distance of closest approach: {distance_of_closest_approach} \")\n",
    "print(f\"Position angle of closest approach: {position_angle_of_closest_approach}\")\n",
    "print(f\"Velocity of occultation shadow: {velocity_shadow} \")\n",
    "print(f\"Distance to the occulting body: {distance_to_object.to(u.km)}\")"
   ]
  },
  {
   "cell_type": "code",
   "execution_count": 22,
   "metadata": {},
   "outputs": [
    {
     "data": {
      "text/html": [
       "<i>PredictRow index=0</i>\n",
       "<table id=\"table131775197128896\">\n",
       "<thead><tr><th>Epoch</th><th>ICRS Star Coord at Epoch</th><th>Geocentric Object Position</th><th>C/A</th><th>P/A</th><th>Vel</th><th>Dist</th><th>G</th><th>long</th><th>loct</th><th>M-G-T</th><th>S-G-T</th><th>GaiaDR3 Source ID</th></tr></thead>\n",
       "<thead><tr><th></th><th></th><th></th><th>arcsec</th><th>deg</th><th>km / s</th><th>AU</th><th>mag</th><th>deg</th><th>hh:mm</th><th>deg</th><th>deg</th><th></th></tr></thead>\n",
       "<thead><tr><th>object</th><th>object</th><th>object</th><th>float64</th><th>float64</th><th>float64</th><th>float64</th><th>float64</th><th>float64</th><th>str5</th><th>float64</th><th>float64</th><th>str19</th></tr></thead>\n",
       "<tr><td>2021-12-05 08:12:55.880</td><td>04 48 46.84112 +16 02 46.90153</td><td>04 48 46.82895 +16 02 48.05239</td><td>1.164</td><td>351.33</td><td>-12.80</td><td>1.847</td><td>11.410</td><td>235</td><td>23:51</td><td>163</td><td>174</td><td>3405131371706544256</td></tr>\n",
       "</table>"
      ],
      "text/plain": [
       "<PredictRow index=0>\n",
       "         Epoch             ICRS Star Coord at Epoch      Geocentric Object Position     C/A     P/A     Vel     Dist     G      long   loct  M-G-T   S-G-T   GaiaDR3 Source ID \n",
       "                                                                                       arcsec   deg    km / s    AU     mag     deg   hh:mm   deg     deg                      \n",
       "         object                     object                         object             float64 float64 float64 float64 float64 float64  str5 float64 float64        str19       \n",
       "----------------------- ------------------------------ ------------------------------ ------- ------- ------- ------- ------- ------- ----- ------- ------- -------------------\n",
       "2021-12-05 08:12:55.880 04 48 46.84112 +16 02 46.90153 04 48 46.82895 +16 02 48.05239   1.164  351.33  -12.80   1.847  11.410     235 23:51     163     174 3405131371706544256"
      ]
     },
     "execution_count": 22,
     "metadata": {},
     "output_type": "execute_result"
    }
   ],
   "source": [
    "polyxo_pred[\"2021-12-05 08:12:55.880\"]"
   ]
  },
  {
   "cell_type": "code",
   "execution_count": 23,
   "metadata": {},
   "outputs": [
    {
     "name": "stdout",
     "output_type": "stream",
     "text": [
      "1 GaiaDR3 star found band={'G': 11.41042}\n",
      "star coordinate at J2016.0: RA=4h48m46.83985s +/- 0.0182 mas, DEC=16d02m46.9350s +/- 0.0095 mas\n",
      "\n",
      "Downloading star parameters from I/297/out\n",
      "Magnitudes in ['V'] were not located in NOMAD\n"
     ]
    }
   ],
   "source": [
    "# calculated the exact occultation values at the time and location of the occultation\n",
    "polyxo_time = Time(\"2021-12-05 08:12:55.880\")\n",
    "polyxo_ephem = EphemHorizons(name='Polyxo')\n",
    "polyxo_star = Star(catalogue='gaiadr3', code='3405131371706544256')"
   ]
  },
  {
   "cell_type": "code",
   "execution_count": 24,
   "metadata": {},
   "outputs": [
    {
     "name": "stdout",
     "output_type": "stream",
     "text": [
      "Occultation of Polyxo over VERITAS\n",
      "--------------------------------------------------------\n",
      "Time of closest approach: 2021-12-05 08:10:56.760\n",
      "Distance of closest approach: 0.024058667588989766 arcsec \n",
      "Position angle of closest approach: 351.4619246645195 deg\n",
      "Velocity of occultation shadow: -13.18388502091863 km / s \n",
      "Distance to the occulting body: 276320045.7680598 km\n"
     ]
    }
   ],
   "source": [
    "time_of_closest_approach, distance_of_closest_approach, position_angle_of_closest_approach, velocity_shadow, distance_to_object = occ_params(star=polyxo_star, ephem=polyxo_ephem, time=polyxo_time, max_tdiff=600, reference_center=VERITAS)\n",
    "\n",
    "print(\"Occultation of Polyxo over VERITAS\")\n",
    "print(\"--------------------------------------------------------\")\n",
    "print(f\"Time of closest approach: {time_of_closest_approach}\")\n",
    "print(f\"Distance of closest approach: {distance_of_closest_approach} \")\n",
    "print(f\"Position angle of closest approach: {position_angle_of_closest_approach}\")\n",
    "print(f\"Velocity of occultation shadow: {velocity_shadow} \")\n",
    "print(f\"Distance to the occulting body: {distance_to_object.to(u.km)}\")"
   ]
  },
  {
   "cell_type": "code",
   "execution_count": 25,
   "metadata": {},
   "outputs": [
    {
     "data": {
      "text/html": [
       "<i>PredictRow index=0</i>\n",
       "<table id=\"table131775197132544\">\n",
       "<thead><tr><th>Epoch</th><th>ICRS Star Coord at Epoch</th><th>Geocentric Object Position</th><th>C/A</th><th>P/A</th><th>Vel</th><th>Dist</th><th>G</th><th>long</th><th>loct</th><th>M-G-T</th><th>S-G-T</th><th>GaiaDR3 Source ID</th></tr></thead>\n",
       "<thead><tr><th></th><th></th><th></th><th>arcsec</th><th>deg</th><th>km / s</th><th>AU</th><th>mag</th><th>deg</th><th>hh:mm</th><th>deg</th><th>deg</th><th></th></tr></thead>\n",
       "<thead><tr><th>object</th><th>object</th><th>object</th><th>float64</th><th>float64</th><th>float64</th><th>float64</th><th>float64</th><th>float64</th><th>str5</th><th>float64</th><th>float64</th><th>str19</th></tr></thead>\n",
       "<tr><td>2019-11-01 02:26:22.540</td><td>19 24 55.91120 -26 01 31.03889</td><td>19 25 19.84353 -26 00 49.14284</td><td>1.848</td><td>352.94</td><td>24.76</td><td>3.374</td><td>9.469</td><td>215</td><td>16:44</td><td>20</td><td>71</td><td>6766466231748780160</td></tr>\n",
       "</table>"
      ],
      "text/plain": [
       "<PredictRow index=0>\n",
       "         Epoch             ICRS Star Coord at Epoch      Geocentric Object Position     C/A     P/A     Vel     Dist     G      long   loct  M-G-T   S-G-T   GaiaDR3 Source ID \n",
       "                                                                                       arcsec   deg    km / s    AU     mag     deg   hh:mm   deg     deg                      \n",
       "         object                     object                         object             float64 float64 float64 float64 float64 float64  str5 float64 float64        str19       \n",
       "----------------------- ------------------------------ ------------------------------ ------- ------- ------- ------- ------- ------- ----- ------- ------- -------------------\n",
       "2019-11-01 02:26:22.540 19 24 55.91120 -26 01 31.03889 19 25 19.84353 -26 00 49.14284   1.848  352.94   24.76   3.374   9.469     215 16:44      20      71 6766466231748780160"
      ]
     },
     "execution_count": 25,
     "metadata": {},
     "output_type": "execute_result"
    }
   ],
   "source": [
    "yrsa_pred[\"2019-11-01 02:26:22.540\"]"
   ]
  },
  {
   "cell_type": "code",
   "execution_count": 26,
   "metadata": {},
   "outputs": [
    {
     "name": "stdout",
     "output_type": "stream",
     "text": [
      "1 GaiaDR3 star found band={'G': 9.468946}\n",
      "star coordinate at J2016.0: RA=19h24m55.91153s +/- 0.0178 mas, DEC=-26d01m31.0263s +/- 0.0164 mas\n",
      "\n",
      "Downloading star parameters from I/297/out\n"
     ]
    }
   ],
   "source": [
    "# calculated the exact occultation values at the time and location of the occultation\n",
    "yrsa_time = Time(\"2019-11-01 02:26:22.540\")\n",
    "yrsa_ephem = EphemHorizons(name='Yrsa')\n",
    "yrsa_star = Star(catalogue='gaiadr3', code='6766466231748780160')"
   ]
  },
  {
   "cell_type": "code",
   "execution_count": 27,
   "metadata": {},
   "outputs": [
    {
     "name": "stdout",
     "output_type": "stream",
     "text": [
      "Occultation of Yrsa over VERITAS\n",
      "--------------------------------------------------------\n",
      "Time of closest approach: 2019-11-01 02:28:51.840\n",
      "Distance of closest approach: 0.0005029288022564492 arcsec \n",
      "Position angle of closest approach: 183.57748030628323 deg\n",
      "Velocity of occultation shadow: 24.451863114986562 km / s \n",
      "Distance to the occulting body: 504775418.55482376 km\n"
     ]
    }
   ],
   "source": [
    "time_of_closest_approach, distance_of_closest_approach, position_angle_of_closest_approach, velocity_shadow, distance_to_object = occ_params(star=yrsa_star, ephem=yrsa_ephem, time=yrsa_time, max_tdiff=600, reference_center=VERITAS)\n",
    "\n",
    "print(\"Occultation of Yrsa over VERITAS\")\n",
    "print(\"--------------------------------------------------------\")\n",
    "print(f\"Time of closest approach: {time_of_closest_approach}\")\n",
    "print(f\"Distance of closest approach: {distance_of_closest_approach} \")\n",
    "print(f\"Position angle of closest approach: {position_angle_of_closest_approach}\")\n",
    "print(f\"Velocity of occultation shadow: {velocity_shadow} \")\n",
    "print(f\"Distance to the occulting body: {distance_to_object.to(u.km)}\")"
   ]
  },
  {
   "cell_type": "code",
   "execution_count": null,
   "metadata": {},
   "outputs": [],
   "source": []
  }
 ],
 "metadata": {
  "kernelspec": {
   "display_name": "mySORA_env",
   "language": "python",
   "name": "python3"
  },
  "language_info": {
   "codemirror_mode": {
    "name": "ipython",
    "version": 3
   },
   "file_extension": ".py",
   "mimetype": "text/x-python",
   "name": "python",
   "nbconvert_exporter": "python",
   "pygments_lexer": "ipython3",
   "version": "3.10.12"
  }
 },
 "nbformat": 4,
 "nbformat_minor": 2
}
